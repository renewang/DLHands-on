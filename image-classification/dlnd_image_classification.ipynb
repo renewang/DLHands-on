{
 "cells": [
  {
   "cell_type": "markdown",
   "metadata": {
    "collapsed": true,
    "deletable": true,
    "editable": true
   },
   "source": [
    "# Image Classification\n",
    "In this project, you'll classify images from the [CIFAR-10 dataset](https://www.cs.toronto.edu/~kriz/cifar.html).  The dataset consists of airplanes, dogs, cats, and other objects. You'll preprocess the images, then train a convolutional neural network on all the samples. The images need to be normalized and the labels need to be one-hot encoded.  You'll get to apply what you learned and build a convolutional, max pooling, dropout, and fully connected layers.  At the end, you'll get to see your neural network's predictions on the sample images.\n",
    "## Get the Data\n",
    "Run the following cell to download the [CIFAR-10 dataset for python](https://www.cs.toronto.edu/~kriz/cifar-10-python.tar.gz)."
   ]
  },
  {
   "cell_type": "code",
   "execution_count": 119,
   "metadata": {
    "collapsed": false,
    "deletable": true,
    "editable": true
   },
   "outputs": [
    {
     "name": "stdout",
     "output_type": "stream",
     "text": [
      "All files found!\n"
     ]
    }
   ],
   "source": [
    "\"\"\"\n",
    "DON'T MODIFY ANYTHING IN THIS CELL THAT IS BELOW THIS LINE\n",
    "\"\"\"\n",
    "from urllib.request import urlretrieve\n",
    "from os.path import isfile, isdir\n",
    "from tqdm import tqdm\n",
    "import problem_unittests as tests\n",
    "import tarfile\n",
    "\n",
    "cifar10_dataset_folder_path = 'cifar-10-batches-py'\n",
    "\n",
    "class DLProgress(tqdm):\n",
    "    last_block = 0\n",
    "\n",
    "    def hook(self, block_num=1, block_size=1, total_size=None):\n",
    "        self.total = total_size\n",
    "        self.update((block_num - self.last_block) * block_size)\n",
    "        self.last_block = block_num\n",
    "\n",
    "if not isfile('cifar-10-python.tar.gz'):\n",
    "    with DLProgress(unit='B', unit_scale=True, miniters=1, desc='CIFAR-10 Dataset') as pbar:\n",
    "        urlretrieve(\n",
    "            'https://www.cs.toronto.edu/~kriz/cifar-10-python.tar.gz',\n",
    "            'cifar-10-python.tar.gz',\n",
    "            pbar.hook)\n",
    "\n",
    "if not isdir(cifar10_dataset_folder_path):\n",
    "    with tarfile.open('cifar-10-python.tar.gz') as tar:\n",
    "        tar.extractall()\n",
    "        tar.close()\n",
    "\n",
    "\n",
    "tests.test_folder_path(cifar10_dataset_folder_path)"
   ]
  },
  {
   "cell_type": "markdown",
   "metadata": {
    "deletable": true,
    "editable": true
   },
   "source": [
    "## Explore the Data\n",
    "The dataset is broken into batches to prevent your machine from running out of memory.  The CIFAR-10 dataset consists of 5 batches, named `data_batch_1`, `data_batch_2`, etc.. Each batch contains the labels and images that are one of the following:\n",
    "* airplane\n",
    "* automobile\n",
    "* bird\n",
    "* cat\n",
    "* deer\n",
    "* dog\n",
    "* frog\n",
    "* horse\n",
    "* ship\n",
    "* truck\n",
    "\n",
    "Understanding a dataset is part of making predictions on the data.  Play around with the code cell below by changing the `batch_id` and `sample_id`. The `batch_id` is the id for a batch (1-5). The `sample_id` is the id for a image and label pair in the batch.\n",
    "\n",
    "Ask yourself \"What are all possible labels?\", \"What is the range of values for the image data?\", \"Are the labels in order or random?\".  Answers to questions like these will help you preprocess the data and end up with better predictions."
   ]
  },
  {
   "cell_type": "code",
   "execution_count": 120,
   "metadata": {
    "collapsed": false,
    "deletable": true,
    "editable": true
   },
   "outputs": [
    {
     "name": "stdout",
     "output_type": "stream",
     "text": [
      "\n",
      "Stats of batch 5:\n",
      "Samples: 10000\n",
      "Label Counts: {0: 1014, 1: 1014, 2: 952, 3: 1016, 4: 997, 5: 1025, 6: 980, 7: 977, 8: 1003, 9: 1022}\n",
      "First 20 Labels: [1, 8, 5, 1, 5, 7, 4, 3, 8, 2, 7, 2, 0, 1, 5, 9, 6, 2, 0, 8]\n",
      "\n",
      "Example of Image 5:\n",
      "Image - Min Value: 1 Max Value: 255\n",
      "Image - Shape: (32, 32, 3)\n",
      "Label - Label Id: 7 Name: horse\n"
     ]
    },
    {
     "data": {
      "image/png": "[encoded data removed]",
      "text/plain": [
       "<matplotlib.figure.Figure at 0x7f24d4122a20>"
      ]
     },
     "metadata": {
      "image/png": {
       "height": 250,
       "width": 253
      }
     },
     "output_type": "display_data"
    }
   ],
   "source": [
    "%matplotlib inline\n",
    "%config InlineBackend.figure_format = 'retina'\n",
    "\n",
    "import helper\n",
    "import numpy as np\n",
    "\n",
    "# Explore the dataset\n",
    "batch_id = 5\n",
    "sample_id = 5\n",
    "helper.display_stats(cifar10_dataset_folder_path, batch_id, sample_id)"
   ]
  },
  {
   "cell_type": "markdown",
   "metadata": {
    "deletable": true,
    "editable": true
   },
   "source": [
    "## Implement Preprocess Functions\n",
    "### Normalize\n",
    "In the cell below, implement the `normalize` function to take in image data, `x`, and return it as a normalized Numpy array. The values should be in the range of 0 to 1, inclusive.  The return object should be the same shape as `x`."
   ]
  },
  {
   "cell_type": "code",
   "execution_count": 121,
   "metadata": {
    "collapsed": false,
    "deletable": true,
    "editable": true
   },
   "outputs": [
    {
     "name": "stdout",
     "output_type": "stream",
     "text": [
      "Tests Passed\n"
     ]
    }
   ],
   "source": [
    "def normalize(x):\n",
    "    \"\"\"\n",
    "    Normalize a list of sample image data in the range of 0 to 1\n",
    "    : x: List of image data.  The image shape is (32, 32, 3)\n",
    "    : return: Numpy array of normalize data\n",
    "    \"\"\"\n",
    "    return x / 255\n",
    "\n",
    "\n",
    "\"\"\"\n",
    "DON'T MODIFY ANYTHING IN THIS CELL THAT IS BELOW THIS LINE\n",
    "\"\"\"\n",
    "tests.test_normalize(normalize)"
   ]
  },
  {
   "cell_type": "markdown",
   "metadata": {
    "deletable": true,
    "editable": true
   },
   "source": [
    "### One-hot encode\n",
    "Just like the previous code cell, you'll be implementing a function for preprocessing.  This time, you'll implement the `one_hot_encode` function. The input, `x`, are a list of labels.  Implement the function to return the list of labels as One-Hot encoded Numpy array.  The possible values for labels are 0 to 9. The one-hot encoding function should return the same encoding for each value between each call to `one_hot_encode`.  Make sure to save the map of encodings outside the function.\n",
    "\n",
    "Hint: Don't reinvent the wheel."
   ]
  },
  {
   "cell_type": "code",
   "execution_count": 122,
   "metadata": {
    "collapsed": false,
    "deletable": true,
    "editable": true
   },
   "outputs": [
    {
     "name": "stdout",
     "output_type": "stream",
     "text": [
      "Tests Passed\n"
     ]
    }
   ],
   "source": [
    "def one_hot_encode(x):\n",
    "    \"\"\"\n",
    "    One hot encode a list of sample labels. Return a one-hot encoded vector for each label.\n",
    "    : x: List of sample Labels\n",
    "    : return: Numpy array of one-hot encoded labels\n",
    "    \"\"\"\n",
    "    encoding = np.zeros((len(x), 10), dtype=np.int8)\n",
    "    encoding[np.arange(len(x)), x] = 1\n",
    "    return encoding\n",
    "\n",
    "\n",
    "\"\"\"\n",
    "DON'T MODIFY ANYTHING IN THIS CELL THAT IS BELOW THIS LINE\n",
    "\"\"\"\n",
    "tests.test_one_hot_encode(one_hot_encode)"
   ]
  },
  {
   "cell_type": "markdown",
   "metadata": {
    "deletable": true,
    "editable": true
   },
   "source": [
    "### Randomize Data\n",
    "As you saw from exploring the data above, the order of the samples are randomized.  It doesn't hurt to randomize it again, but you don't need to for this dataset."
   ]
  },
  {
   "cell_type": "markdown",
   "metadata": {
    "deletable": true,
    "editable": true
   },
   "source": [
    "## Preprocess all the data and save it\n",
    "Running the code cell below will preprocess all the CIFAR-10 data and save it to file. The code below also uses 10% of the training data for validation."
   ]
  },
  {
   "cell_type": "code",
   "execution_count": 123,
   "metadata": {
    "collapsed": false,
    "deletable": true,
    "editable": true
   },
   "outputs": [],
   "source": [
    "\"\"\"\n",
    "DON'T MODIFY ANYTHING IN THIS CELL\n",
    "\"\"\"\n",
    "# Preprocess Training, Validation, and Testing Data\n",
    "helper.preprocess_and_save_data(cifar10_dataset_folder_path, normalize, one_hot_encode)"
   ]
  },
  {
   "cell_type": "markdown",
   "metadata": {
    "deletable": true,
    "editable": true
   },
   "source": [
    "# Check Point\n",
    "This is your first checkpoint.  If you ever decide to come back to this notebook or have to restart the notebook, you can start from here.  The preprocessed data has been saved to disk."
   ]
  },
  {
   "cell_type": "code",
   "execution_count": 124,
   "metadata": {
    "collapsed": true,
    "deletable": true,
    "editable": true
   },
   "outputs": [],
   "source": [
    "\"\"\"\n",
    "DON'T MODIFY ANYTHING IN THIS CELL\n",
    "\"\"\"\n",
    "import pickle\n",
    "import problem_unittests as tests\n",
    "import helper\n",
    "\n",
    "# Load the Preprocessed Validation data\n",
    "valid_features, valid_labels = pickle.load(open('preprocess_validation.p', mode='rb'))"
   ]
  },
  {
   "cell_type": "markdown",
   "metadata": {
    "deletable": true,
    "editable": true
   },
   "source": [
    "## Build the network\n",
    "For the neural network, you'll build each layer into a function.  Most of the code you've seen has been outside of functions. To test your code more thoroughly, we require that you put each layer in a function.  This allows us to give you better feedback and test for simple mistakes using our unittests before you submit your project.\n",
    "\n",
    "If you're finding it hard to dedicate enough time for this course a week, we've provided a small shortcut to this part of the project. In the next couple of problems, you'll have the option to use [TensorFlow Layers](https://www.tensorflow.org/api_docs/python/tf/layers) or [TensorFlow Layers (contrib)](https://www.tensorflow.org/api_guides/python/contrib.layers) to build each layer, except \"Convolutional & Max Pooling\" layer.  TF Layers is similar to Keras's and TFLearn's abstraction to layers, so it's easy to pickup.\n",
    "\n",
    "If you would like to get the most of this course, try to solve all the problems without TF Layers.  Let's begin!\n",
    "### Input\n",
    "The neural network needs to read the image data, one-hot encoded labels, and dropout keep probability. Implement the following functions\n",
    "* Implement `neural_net_image_input`\n",
    " * Return a [TF Placeholder](https://www.tensorflow.org/api_docs/python/tf/placeholder)\n",
    " * Set the shape using `image_shape` with batch size set to `None`.\n",
    " * Name the TensorFlow placeholder \"x\" using the TensorFlow `name` parameter in the [TF Placeholder](https://www.tensorflow.org/api_docs/python/tf/placeholder).\n",
    "* Implement `neural_net_label_input`\n",
    " * Return a [TF Placeholder](https://www.tensorflow.org/api_docs/python/tf/placeholder)\n",
    " * Set the shape using `n_classes` with batch size set to `None`.\n",
    " * Name the TensorFlow placeholder \"y\" using the TensorFlow `name` parameter in the [TF Placeholder](https://www.tensorflow.org/api_docs/python/tf/placeholder).\n",
    "* Implement `neural_net_keep_prob_input`\n",
    " * Return a [TF Placeholder](https://www.tensorflow.org/api_docs/python/tf/placeholder) for dropout keep probability.\n",
    " * Name the TensorFlow placeholder \"keep_prob\" using the TensorFlow `name` parameter in the [TF Placeholder](https://www.tensorflow.org/api_docs/python/tf/placeholder).\n",
    "\n",
    "These names will be used at the end of the project to load your saved model.\n",
    "\n",
    "Note: `None` for shapes in TensorFlow allow for a dynamic size."
   ]
  },
  {
   "cell_type": "code",
   "execution_count": 125,
   "metadata": {
    "collapsed": false,
    "deletable": true,
    "editable": true
   },
   "outputs": [
    {
     "name": "stdout",
     "output_type": "stream",
     "text": [
      "Image Input Tests Passed.\n",
      "Label Input Tests Passed.\n",
      "Keep Prob Tests Passed.\n"
     ]
    }
   ],
   "source": [
    "import tensorflow as tf\n",
    "\n",
    "def neural_net_image_input(image_shape):\n",
    "    \"\"\"\n",
    "    Return a Tensor for a bach of image input\n",
    "    : image_shape: Shape of the images\n",
    "    : return: Tensor for image input.\n",
    "    \"\"\"\n",
    "    # batch_size and shape from image\n",
    "    train_shape = [None] + list(image_shape)\n",
    "    x = tf.placeholder(dtype=tf.float32, shape=train_shape, name='x')\n",
    "    return x\n",
    "\n",
    "\n",
    "def neural_net_label_input(n_classes):\n",
    "    \"\"\"\n",
    "    Return a Tensor for a batch of label input\n",
    "    : n_classes: Number of classes\n",
    "    : return: Tensor for label input.\n",
    "    \"\"\"\n",
    "    y = tf.placeholder(dtype=tf.int8, shape=[None, n_classes], name='y')\n",
    "    return y\n",
    "\n",
    "\n",
    "def neural_net_keep_prob_input():\n",
    "    \"\"\"\n",
    "    Return a Tensor for keep probability\n",
    "    : return: Tensor for keep probability.\n",
    "    \"\"\"\n",
    "    keep_prob = tf.placeholder(dtype=tf.float32, name='keep_prob')\n",
    "    return keep_prob\n",
    "\n",
    "\n",
    "\"\"\"\n",
    "DON'T MODIFY ANYTHING IN THIS CELL THAT IS BELOW THIS LINE\n",
    "\"\"\"\n",
    "tf.reset_default_graph()\n",
    "tests.test_nn_image_inputs(neural_net_image_input)\n",
    "tests.test_nn_label_inputs(neural_net_label_input)\n",
    "tests.test_nn_keep_prob_inputs(neural_net_keep_prob_input)"
   ]
  },
  {
   "cell_type": "markdown",
   "metadata": {
    "deletable": true,
    "editable": true
   },
   "source": [
    "### Convolution and Max Pooling Layer\n",
    "Convolution layers have a lot of success with images. For this code cell, you should implement the function `conv2d_maxpool` to apply convolution then max pooling:\n",
    "* Create the weight and bias using `conv_ksize`, `conv_num_outputs` and the shape of `x_tensor`.\n",
    "* Apply a convolution to `x_tensor` using weight and `conv_strides`.\n",
    " * We recommend you use same padding, but you're welcome to use any padding.\n",
    "* Add bias\n",
    "* Add a nonlinear activation to the convolution.\n",
    "* Apply Max Pooling using `pool_ksize` and `pool_strides`.\n",
    " * We recommend you use same padding, but you're welcome to use any padding.\n",
    "\n",
    "Note: You **can't** use [TensorFlow Layers](https://www.tensorflow.org/api_docs/python/tf/layers) or [TensorFlow Layers (contrib)](https://www.tensorflow.org/api_guides/python/contrib.layers) for this layer.  You're free to use any TensorFlow package for all the other layers."
   ]
  },
  {
   "cell_type": "code",
   "execution_count": 126,
   "metadata": {
    "collapsed": false,
    "deletable": true,
    "editable": true
   },
   "outputs": [
    {
     "name": "stdout",
     "output_type": "stream",
     "text": [
      "Tests Passed\n"
     ]
    }
   ],
   "source": [
    "from collections import deque\n",
    "from functools import partial\n",
    "\n",
    "weight_init = partial(tf.truncated_normal, stddev=0.25)\n",
    "bias_init = partial(tf.truncated_normal, stddev=0.25)\n",
    "\n",
    "def align_shape(toalign_shapes, in_shapes):\n",
    "    shape_aligned = None\n",
    "    if len(toalign_shapes) < len(in_shapes):  # taking care the input size where x_tensor is 4D\n",
    "        shape_aligned = deque(toalign_shapes)\n",
    "    if len(in_shapes) > len(shape_aligned):\n",
    "        shape_aligned.append(1)   # adding 1 to the channel depth\n",
    "    if len(in_shapes) > len(shape_aligned):\n",
    "        shape_aligned.appendleft(1)  # adding 1 to the batch \n",
    "    return(np.asarray(shape_aligned))\n",
    "  \n",
    "def conv2d_maxpool(x_tensor, conv_num_outputs, conv_ksize, conv_strides, pool_ksize, pool_strides):\n",
    "    \"\"\"\n",
    "    Apply convolution then max pooling to x_tensor\n",
    "    :param x_tensor: TensorFlow Tensor\n",
    "    :param conv_num_outputs: Number of outputs for the convolutional layer\n",
    "    :param conv_ksize: kernel size 2-D Tuple for the convolutional layer\n",
    "    :param conv_strides: Stride 2-D Tuple for convolution\n",
    "    :param pool_ksize: kernal size 2-D Tuple for pool\n",
    "    :param pool_strides: Stride 2-D Tuple for pool\n",
    "    : return: A tensor that represents convolution and max pooling of x_tensor\n",
    "    \"\"\"\n",
    "    with tf.name_scope(\"conv2d_maxpool\") as scope:\n",
    "        with tf.name_scope(\"conv2d\"):\n",
    "            # convolute\n",
    "            in_shapes = x_tensor.shape.as_list()\n",
    "            cstrides = align_shape(conv_strides, in_shapes).tolist()\n",
    "            assert(cstrides == [1, conv_strides[0], conv_strides[1], 1])\n",
    "            w = tf.Variable(weight_init(\n",
    "              list(conv_ksize) + [in_shapes[-1]] + [conv_num_outputs]), name=\"W\")\n",
    "            assert(w.get_shape() == \n",
    "                   [conv_ksize[0], conv_ksize[1], x_tensor.get_shape().as_list()[3], conv_num_outputs])\n",
    "            b = tf.Variable(bias_init(shape=[conv_num_outputs]), name=\"b\")\n",
    "            conv_layer = tf.nn.relu(tf.nn.conv2d(x_tensor, w, strides=cstrides, padding='SAME') + b, \n",
    "                                    name=\"out\")\n",
    "        with tf.name_scope(\"maxpool\"):\n",
    "            # pooling\n",
    "            pstrides = align_shape(pool_strides, in_shapes).tolist()\n",
    "            assert(pstrides == [1, pool_strides[0], pool_strides[1], 1])\n",
    "            ksizes = align_shape(pool_ksize, in_shapes).tolist()\n",
    "            assert(ksizes == [1, pool_ksize[0], pool_ksize[1], 1])\n",
    "            pool_layer = tf.nn.max_pool(conv_layer, ksize=ksizes, strides=pstrides, padding='SAME',\n",
    "                                       name=\"out\")\n",
    "        #nn_layer = tf.nn.local_response_normalization(pool_layer, depth_radius=5, \n",
    "        #                                                alpha=0.001, bias=1, beta=0.5)\n",
    "        layer_out =  pool_layer\n",
    "        return layer_out\n",
    "\n",
    "\n",
    "\"\"\"\n",
    "DON'T MODIFY ANYTHING IN THIS CELL THAT IS BELOW THIS LINE\n",
    "\"\"\"\n",
    "tests.test_con_pool(conv2d_maxpool)"
   ]
  },
  {
   "cell_type": "markdown",
   "metadata": {
    "deletable": true,
    "editable": true
   },
   "source": [
    "### Flatten Layer\n",
    "Implement the `flatten` function to change the dimension of `x_tensor` from a 4-D tensor to a 2-D tensor.  The output should be the shape (*Batch Size*, *Flattened Image Size*). You can use [TensorFlow Layers](https://www.tensorflow.org/api_docs/python/tf/layers) or [TensorFlow Layers (contrib)](https://www.tensorflow.org/api_guides/python/contrib.layers) for this layer."
   ]
  },
  {
   "cell_type": "code",
   "execution_count": 127,
   "metadata": {
    "collapsed": false,
    "deletable": true,
    "editable": true
   },
   "outputs": [
    {
     "name": "stdout",
     "output_type": "stream",
     "text": [
      "Tests Passed\n"
     ]
    }
   ],
   "source": [
    "def flatten(x_tensor):\n",
    "    \"\"\"\n",
    "    Flatten x_tensor to (Batch Size, Flattened Image Size)\n",
    "    : x_tensor: A tensor of size (Batch Size, ...), where ... are the image dimensions.\n",
    "    : return: A tensor of size (Batch Size, Flattened Image Size).\n",
    "    \"\"\"\n",
    "    with tf.name_scope(\"flatten\"):\n",
    "        fimg_sizes = np.prod([i for i in x_tensor.shape.as_list() if i])\n",
    "        flat_x = tf.reshape(x_tensor, [-1, fimg_sizes])\n",
    "        return flat_x\n",
    "\n",
    "\n",
    "\"\"\"\n",
    "DON'T MODIFY ANYTHING IN THIS CELL THAT IS BELOW THIS LINE\n",
    "\"\"\"\n",
    "tests.test_flatten(flatten)"
   ]
  },
  {
   "cell_type": "markdown",
   "metadata": {
    "deletable": true,
    "editable": true
   },
   "source": [
    "### Fully-Connected Layer\n",
    "Implement the `fully_conn` function to apply a fully connected layer to `x_tensor` with the shape (*Batch Size*, *num_outputs*). You can use [TensorFlow Layers](https://www.tensorflow.org/api_docs/python/tf/layers) or [TensorFlow Layers (contrib)](https://www.tensorflow.org/api_guides/python/contrib.layers) for this layer."
   ]
  },
  {
   "cell_type": "code",
   "execution_count": 128,
   "metadata": {
    "collapsed": false,
    "deletable": true,
    "editable": true
   },
   "outputs": [
    {
     "name": "stdout",
     "output_type": "stream",
     "text": [
      "Tests Passed\n"
     ]
    }
   ],
   "source": [
    "def fully_conn(x_tensor, num_outputs):\n",
    "    \"\"\"\n",
    "    Apply a fully connected layer to x_tensor using weight and bias\n",
    "    : x_tensor: A 2-D tensor where the first dimension is batch size.\n",
    "    : num_outputs: The number of output that the new tensor should be.\n",
    "    : return: A 2-D tensor where the second dimension is num_outputs.\n",
    "    \"\"\"\n",
    "    with tf.name_scope(\"fully_conn\"):\n",
    "        w = tf.Variable(weight_init(x_tensor.shape.as_list()[1:] + [num_outputs]),\n",
    "                       name=\"W\")\n",
    "        b = tf.Variable(bias_init(shape=[num_outputs]),\n",
    "                       name=\"b\")\n",
    "        logit = tf.nn.sigmoid(tf.matmul(x_tensor, w) + b, name=\"logit\")\n",
    "        return logit\n",
    "\n",
    "\n",
    "\"\"\"\n",
    "DON'T MODIFY ANYTHING IN THIS CELL THAT IS BELOW THIS LINE\n",
    "\"\"\"\n",
    "tests.test_fully_conn(fully_conn)"
   ]
  },
  {
   "cell_type": "markdown",
   "metadata": {
    "deletable": true,
    "editable": true
   },
   "source": [
    "### Output Layer\n",
    "Implement the `output` function to apply a fully connected layer to `x_tensor` with the shape (*Batch Size*, *num_outputs*). You can use [TensorFlow Layers](https://www.tensorflow.org/api_docs/python/tf/layers) or [TensorFlow Layers (contrib)](https://www.tensorflow.org/api_guides/python/contrib.layers) for this layer.\n",
    "\n",
    "Note: Activation, softmax, or cross entropy shouldn't be applied to this."
   ]
  },
  {
   "cell_type": "code",
   "execution_count": 129,
   "metadata": {
    "collapsed": false,
    "deletable": true,
    "editable": true
   },
   "outputs": [
    {
     "name": "stdout",
     "output_type": "stream",
     "text": [
      "Tests Passed\n"
     ]
    }
   ],
   "source": [
    "def output(x_tensor, num_outputs):\n",
    "    \"\"\"\n",
    "    Apply a output layer to x_tensor using weight and bias\n",
    "    : x_tensor: A 2-D tensor where the first dimension is batch size.\n",
    "    : num_outputs: The number of output that the new tensor should be.\n",
    "    : return: A 2-D tensor where the second dimension is num_outputs.\n",
    "    \"\"\"\n",
    "    with tf.name_scope(\"softmax\"):\n",
    "        w = tf.Variable(weight_init(x_tensor.shape.as_list()[1:] + [num_outputs]),\n",
    "                       name=\"W\")\n",
    "        b = tf.Variable(bias_init(shape=[num_outputs]), name=\"b\")\n",
    "        logit = tf.matmul(x_tensor, w) + b\n",
    "    return logit\n",
    "\n",
    "\n",
    "\"\"\"\n",
    "DON'T MODIFY ANYTHING IN THIS CELL THAT IS BELOW THIS LINE\n",
    "\"\"\"\n",
    "tests.test_output(output)"
   ]
  },
  {
   "cell_type": "markdown",
   "metadata": {
    "deletable": true,
    "editable": true
   },
   "source": [
    "### Create Convolutional Model\n",
    "Implement the function `conv_net` to create a convolutional neural network model. The function takes in a batch of images, `x`, and outputs logits.  Use the layers you created above to create this model:\n",
    "\n",
    "* Apply 1, 2, or 3 Convolution and Max Pool layers\n",
    "* Apply a Flatten Layer\n",
    "* Apply 1, 2, or 3 Fully Connected Layers\n",
    "* Apply an Output Layer\n",
    "* Return the output\n",
    "* Apply [TensorFlow's Dropout](https://www.tensorflow.org/api_docs/python/tf/nn/dropout) to one or more layers in the model using `keep_prob`. "
   ]
  },
  {
   "cell_type": "code",
   "execution_count": 130,
   "metadata": {
    "collapsed": false,
    "deletable": true,
    "editable": true
   },
   "outputs": [
    {
     "name": "stdout",
     "output_type": "stream",
     "text": [
      "Neural Network Built!\n"
     ]
    }
   ],
   "source": [
    "def conv_net(x, keep_prob):\n",
    "    \"\"\"\n",
    "    Create a convolutional neural network model\n",
    "    : x: Placeholder tensor that holds image data.\n",
    "    : keep_prob: Placeholder tensor that hold dropout keep probability.\n",
    "    : return: Tensor that represents logits\n",
    "    \"\"\"\n",
    "    x = tf.map_fn(tf.image.per_image_standardization, x)\n",
    "    # TODO: Apply 1, 2, or 3 Convolution and Max Pool layers\n",
    "    #    Play around with different number of outputs, kernel size and stride\n",
    "    # Function Definition from Above:\n",
    "    #    conv2d_maxpool(x_tensor, conv_num_outputs, conv_ksize, convstrides, pool_ksize, pool_strides)\n",
    "    conv = conv2d_maxpool(x, 32, (5, 5), (1, 1), (3, 3), (2, 2))\n",
    "\n",
    "    # TODO: Apply a Flatten Layer\n",
    "    # Function Definition from Above:\n",
    "    #   flatten(x_tensor)\n",
    "    flat_x = flatten(conv)\n",
    "\n",
    "    # TODO: Apply 1, 2, or 3 Fully Connected Layers\n",
    "    #    Play around with different number of outputs\n",
    "    # Function Definition from Above:\n",
    "    #   fully_conn(x_tensor, num_outputs)\n",
    "    fc = fully_conn(flat_x, 30)\n",
    "    fc = tf.nn.dropout(fc, keep_prob, name=\"dropout\")\n",
    "    \n",
    "    # TODO: Apply an Output Layer\n",
    "    #    Set this to the number of classes\n",
    "    # Function Definition from Above:\n",
    "    #   output(x_tensor, num_outputs)\n",
    "    logit = output(fc, 10)\n",
    "    \n",
    "    # TODO: return output\n",
    "    return logit\n",
    "\n",
    "\n",
    "\"\"\"\n",
    "DON'T MODIFY ANYTHING IN THIS CELL THAT IS BELOW THIS LINE\n",
    "\"\"\"\n",
    "\n",
    "##############################\n",
    "## Build the Neural Network ##\n",
    "##############################\n",
    "\n",
    "# Remove previous weights, bias, inputs, etc..\n",
    "tf.reset_default_graph()\n",
    "\n",
    "# Inputs\n",
    "x = neural_net_image_input((32, 32, 3))\n",
    "y = neural_net_label_input(10)\n",
    "keep_prob = neural_net_keep_prob_input()\n",
    "\n",
    "# Model\n",
    "logits = conv_net(x, keep_prob)\n",
    "\n",
    "# Name logits Tensor, so that is can be loaded from disk after training\n",
    "logits = tf.identity(logits, name='logits')\n",
    "\n",
    "# Loss and Optimizer\n",
    "cost = tf.reduce_mean(tf.nn.softmax_cross_entropy_with_logits(logits=logits, labels=y))\n",
    "adam = tf.train.AdamOptimizer()\n",
    "optimizer = adam.minimize(cost, name=\"loss\")\n",
    "\n",
    "# Accuracy\n",
    "correct_pred = tf.equal(tf.argmax(logits, 1), tf.argmax(y, 1))\n",
    "accuracy = tf.reduce_mean(tf.cast(correct_pred, tf.float32), name='accuracy')\n",
    "\n",
    "tests.test_conv_net(conv_net)"
   ]
  },
  {
   "cell_type": "markdown",
   "metadata": {
    "deletable": true,
    "editable": true
   },
   "source": [
    "## Train the Neural Network\n",
    "### Single Optimization\n",
    "Implement the function `train_neural_network` to do a single optimization.  The optimization should use `optimizer` to optimize in `session` with a `feed_dict` of the following:\n",
    "* `x` for image input\n",
    "* `y` for labels\n",
    "* `keep_prob` for keep probability for dropout\n",
    "\n",
    "This function will be called for each batch, so `tf.global_variables_initializer()` has already been called.\n",
    "\n",
    "Note: Nothing needs to be returned. This function is only optimizing the neural network."
   ]
  },
  {
   "cell_type": "code",
   "execution_count": 131,
   "metadata": {
    "collapsed": false,
    "deletable": true,
    "editable": true
   },
   "outputs": [
    {
     "name": "stdout",
     "output_type": "stream",
     "text": [
      "Tests Passed\n"
     ]
    }
   ],
   "source": [
    "def train_neural_network(session, optimizer, keep_probability, feature_batch, label_batch):\n",
    "    \"\"\"\n",
    "    Optimize the session on a batch of images and labels\n",
    "    : session: Current TensorFlow session\n",
    "    : optimizer: TensorFlow optimizer function\n",
    "    : keep_probability: keep probability\n",
    "    : feature_batch: Batch of Numpy image data\n",
    "    : label_batch: Batch of Numpy label data\n",
    "    \"\"\"\n",
    "    session.run(optimizer, {x: feature_batch,\n",
    "                            y: label_batch,\n",
    "                            keep_prob: keep_probability})\n",
    "\n",
    "\"\"\"\n",
    "DON'T MODIFY ANYTHING IN THIS CELL THAT IS BELOW THIS LINE\n",
    "\"\"\"\n",
    "tests.test_train_nn(train_neural_network)"
   ]
  },
  {
   "cell_type": "markdown",
   "metadata": {
    "deletable": true,
    "editable": true
   },
   "source": [
    "### Show Stats\n",
    "Implement the function `print_stats` to print loss and validation accuracy.  Use the global variables `valid_features` and `valid_labels` to calculate validation accuracy.  Use a keep probability of `1.0` to calculate the loss and validation accuracy."
   ]
  },
  {
   "cell_type": "code",
   "execution_count": 132,
   "metadata": {
    "collapsed": false,
    "deletable": true,
    "editable": true
   },
   "outputs": [],
   "source": [
    "def print_stats(session, feature_batch, label_batch, cost, accuracy):\n",
    "    \"\"\"\n",
    "    Print information about loss and validation accuracy\n",
    "    : session: Current TensorFlow session\n",
    "    : feature_batch: Batch of Numpy image data\n",
    "    : label_batch: Batch of Numpy label data\n",
    "    : cost: TensorFlow cost function\n",
    "    : accuracy: TensorFlow accuracy function\n",
    "    \"\"\"\n",
    "    global valid_features\n",
    "    global valid_labels\n",
    "    loss = session.run(cost, {x: feature_batch,\n",
    "                              y: label_batch,\n",
    "                              keep_prob: 1.0})\n",
    "    acc = session.run(accuracy, {x: valid_features,\n",
    "                                 y: valid_labels,\n",
    "                                 keep_prob: 1.0})\n",
    "    print(\"current loss = {:>3.3f} and accuracy = {:>4.2f}%\".format(loss, acc*100))"
   ]
  },
  {
   "cell_type": "markdown",
   "metadata": {
    "deletable": true,
    "editable": true
   },
   "source": [
    "### Hyperparameters\n",
    "Tune the following parameters:\n",
    "* Set `epochs` to the number of iterations until the network stops learning or start overfitting\n",
    "* Set `batch_size` to the highest number that your machine has memory for.  Most people set them to common sizes of memory:\n",
    " * 64\n",
    " * 128\n",
    " * 256\n",
    " * ...\n",
    "* Set `keep_probability` to the probability of keeping a node using dropout"
   ]
  },
  {
   "cell_type": "code",
   "execution_count": 133,
   "metadata": {
    "collapsed": true,
    "deletable": true,
    "editable": true
   },
   "outputs": [],
   "source": [
    "# TODO: Tune Parameters\n",
    "epochs = 50\n",
    "batch_size = 64\n",
    "keep_probability = 0.8"
   ]
  },
  {
   "cell_type": "code",
   "execution_count": 134,
   "metadata": {
    "collapsed": true
   },
   "outputs": [],
   "source": [
    "graph = tf.get_default_graph()\n",
    "graph.seed = 42"
   ]
  },
  {
   "cell_type": "markdown",
   "metadata": {
    "deletable": true,
    "editable": true
   },
   "source": [
    "### Train on a Single CIFAR-10 Batch\n",
    "Instead of training the neural network on all the CIFAR-10 batches of data, let's use a single batch. This should save time while you iterate on the model to get a better accuracy.  Once the final validation accuracy is 50% or greater, run the model on all the data in the next section."
   ]
  },
  {
   "cell_type": "code",
   "execution_count": 135,
   "metadata": {
    "collapsed": false,
    "deletable": true,
    "editable": true
   },
   "outputs": [
    {
     "name": "stdout",
     "output_type": "stream",
     "text": [
      "Checking the Training on a Single Batch...\n",
      "Epoch  1, CIFAR-10 Batch 1:  current loss = 2.127 and accuracy = 26.12%\n",
      "Epoch  2, CIFAR-10 Batch 1:  current loss = 2.137 and accuracy = 29.22%\n",
      "Epoch  3, CIFAR-10 Batch 1:  current loss = 2.059 and accuracy = 33.38%\n",
      "Epoch  4, CIFAR-10 Batch 1:  current loss = 1.974 and accuracy = 32.26%\n",
      "Epoch  5, CIFAR-10 Batch 1:  current loss = 2.052 and accuracy = 35.32%\n",
      "Epoch  6, CIFAR-10 Batch 1:  current loss = 2.001 and accuracy = 36.14%\n",
      "Epoch  7, CIFAR-10 Batch 1:  current loss = 1.981 and accuracy = 37.90%\n",
      "Epoch  8, CIFAR-10 Batch 1:  current loss = 1.986 and accuracy = 38.06%\n",
      "Epoch  9, CIFAR-10 Batch 1:  current loss = 1.849 and accuracy = 38.30%\n",
      "Epoch 10, CIFAR-10 Batch 1:  current loss = 1.787 and accuracy = 39.72%\n",
      "Epoch 11, CIFAR-10 Batch 1:  current loss = 1.645 and accuracy = 41.76%\n",
      "Epoch 12, CIFAR-10 Batch 1:  current loss = 1.795 and accuracy = 42.74%\n",
      "Epoch 13, CIFAR-10 Batch 1:  current loss = 1.709 and accuracy = 43.22%\n",
      "Epoch 14, CIFAR-10 Batch 1:  current loss = 1.847 and accuracy = 43.98%\n",
      "Epoch 15, CIFAR-10 Batch 1:  current loss = 1.719 and accuracy = 43.88%\n",
      "Epoch 16, CIFAR-10 Batch 1:  current loss = 1.649 and accuracy = 43.82%\n",
      "Epoch 17, CIFAR-10 Batch 1:  current loss = 1.603 and accuracy = 44.98%\n",
      "Epoch 18, CIFAR-10 Batch 1:  current loss = 1.657 and accuracy = 45.40%\n",
      "Epoch 19, CIFAR-10 Batch 1:  current loss = 1.502 and accuracy = 46.52%\n",
      "Epoch 20, CIFAR-10 Batch 1:  current loss = 1.430 and accuracy = 46.18%\n",
      "Epoch 21, CIFAR-10 Batch 1:  current loss = 1.479 and accuracy = 46.32%\n",
      "Epoch 22, CIFAR-10 Batch 1:  current loss = 1.485 and accuracy = 46.84%\n",
      "Epoch 23, CIFAR-10 Batch 1:  current loss = 1.473 and accuracy = 46.70%\n",
      "Epoch 24, CIFAR-10 Batch 1:  current loss = 1.463 and accuracy = 47.70%\n",
      "Epoch 25, CIFAR-10 Batch 1:  current loss = 1.451 and accuracy = 48.00%\n",
      "Epoch 26, CIFAR-10 Batch 1:  current loss = 1.404 and accuracy = 47.82%\n",
      "Epoch 27, CIFAR-10 Batch 1:  current loss = 1.334 and accuracy = 49.14%\n",
      "Epoch 28, CIFAR-10 Batch 1:  current loss = 1.261 and accuracy = 49.36%\n",
      "Epoch 29, CIFAR-10 Batch 1:  current loss = 1.266 and accuracy = 49.60%\n",
      "Epoch 30, CIFAR-10 Batch 1:  current loss = 1.256 and accuracy = 48.82%\n",
      "Epoch 31, CIFAR-10 Batch 1:  current loss = 1.281 and accuracy = 49.36%\n",
      "Epoch 32, CIFAR-10 Batch 1:  current loss = 1.300 and accuracy = 49.42%\n",
      "Epoch 33, CIFAR-10 Batch 1:  current loss = 1.295 and accuracy = 50.28%\n",
      "Epoch 34, CIFAR-10 Batch 1:  current loss = 1.246 and accuracy = 51.22%\n",
      "Epoch 35, CIFAR-10 Batch 1:  current loss = 1.340 and accuracy = 49.38%\n",
      "Epoch 36, CIFAR-10 Batch 1:  current loss = 1.243 and accuracy = 50.14%\n",
      "Epoch 37, CIFAR-10 Batch 1:  current loss = 1.200 and accuracy = 50.92%\n",
      "Epoch 38, CIFAR-10 Batch 1:  current loss = 1.219 and accuracy = 51.18%\n",
      "Epoch 39, CIFAR-10 Batch 1:  current loss = 1.274 and accuracy = 49.96%\n",
      "Epoch 40, CIFAR-10 Batch 1:  current loss = 1.089 and accuracy = 52.10%\n",
      "Epoch 41, CIFAR-10 Batch 1:  current loss = 1.126 and accuracy = 52.02%\n",
      "Epoch 42, CIFAR-10 Batch 1:  current loss = 1.084 and accuracy = 51.72%\n",
      "Epoch 43, CIFAR-10 Batch 1:  current loss = 1.069 and accuracy = 51.60%\n",
      "Epoch 44, CIFAR-10 Batch 1:  current loss = 1.063 and accuracy = 53.04%\n",
      "Epoch 45, CIFAR-10 Batch 1:  current loss = 0.969 and accuracy = 51.98%\n",
      "Epoch 46, CIFAR-10 Batch 1:  current loss = 1.010 and accuracy = 53.50%\n",
      "Epoch 47, CIFAR-10 Batch 1:  current loss = 1.009 and accuracy = 52.50%\n",
      "Epoch 48, CIFAR-10 Batch 1:  current loss = 1.047 and accuracy = 52.98%\n",
      "Epoch 49, CIFAR-10 Batch 1:  current loss = 0.944 and accuracy = 53.44%\n",
      "Epoch 50, CIFAR-10 Batch 1:  current loss = 0.965 and accuracy = 53.26%\n"
     ]
    }
   ],
   "source": [
    "\"\"\"\n",
    "DON'T MODIFY ANYTHING IN THIS CELL\n",
    "\"\"\"\n",
    "print('Checking the Training on a Single Batch...')\n",
    "with tf.Session() as sess:\n",
    "    # Initializing the variables\n",
    "    sess.run(tf.global_variables_initializer())\n",
    "    \n",
    "    # Training cycle\n",
    "    for epoch in range(epochs):\n",
    "        batch_i = 1\n",
    "        for batch_features, batch_labels in helper.load_preprocess_training_batch(batch_i, batch_size):\n",
    "            train_neural_network(sess, optimizer, keep_probability, batch_features, batch_labels)\n",
    "        print('Epoch {:>2}, CIFAR-10 Batch {}:  '.format(epoch + 1, batch_i), end='')\n",
    "        print_stats(sess, batch_features, batch_labels, cost, accuracy)"
   ]
  },
  {
   "cell_type": "code",
   "execution_count": 140,
   "metadata": {
    "collapsed": false,
    "scrolled": true
   },
   "outputs": [],
   "source": [
    "# adding summary\n",
    "tf.summary.FileWriter('./train', sess.graph)\n",
    "tf.summary.FileWriter('./test')\n",
    "_ = tf.summary.scalar('training_loss', cost)\n",
    "_ = tf.summary.scalar('accuracy', accuracy)\n",
    "\n",
    "trainables = graph.get_collection('trainable_variables')\n",
    "for var in trainables:\n",
    "    nvarname = var.name.replace('/', '_')[:-2]\n",
    "    for name in adam.get_slot_names():\n",
    "        savename = \"%s_%s\"%(nvarname, name)\n",
    "        slot_var = adam.get_slot(var, name)\n",
    "        if slot_var:\n",
    "            _ = tf.summary.tensor_summary(savename, slot_var)\n",
    "summary_op = tf.summary.merge_all()\n",
    "train_writer = tf.summary.FileWriter('./train', sess.graph)\n",
    "test_writer = tf.summary.FileWriter('./test')"
   ]
  },
  {
   "cell_type": "markdown",
   "metadata": {
    "deletable": true,
    "editable": true
   },
   "source": [
    "### Fully Train the Model\n",
    "Now that you got a good accuracy with a single CIFAR-10 batch, try it with all five batches."
   ]
  },
  {
   "cell_type": "code",
   "execution_count": 141,
   "metadata": {
    "collapsed": false,
    "deletable": true,
    "editable": true,
    "scrolled": false
   },
   "outputs": [
    {
     "name": "stdout",
     "output_type": "stream",
     "text": [
      "Training...\n",
      "Epoch  1, CIFAR-10 Batch 1:  current loss = 2.212 and accuracy = 19.70%\n",
      "Epoch  1, CIFAR-10 Batch 2:  current loss = 2.106 and accuracy = 25.06%\n",
      "Epoch  1, CIFAR-10 Batch 3:  current loss = 1.915 and accuracy = 29.58%\n",
      "Epoch  1, CIFAR-10 Batch 4:  current loss = 1.910 and accuracy = 33.76%\n",
      "Epoch  1, CIFAR-10 Batch 5:  current loss = 1.884 and accuracy = 33.00%\n",
      "Epoch  2, CIFAR-10 Batch 1:  current loss = 1.959 and accuracy = 36.36%\n",
      "Epoch  2, CIFAR-10 Batch 2:  current loss = 1.921 and accuracy = 37.22%\n",
      "Epoch  2, CIFAR-10 Batch 3:  current loss = 1.604 and accuracy = 39.26%\n",
      "Epoch  2, CIFAR-10 Batch 4:  current loss = 1.614 and accuracy = 39.12%\n",
      "Epoch  2, CIFAR-10 Batch 5:  current loss = 1.830 and accuracy = 39.36%\n",
      "Epoch  3, CIFAR-10 Batch 1:  current loss = 1.792 and accuracy = 41.26%\n",
      "Epoch  3, CIFAR-10 Batch 2:  current loss = 1.737 and accuracy = 41.26%\n",
      "Epoch  3, CIFAR-10 Batch 3:  current loss = 1.493 and accuracy = 40.02%\n",
      "Epoch  3, CIFAR-10 Batch 4:  current loss = 1.587 and accuracy = 42.62%\n",
      "Epoch  3, CIFAR-10 Batch 5:  current loss = 1.608 and accuracy = 42.40%\n",
      "Epoch  4, CIFAR-10 Batch 1:  current loss = 1.814 and accuracy = 43.62%\n",
      "Epoch  4, CIFAR-10 Batch 2:  current loss = 1.665 and accuracy = 43.86%\n",
      "Epoch  4, CIFAR-10 Batch 3:  current loss = 1.447 and accuracy = 44.56%\n",
      "Epoch  4, CIFAR-10 Batch 4:  current loss = 1.525 and accuracy = 45.52%\n",
      "Epoch  4, CIFAR-10 Batch 5:  current loss = 1.610 and accuracy = 44.96%\n",
      "Epoch  5, CIFAR-10 Batch 1:  current loss = 1.751 and accuracy = 44.28%\n",
      "Epoch  5, CIFAR-10 Batch 2:  current loss = 1.638 and accuracy = 45.34%\n",
      "Epoch  5, CIFAR-10 Batch 3:  current loss = 1.415 and accuracy = 45.46%\n",
      "Epoch  5, CIFAR-10 Batch 4:  current loss = 1.528 and accuracy = 44.96%\n",
      "Epoch  5, CIFAR-10 Batch 5:  current loss = 1.576 and accuracy = 45.66%\n",
      "Epoch  6, CIFAR-10 Batch 1:  current loss = 1.615 and accuracy = 48.28%\n",
      "Epoch  6, CIFAR-10 Batch 2:  current loss = 1.564 and accuracy = 46.12%\n",
      "Epoch  6, CIFAR-10 Batch 3:  current loss = 1.302 and accuracy = 46.74%\n",
      "Epoch  6, CIFAR-10 Batch 4:  current loss = 1.438 and accuracy = 47.64%\n",
      "Epoch  6, CIFAR-10 Batch 5:  current loss = 1.549 and accuracy = 47.50%\n",
      "Epoch  7, CIFAR-10 Batch 1:  current loss = 1.656 and accuracy = 47.68%\n",
      "Epoch  7, CIFAR-10 Batch 2:  current loss = 1.463 and accuracy = 48.00%\n",
      "Epoch  7, CIFAR-10 Batch 3:  current loss = 1.266 and accuracy = 47.78%\n",
      "Epoch  7, CIFAR-10 Batch 4:  current loss = 1.443 and accuracy = 47.62%\n",
      "Epoch  7, CIFAR-10 Batch 5:  current loss = 1.500 and accuracy = 48.34%\n",
      "Epoch  8, CIFAR-10 Batch 1:  current loss = 1.551 and accuracy = 47.32%\n",
      "Epoch  8, CIFAR-10 Batch 2:  current loss = 1.424 and accuracy = 49.56%\n",
      "Epoch  8, CIFAR-10 Batch 3:  current loss = 1.267 and accuracy = 49.36%\n",
      "Epoch  8, CIFAR-10 Batch 4:  current loss = 1.375 and accuracy = 49.58%\n",
      "Epoch  8, CIFAR-10 Batch 5:  current loss = 1.490 and accuracy = 48.42%\n",
      "Epoch  9, CIFAR-10 Batch 1:  current loss = 1.635 and accuracy = 49.98%\n",
      "Epoch  9, CIFAR-10 Batch 2:  current loss = 1.389 and accuracy = 50.34%\n",
      "Epoch  9, CIFAR-10 Batch 3:  current loss = 1.230 and accuracy = 50.10%\n",
      "Epoch  9, CIFAR-10 Batch 4:  current loss = 1.295 and accuracy = 49.60%\n",
      "Epoch  9, CIFAR-10 Batch 5:  current loss = 1.450 and accuracy = 50.24%\n",
      "Epoch 10, CIFAR-10 Batch 1:  current loss = 1.538 and accuracy = 50.44%\n",
      "Epoch 10, CIFAR-10 Batch 2:  current loss = 1.257 and accuracy = 49.16%\n",
      "Epoch 10, CIFAR-10 Batch 3:  current loss = 1.170 and accuracy = 50.50%\n",
      "Epoch 10, CIFAR-10 Batch 4:  current loss = 1.343 and accuracy = 50.22%\n",
      "Epoch 10, CIFAR-10 Batch 5:  current loss = 1.373 and accuracy = 49.78%\n",
      "Epoch 11, CIFAR-10 Batch 1:  current loss = 1.441 and accuracy = 50.36%\n",
      "Epoch 11, CIFAR-10 Batch 2:  current loss = 1.291 and accuracy = 51.02%\n",
      "Epoch 11, CIFAR-10 Batch 3:  current loss = 1.251 and accuracy = 50.16%\n",
      "Epoch 11, CIFAR-10 Batch 4:  current loss = 1.374 and accuracy = 51.50%\n",
      "Epoch 11, CIFAR-10 Batch 5:  current loss = 1.374 and accuracy = 50.46%\n",
      "Epoch 12, CIFAR-10 Batch 1:  current loss = 1.395 and accuracy = 52.48%\n",
      "Epoch 12, CIFAR-10 Batch 2:  current loss = 1.333 and accuracy = 51.50%\n",
      "Epoch 12, CIFAR-10 Batch 3:  current loss = 1.176 and accuracy = 52.28%\n",
      "Epoch 12, CIFAR-10 Batch 4:  current loss = 1.381 and accuracy = 52.00%\n",
      "Epoch 12, CIFAR-10 Batch 5:  current loss = 1.290 and accuracy = 52.88%\n",
      "Epoch 13, CIFAR-10 Batch 1:  current loss = 1.423 and accuracy = 53.66%\n",
      "Epoch 13, CIFAR-10 Batch 2:  current loss = 1.202 and accuracy = 53.36%\n",
      "Epoch 13, CIFAR-10 Batch 3:  current loss = 1.087 and accuracy = 52.50%\n",
      "Epoch 13, CIFAR-10 Batch 4:  current loss = 1.376 and accuracy = 53.24%\n",
      "Epoch 13, CIFAR-10 Batch 5:  current loss = 1.382 and accuracy = 52.46%\n",
      "Epoch 14, CIFAR-10 Batch 1:  current loss = 1.372 and accuracy = 52.54%\n",
      "Epoch 14, CIFAR-10 Batch 2:  current loss = 1.105 and accuracy = 52.52%\n",
      "Epoch 14, CIFAR-10 Batch 3:  current loss = 1.040 and accuracy = 54.00%\n",
      "Epoch 14, CIFAR-10 Batch 4:  current loss = 1.368 and accuracy = 54.58%\n",
      "Epoch 14, CIFAR-10 Batch 5:  current loss = 1.228 and accuracy = 54.60%\n",
      "Epoch 15, CIFAR-10 Batch 1:  current loss = 1.372 and accuracy = 54.46%\n",
      "Epoch 15, CIFAR-10 Batch 2:  current loss = 1.233 and accuracy = 53.98%\n",
      "Epoch 15, CIFAR-10 Batch 3:  current loss = 0.960 and accuracy = 52.74%\n",
      "Epoch 15, CIFAR-10 Batch 4:  current loss = 1.276 and accuracy = 53.76%\n",
      "Epoch 15, CIFAR-10 Batch 5:  current loss = 1.207 and accuracy = 54.14%\n",
      "Epoch 16, CIFAR-10 Batch 1:  current loss = 1.356 and accuracy = 54.80%\n",
      "Epoch 16, CIFAR-10 Batch 2:  current loss = 1.201 and accuracy = 53.38%\n",
      "Epoch 16, CIFAR-10 Batch 3:  current loss = 0.952 and accuracy = 53.50%\n",
      "Epoch 16, CIFAR-10 Batch 4:  current loss = 1.252 and accuracy = 53.86%\n",
      "Epoch 16, CIFAR-10 Batch 5:  current loss = 1.212 and accuracy = 55.70%\n",
      "Epoch 17, CIFAR-10 Batch 1:  current loss = 1.309 and accuracy = 54.48%\n",
      "Epoch 17, CIFAR-10 Batch 2:  current loss = 1.074 and accuracy = 55.74%\n",
      "Epoch 17, CIFAR-10 Batch 3:  current loss = 0.995 and accuracy = 54.14%\n",
      "Epoch 17, CIFAR-10 Batch 4:  current loss = 1.247 and accuracy = 54.88%\n",
      "Epoch 17, CIFAR-10 Batch 5:  current loss = 1.286 and accuracy = 55.20%\n",
      "Epoch 18, CIFAR-10 Batch 1:  current loss = 1.177 and accuracy = 55.40%\n",
      "Epoch 18, CIFAR-10 Batch 2:  current loss = 1.132 and accuracy = 56.26%\n",
      "Epoch 18, CIFAR-10 Batch 3:  current loss = 1.027 and accuracy = 54.68%\n",
      "Epoch 18, CIFAR-10 Batch 4:  current loss = 1.338 and accuracy = 54.58%\n",
      "Epoch 18, CIFAR-10 Batch 5:  current loss = 1.183 and accuracy = 54.72%\n",
      "Epoch 19, CIFAR-10 Batch 1:  current loss = 1.375 and accuracy = 54.40%\n",
      "Epoch 19, CIFAR-10 Batch 2:  current loss = 1.082 and accuracy = 55.22%\n",
      "Epoch 19, CIFAR-10 Batch 3:  current loss = 1.037 and accuracy = 55.16%\n",
      "Epoch 19, CIFAR-10 Batch 4:  current loss = 1.283 and accuracy = 55.24%\n",
      "Epoch 19, CIFAR-10 Batch 5:  current loss = 1.205 and accuracy = 55.66%\n",
      "Epoch 20, CIFAR-10 Batch 1:  current loss = 1.291 and accuracy = 55.42%\n",
      "Epoch 20, CIFAR-10 Batch 2:  current loss = 1.015 and accuracy = 56.72%\n",
      "Epoch 20, CIFAR-10 Batch 3:  current loss = 1.033 and accuracy = 55.98%\n",
      "Epoch 20, CIFAR-10 Batch 4:  current loss = 1.151 and accuracy = 56.06%\n",
      "Epoch 20, CIFAR-10 Batch 5:  current loss = 1.211 and accuracy = 55.68%\n",
      "Epoch 21, CIFAR-10 Batch 1:  current loss = 1.218 and accuracy = 56.56%\n",
      "Epoch 21, CIFAR-10 Batch 2:  current loss = 1.118 and accuracy = 56.26%\n",
      "Epoch 21, CIFAR-10 Batch 3:  current loss = 1.008 and accuracy = 56.88%\n",
      "Epoch 21, CIFAR-10 Batch 4:  current loss = 1.092 and accuracy = 56.70%\n",
      "Epoch 21, CIFAR-10 Batch 5:  current loss = 1.273 and accuracy = 56.32%\n",
      "Epoch 22, CIFAR-10 Batch 1:  current loss = 1.196 and accuracy = 56.02%\n",
      "Epoch 22, CIFAR-10 Batch 2:  current loss = 1.107 and accuracy = 56.66%\n",
      "Epoch 22, CIFAR-10 Batch 3:  current loss = 0.973 and accuracy = 56.86%\n",
      "Epoch 22, CIFAR-10 Batch 4:  current loss = 1.045 and accuracy = 57.48%\n",
      "Epoch 22, CIFAR-10 Batch 5:  current loss = 1.062 and accuracy = 57.24%\n",
      "Epoch 23, CIFAR-10 Batch 1:  current loss = 1.132 and accuracy = 57.74%\n",
      "Epoch 23, CIFAR-10 Batch 2:  current loss = 1.147 and accuracy = 56.88%\n",
      "Epoch 23, CIFAR-10 Batch 3:  current loss = 0.969 and accuracy = 57.22%\n",
      "Epoch 23, CIFAR-10 Batch 4:  current loss = 1.184 and accuracy = 57.80%\n",
      "Epoch 23, CIFAR-10 Batch 5:  current loss = 1.186 and accuracy = 57.64%\n",
      "Epoch 24, CIFAR-10 Batch 1:  current loss = 1.233 and accuracy = 57.06%\n",
      "Epoch 24, CIFAR-10 Batch 2:  current loss = 1.123 and accuracy = 57.56%\n",
      "Epoch 24, CIFAR-10 Batch 3:  current loss = 0.911 and accuracy = 57.54%\n",
      "Epoch 24, CIFAR-10 Batch 4:  current loss = 1.067 and accuracy = 58.02%\n",
      "Epoch 24, CIFAR-10 Batch 5:  current loss = 1.065 and accuracy = 56.80%\n",
      "Epoch 25, CIFAR-10 Batch 1:  current loss = 1.238 and accuracy = 58.18%\n",
      "Epoch 25, CIFAR-10 Batch 2:  current loss = 1.056 and accuracy = 57.50%\n",
      "Epoch 25, CIFAR-10 Batch 3:  current loss = 0.958 and accuracy = 56.68%\n",
      "Epoch 25, CIFAR-10 Batch 4:  current loss = 1.097 and accuracy = 57.58%\n",
      "Epoch 25, CIFAR-10 Batch 5:  current loss = 1.092 and accuracy = 58.04%\n",
      "Epoch 26, CIFAR-10 Batch 1:  current loss = 1.289 and accuracy = 57.78%\n",
      "Epoch 26, CIFAR-10 Batch 2:  current loss = 0.985 and accuracy = 58.24%\n",
      "Epoch 26, CIFAR-10 Batch 3:  current loss = 0.928 and accuracy = 57.22%\n",
      "Epoch 26, CIFAR-10 Batch 4:  current loss = 1.075 and accuracy = 57.72%\n",
      "Epoch 26, CIFAR-10 Batch 5:  current loss = 1.088 and accuracy = 58.10%\n",
      "Epoch 27, CIFAR-10 Batch 1:  current loss = 1.289 and accuracy = 57.88%\n",
      "Epoch 27, CIFAR-10 Batch 2:  current loss = 1.007 and accuracy = 57.06%\n",
      "Epoch 27, CIFAR-10 Batch 3:  current loss = 0.884 and accuracy = 58.42%\n",
      "Epoch 27, CIFAR-10 Batch 4:  current loss = 1.081 and accuracy = 57.72%\n",
      "Epoch 27, CIFAR-10 Batch 5:  current loss = 1.199 and accuracy = 57.64%\n",
      "Epoch 28, CIFAR-10 Batch 1:  current loss = 1.310 and accuracy = 58.12%\n",
      "Epoch 28, CIFAR-10 Batch 2:  current loss = 1.012 and accuracy = 58.20%\n",
      "Epoch 28, CIFAR-10 Batch 3:  current loss = 0.972 and accuracy = 57.78%\n",
      "Epoch 28, CIFAR-10 Batch 4:  current loss = 1.106 and accuracy = 59.04%\n",
      "Epoch 28, CIFAR-10 Batch 5:  current loss = 1.022 and accuracy = 57.98%\n",
      "Epoch 29, CIFAR-10 Batch 1:  current loss = 1.270 and accuracy = 57.46%\n",
      "Epoch 29, CIFAR-10 Batch 2:  current loss = 0.960 and accuracy = 58.30%\n",
      "Epoch 29, CIFAR-10 Batch 3:  current loss = 0.986 and accuracy = 58.30%\n",
      "Epoch 29, CIFAR-10 Batch 4:  current loss = 1.097 and accuracy = 58.04%\n",
      "Epoch 29, CIFAR-10 Batch 5:  current loss = 1.118 and accuracy = 58.84%\n",
      "Epoch 30, CIFAR-10 Batch 1:  current loss = 1.153 and accuracy = 59.00%\n",
      "Epoch 30, CIFAR-10 Batch 2:  current loss = 1.022 and accuracy = 58.04%\n",
      "Epoch 30, CIFAR-10 Batch 3:  current loss = 0.846 and accuracy = 58.56%\n",
      "Epoch 30, CIFAR-10 Batch 4:  current loss = 1.176 and accuracy = 57.78%\n",
      "Epoch 30, CIFAR-10 Batch 5:  current loss = 1.141 and accuracy = 58.82%\n",
      "Epoch 31, CIFAR-10 Batch 1:  current loss = 1.120 and accuracy = 58.22%\n",
      "Epoch 31, CIFAR-10 Batch 2:  current loss = 0.933 and accuracy = 58.64%\n",
      "Epoch 31, CIFAR-10 Batch 3:  current loss = 0.824 and accuracy = 59.06%\n",
      "Epoch 31, CIFAR-10 Batch 4:  current loss = 1.130 and accuracy = 57.44%\n",
      "Epoch 31, CIFAR-10 Batch 5:  current loss = 1.223 and accuracy = 58.30%\n",
      "Epoch 32, CIFAR-10 Batch 1:  current loss = 1.059 and accuracy = 59.20%\n",
      "Epoch 32, CIFAR-10 Batch 2:  current loss = 0.935 and accuracy = 58.16%\n",
      "Epoch 32, CIFAR-10 Batch 3:  current loss = 0.840 and accuracy = 58.92%\n",
      "Epoch 32, CIFAR-10 Batch 4:  current loss = 1.064 and accuracy = 58.96%\n",
      "Epoch 32, CIFAR-10 Batch 5:  current loss = 1.151 and accuracy = 59.02%\n",
      "Epoch 33, CIFAR-10 Batch 1:  current loss = 0.992 and accuracy = 58.50%\n",
      "Epoch 33, CIFAR-10 Batch 2:  current loss = 0.952 and accuracy = 58.76%\n",
      "Epoch 33, CIFAR-10 Batch 3:  current loss = 0.852 and accuracy = 58.86%\n",
      "Epoch 33, CIFAR-10 Batch 4:  current loss = 1.075 and accuracy = 59.26%\n",
      "Epoch 33, CIFAR-10 Batch 5:  current loss = 1.092 and accuracy = 58.54%\n",
      "Epoch 34, CIFAR-10 Batch 1:  current loss = 1.126 and accuracy = 58.56%\n",
      "Epoch 34, CIFAR-10 Batch 2:  current loss = 0.937 and accuracy = 58.34%\n",
      "Epoch 34, CIFAR-10 Batch 3:  current loss = 0.809 and accuracy = 58.92%\n",
      "Epoch 34, CIFAR-10 Batch 4:  current loss = 0.977 and accuracy = 59.84%\n",
      "Epoch 34, CIFAR-10 Batch 5:  current loss = 1.019 and accuracy = 58.70%\n",
      "Epoch 35, CIFAR-10 Batch 1:  current loss = 1.072 and accuracy = 59.48%\n",
      "Epoch 35, CIFAR-10 Batch 2:  current loss = 0.887 and accuracy = 59.18%\n",
      "Epoch 35, CIFAR-10 Batch 3:  current loss = 0.805 and accuracy = 59.40%\n",
      "Epoch 35, CIFAR-10 Batch 4:  current loss = 0.961 and accuracy = 59.78%\n",
      "Epoch 35, CIFAR-10 Batch 5:  current loss = 0.952 and accuracy = 59.12%\n",
      "Epoch 36, CIFAR-10 Batch 1:  current loss = 1.128 and accuracy = 58.72%\n",
      "Epoch 36, CIFAR-10 Batch 2:  current loss = 0.938 and accuracy = 60.16%\n",
      "Epoch 36, CIFAR-10 Batch 3:  current loss = 0.759 and accuracy = 59.30%\n",
      "Epoch 36, CIFAR-10 Batch 4:  current loss = 0.959 and accuracy = 60.12%\n",
      "Epoch 36, CIFAR-10 Batch 5:  current loss = 1.078 and accuracy = 59.74%\n",
      "Epoch 37, CIFAR-10 Batch 1:  current loss = 1.202 and accuracy = 59.60%\n",
      "Epoch 37, CIFAR-10 Batch 2:  current loss = 0.936 and accuracy = 59.74%\n",
      "Epoch 37, CIFAR-10 Batch 3:  current loss = 0.718 and accuracy = 60.18%\n",
      "Epoch 37, CIFAR-10 Batch 4:  current loss = 0.971 and accuracy = 60.82%\n",
      "Epoch 37, CIFAR-10 Batch 5:  current loss = 1.119 and accuracy = 59.30%\n",
      "Epoch 38, CIFAR-10 Batch 1:  current loss = 1.204 and accuracy = 59.88%\n",
      "Epoch 38, CIFAR-10 Batch 2:  current loss = 0.882 and accuracy = 59.14%\n",
      "Epoch 38, CIFAR-10 Batch 3:  current loss = 0.792 and accuracy = 59.78%\n",
      "Epoch 38, CIFAR-10 Batch 4:  current loss = 0.906 and accuracy = 60.30%\n",
      "Epoch 38, CIFAR-10 Batch 5:  current loss = 1.018 and accuracy = 59.82%\n",
      "Epoch 39, CIFAR-10 Batch 1:  current loss = 1.089 and accuracy = 60.22%\n",
      "Epoch 39, CIFAR-10 Batch 2:  current loss = 0.911 and accuracy = 60.06%\n",
      "Epoch 39, CIFAR-10 Batch 3:  current loss = 0.772 and accuracy = 59.06%\n",
      "Epoch 39, CIFAR-10 Batch 4:  current loss = 0.908 and accuracy = 59.16%\n",
      "Epoch 39, CIFAR-10 Batch 5:  current loss = 0.959 and accuracy = 58.98%\n",
      "Epoch 40, CIFAR-10 Batch 1:  current loss = 1.083 and accuracy = 59.80%\n",
      "Epoch 40, CIFAR-10 Batch 2:  current loss = 1.032 and accuracy = 60.10%\n",
      "Epoch 40, CIFAR-10 Batch 3:  current loss = 0.703 and accuracy = 60.56%\n",
      "Epoch 40, CIFAR-10 Batch 4:  current loss = 0.926 and accuracy = 60.48%\n",
      "Epoch 40, CIFAR-10 Batch 5:  current loss = 0.967 and accuracy = 60.22%\n",
      "Epoch 41, CIFAR-10 Batch 1:  current loss = 1.066 and accuracy = 60.06%\n",
      "Epoch 41, CIFAR-10 Batch 2:  current loss = 0.835 and accuracy = 60.40%\n",
      "Epoch 41, CIFAR-10 Batch 3:  current loss = 0.725 and accuracy = 60.80%\n",
      "Epoch 41, CIFAR-10 Batch 4:  current loss = 0.896 and accuracy = 59.96%\n",
      "Epoch 41, CIFAR-10 Batch 5:  current loss = 1.017 and accuracy = 59.88%\n",
      "Epoch 42, CIFAR-10 Batch 1:  current loss = 1.071 and accuracy = 60.30%\n",
      "Epoch 42, CIFAR-10 Batch 2:  current loss = 0.948 and accuracy = 60.08%\n",
      "Epoch 42, CIFAR-10 Batch 3:  current loss = 0.769 and accuracy = 60.02%\n",
      "Epoch 42, CIFAR-10 Batch 4:  current loss = 0.848 and accuracy = 60.34%\n",
      "Epoch 42, CIFAR-10 Batch 5:  current loss = 0.864 and accuracy = 59.66%\n",
      "Epoch 43, CIFAR-10 Batch 1:  current loss = 0.959 and accuracy = 60.44%\n",
      "Epoch 43, CIFAR-10 Batch 2:  current loss = 1.006 and accuracy = 59.70%\n",
      "Epoch 43, CIFAR-10 Batch 3:  current loss = 0.717 and accuracy = 59.88%\n",
      "Epoch 43, CIFAR-10 Batch 4:  current loss = 0.874 and accuracy = 60.40%\n",
      "Epoch 43, CIFAR-10 Batch 5:  current loss = 0.926 and accuracy = 60.42%\n",
      "Epoch 44, CIFAR-10 Batch 1:  current loss = 1.099 and accuracy = 60.94%\n",
      "Epoch 44, CIFAR-10 Batch 2:  current loss = 0.854 and accuracy = 59.40%\n",
      "Epoch 44, CIFAR-10 Batch 3:  current loss = 0.782 and accuracy = 60.22%\n",
      "Epoch 44, CIFAR-10 Batch 4:  current loss = 0.862 and accuracy = 59.90%\n",
      "Epoch 44, CIFAR-10 Batch 5:  current loss = 0.949 and accuracy = 60.30%\n",
      "Epoch 45, CIFAR-10 Batch 1:  current loss = 1.033 and accuracy = 60.50%\n",
      "Epoch 45, CIFAR-10 Batch 2:  current loss = 0.829 and accuracy = 60.22%\n",
      "Epoch 45, CIFAR-10 Batch 3:  current loss = 0.661 and accuracy = 60.52%\n",
      "Epoch 45, CIFAR-10 Batch 4:  current loss = 0.743 and accuracy = 60.66%\n",
      "Epoch 45, CIFAR-10 Batch 5:  current loss = 0.954 and accuracy = 60.60%\n",
      "Epoch 46, CIFAR-10 Batch 1:  current loss = 0.956 and accuracy = 59.66%\n",
      "Epoch 46, CIFAR-10 Batch 2:  current loss = 0.871 and accuracy = 59.94%\n",
      "Epoch 46, CIFAR-10 Batch 3:  current loss = 0.709 and accuracy = 60.44%\n",
      "Epoch 46, CIFAR-10 Batch 4:  current loss = 0.801 and accuracy = 60.68%\n",
      "Epoch 46, CIFAR-10 Batch 5:  current loss = 0.892 and accuracy = 60.20%\n",
      "Epoch 47, CIFAR-10 Batch 1:  current loss = 0.917 and accuracy = 60.38%\n",
      "Epoch 47, CIFAR-10 Batch 2:  current loss = 0.847 and accuracy = 59.94%\n",
      "Epoch 47, CIFAR-10 Batch 3:  current loss = 0.754 and accuracy = 60.46%\n",
      "Epoch 47, CIFAR-10 Batch 4:  current loss = 0.831 and accuracy = 60.98%\n",
      "Epoch 47, CIFAR-10 Batch 5:  current loss = 0.941 and accuracy = 60.86%\n",
      "Epoch 48, CIFAR-10 Batch 1:  current loss = 1.108 and accuracy = 60.56%\n",
      "Epoch 48, CIFAR-10 Batch 2:  current loss = 0.850 and accuracy = 61.22%\n",
      "Epoch 48, CIFAR-10 Batch 3:  current loss = 0.730 and accuracy = 60.90%\n",
      "Epoch 48, CIFAR-10 Batch 4:  current loss = 0.948 and accuracy = 60.54%\n",
      "Epoch 48, CIFAR-10 Batch 5:  current loss = 0.988 and accuracy = 61.02%\n",
      "Epoch 49, CIFAR-10 Batch 1:  current loss = 0.968 and accuracy = 60.80%\n",
      "Epoch 49, CIFAR-10 Batch 2:  current loss = 0.886 and accuracy = 61.60%\n",
      "Epoch 49, CIFAR-10 Batch 3:  current loss = 0.699 and accuracy = 61.14%\n",
      "Epoch 49, CIFAR-10 Batch 4:  current loss = 0.856 and accuracy = 60.72%\n",
      "Epoch 49, CIFAR-10 Batch 5:  current loss = 0.967 and accuracy = 61.36%\n",
      "Epoch 50, CIFAR-10 Batch 1:  current loss = 0.985 and accuracy = 61.00%\n",
      "Epoch 50, CIFAR-10 Batch 2:  current loss = 0.993 and accuracy = 61.52%\n",
      "Epoch 50, CIFAR-10 Batch 3:  current loss = 0.732 and accuracy = 61.38%\n",
      "Epoch 50, CIFAR-10 Batch 4:  current loss = 0.862 and accuracy = 60.22%\n",
      "Epoch 50, CIFAR-10 Batch 5:  current loss = 0.898 and accuracy = 61.32%\n"
     ]
    }
   ],
   "source": [
    "\"\"\"\n",
    "DON'T MODIFY ANYTHING IN THIS CELL\n",
    "\"\"\"\n",
    "save_model_path = './image_classification'\n",
    "\n",
    "print('Training...')\n",
    "with tf.Session() as sess:\n",
    "    # Initializing the variables\n",
    "    sess.run(tf.global_variables_initializer())\n",
    "\n",
    "    # Training cycle\n",
    "    for epoch in range(epochs):\n",
    "        # Loop over all batches\n",
    "        n_batches = 5\n",
    "        for batch_i in range(1, n_batches + 1):\n",
    "            for batch_features, batch_labels in helper.load_preprocess_training_batch(batch_i, batch_size):\n",
    "                train_neural_network(sess, optimizer, keep_probability, batch_features, batch_labels)\n",
    "            print('Epoch {:>2}, CIFAR-10 Batch {}:  '.format(epoch + 1, batch_i), end='')\n",
    "            print_stats(sess, batch_features, batch_labels, cost, accuracy)\n",
    "            # adding summary\n",
    "            train_writer.add_summary(sess.run(summary_op, {x: batch_features, \n",
    "                                                           y: batch_labels, \n",
    "                                                           keep_prob: 1.0}), epoch)\n",
    "            test_writer.add_summary(sess.run(summary_op, {x: valid_features, \n",
    "                                                          y: valid_labels, \n",
    "                                                          keep_prob: 1.0}), epoch)\n",
    "    # Save Model\n",
    "    saver = tf.train.Saver()\n",
    "    save_path = saver.save(sess, save_model_path)"
   ]
  },
  {
   "cell_type": "markdown",
   "metadata": {
    "deletable": true,
    "editable": true
   },
   "source": [
    "# Checkpoint\n",
    "The model has been saved to disk.\n",
    "## Test Model\n",
    "Test your model against the test dataset.  This will be your final accuracy. You should have an accuracy greater than 50%. If you don't, keep tweaking the model architecture and parameters."
   ]
  },
  {
   "cell_type": "code",
   "execution_count": 143,
   "metadata": {
    "collapsed": false,
    "deletable": true,
    "editable": true
   },
   "outputs": [
    {
     "name": "stdout",
     "output_type": "stream",
     "text": [
      "Testing Accuracy: 0.6106687898089171\n",
      "\n"
     ]
    },
    {
     "data": {
      "image/png": "[encoded data removed]",
      "text/plain": [
       "<matplotlib.figure.Figure at 0x7f24dd7bbe48>"
      ]
     },
     "metadata": {
      "image/png": {
       "height": 319,
       "width": 355
      }
     },
     "output_type": "display_data"
    }
   ],
   "source": [
    "\"\"\"\n",
    "DON'T MODIFY ANYTHING IN THIS CELL\n",
    "\"\"\"\n",
    "%matplotlib inline\n",
    "%config InlineBackend.figure_format = 'retina'\n",
    "\n",
    "import tensorflow as tf\n",
    "import pickle\n",
    "import helper\n",
    "import random\n",
    "\n",
    "# Set batch size if not already set\n",
    "try:\n",
    "    if batch_size:\n",
    "        pass\n",
    "except NameError:\n",
    "    batch_size = 64\n",
    "\n",
    "save_model_path = './image_classification'\n",
    "n_samples = 4\n",
    "top_n_predictions = 3\n",
    "\n",
    "def test_model():\n",
    "    \"\"\"\n",
    "    Test the saved model against the test dataset\n",
    "    \"\"\"\n",
    "\n",
    "    test_features, test_labels = pickle.load(open('preprocess_training.p', mode='rb'))\n",
    "    loaded_graph = tf.Graph()\n",
    "\n",
    "    with tf.Session(graph=loaded_graph) as sess:\n",
    "        # Load model\n",
    "        loader = tf.train.import_meta_graph(save_model_path + '.meta')\n",
    "        loader.restore(sess, save_model_path)\n",
    "\n",
    "        # Get Tensors from loaded model\n",
    "        loaded_x = loaded_graph.get_tensor_by_name('x:0')\n",
    "        loaded_y = loaded_graph.get_tensor_by_name('y:0')\n",
    "        loaded_keep_prob = loaded_graph.get_tensor_by_name('keep_prob:0')\n",
    "        loaded_logits = loaded_graph.get_tensor_by_name('logits:0')\n",
    "        loaded_acc = loaded_graph.get_tensor_by_name('accuracy:0')\n",
    "        \n",
    "        # Get accuracy in batches for memory limitations\n",
    "        test_batch_acc_total = 0\n",
    "        test_batch_count = 0\n",
    "        \n",
    "        for train_feature_batch, train_label_batch in helper.batch_features_labels(test_features, test_labels, batch_size):\n",
    "            test_batch_acc_total += sess.run(\n",
    "                loaded_acc,\n",
    "                feed_dict={loaded_x: train_feature_batch, loaded_y: train_label_batch, loaded_keep_prob: 1.0})\n",
    "            test_batch_count += 1\n",
    "\n",
    "        print('Testing Accuracy: {}\\n'.format(test_batch_acc_total/test_batch_count))\n",
    "\n",
    "        # Print Random Samples\n",
    "        random_test_features, random_test_labels = tuple(zip(*random.sample(list(zip(test_features, test_labels)), n_samples)))\n",
    "        random_test_predictions = sess.run(\n",
    "            tf.nn.top_k(tf.nn.softmax(loaded_logits), top_n_predictions),\n",
    "            feed_dict={loaded_x: random_test_features, loaded_y: random_test_labels, loaded_keep_prob: 1.0})\n",
    "        helper.display_image_predictions(random_test_features, random_test_labels, random_test_predictions)\n",
    "\n",
    "\n",
    "test_model()"
   ]
  },
  {
   "cell_type": "markdown",
   "metadata": {
    "deletable": true,
    "editable": true
   },
   "source": [
    "## Why 50-70% Accuracy?\n",
    "You might be wondering why you can't get an accuracy any higher. First things first, 50% isn't bad for a simple CNN.  Pure guessing would get you 10% accuracy. However, you might notice people are getting scores [well above 70%](http://rodrigob.github.io/are_we_there_yet/build/classification_datasets_results.html#43494641522d3130).  That's because we haven't taught you all there is to know about neural networks. We still need to cover a few more techniques.\n",
    "## Submitting This Project\n",
    "When submitting this project, make sure to run all the cells before saving the notebook.  Save the notebook file as \"dlnd_image_classification.ipynb\" and save it as a HTML file under \"File\" -> \"Download as\".  Include the \"helper.py\" and \"problem_unittests.py\" files in your submission."
   ]
  }
 ],
 "metadata": {
  "kernelspec": {
   "display_name": "Python 3",
   "language": "python",
   "name": "python3"
  },
  "language_info": {
   "codemirror_mode": {
    "name": "ipython",
    "version": 3
   },
   "file_extension": ".py",
   "mimetype": "text/x-python",
   "name": "python",
   "nbconvert_exporter": "python",
   "pygments_lexer": "ipython3",
   "version": "3.4.3"
  },
  "widgets": {
   "state": {},
   "version": "1.1.2"
  }
 },
 "nbformat": 4,
 "nbformat_minor": 0
}
