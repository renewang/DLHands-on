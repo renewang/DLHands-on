{
 "cells": [
  {
   "cell_type": "markdown",
   "metadata": {},
   "source": [
    "# 資料分析師的尋常一日 - 簡短分析 IMDB\n",
    "今天要使用 python pandas 函式讀取的是 [IMDB 提供的 dataset](https://www.imdb.com/interfaces/)。 在這個 dataset 中，總共有七個檔案，都用 gzip 壓縮，而分別是：\n",
    "\n",
    "| 檔案名稱                | 簡短中文註解                          |是否使用     \n",
    "|:----------------------:|:---------------------------------:|:--------:|\n",
    "|title.akas.tsv.gz       |影片的語言和地區等較為國際性的資料       |No|\n",
    "|title.basics.tsv.gz     |影片的基本資料，如時間和發行年代        |Yes|\n",
    "|title.crew.tsv.gz       |包括電影與人員有關，主要是導演和編劇的資料|Yes|\n",
    "|title.episode.tsv.gz    |和電視影集相關的資訊                   |No|\n",
    "|title.principals.tsv.gz |包括影片較為詳細的主要工作人員資料        |Mo|\n",
    "|title.ratings.tsv.gz    |包括觀眾對於影片的評價資料               |No|\n",
    "|name.basics.tsv.gz      |包括電影工作人員包括導演等的相關資料       |Yes|\n",
    "\n",
    "如表格所示，今天我們只會用到三個檔案：title.basics.tsv, title.crew.tsv 和 name.basics.tsv。\n",
    "\n",
    "今天的分析，是想知道《從前，有個好萊塢 ..》的導演昆丁塔倫提諾，是否有拍片長度變長的趨勢。這個問題來自於光與影的[臉書貼文](https://www.facebook.com/lightandshadowcinema/photos/a.953335314676769/2573460669330884)，其中提到一個關鍵是，昆丁塔倫提諾在 2010 年失去了長期合作的剪輯師後，則呈現冗長的傾向。\n",
    "\n",
    "分析的流程是：先讀入檔案，找出昆丁塔倫提諾的名字代碼（name.basics.tsv），對應到角色為導演的電影（title.crew.tsv），取出電影的官方公佈時間長（title.basics.tsv），繪製昆丁塔倫提諾導演在執導期間的所有片長時間。"
   ]
  },
  {
   "cell_type": "code",
   "execution_count": 3,
   "metadata": {
    "scrolled": true
   },
   "outputs": [
    {
     "name": "stderr",
     "output_type": "stream",
     "text": [
      "/Users/renewang/anaconda3/envs/workenv/lib/python3.6/site-packages/IPython/core/interactiveshell.py:3020: DtypeWarning: Columns (7) have mixed types. Specify dtype option on import or set low_memory=False.\n",
      "  interactivity=interactivity, compiler=compiler, result=result)\n"
     ]
    }
   ],
   "source": [
    "import pandas as pd\n",
    "import csv\n",
    "\n",
    "basics = pd.read_csv('../input/title.basics.tsv', index_col='tconst',\n",
    "                     delimiter ='\\t', na_values=['\\\\N', '\\\\\\\\N'])"
   ]
  },
  {
   "cell_type": "code",
   "execution_count": 4,
   "metadata": {},
   "outputs": [
    {
     "data": {
      "text/plain": [
       "titleType          object\n",
       "primaryTitle       object\n",
       "originalTitle      object\n",
       "isAdult             int64\n",
       "startYear         float64\n",
       "endYear           float64\n",
       "runtimeMinutes     object\n",
       "genres             object\n",
       "dtype: object"
      ]
     },
     "execution_count": 4,
     "metadata": {},
     "output_type": "execute_result"
    }
   ],
   "source": [
    "basics.dtypes"
   ]
  },
  {
   "cell_type": "markdown",
   "metadata": {},
   "source": [
    "因為 pandas.read_csv 在執行時，發出警告訊息，告訴我們第七欄有混合型別。另外在檢查 title.basics 的表格時，發現 runtimeMinutes 的資料型態為 object，這顯然不是我們希望的結果，我們得去找出問題出在哪裡。第一個除錯的地方可能是把未能成功轉成數值型態的值給列印出來。"
   ]
  },
  {
   "cell_type": "code",
   "execution_count": 5,
   "metadata": {},
   "outputs": [],
   "source": [
    "cond = basics['runtimeMinutes'].str.contains('[a-zA-Z]+', na=False)"
   ]
  },
  {
   "cell_type": "code",
   "execution_count": 6,
   "metadata": {},
   "outputs": [
    {
     "name": "stderr",
     "output_type": "stream",
     "text": [
      "/Users/renewang/anaconda3/envs/workenv/lib/python3.6/site-packages/IPython/core/interactiveshell.py:3020: DtypeWarning: Columns (5) have mixed types. Specify dtype option on import or set low_memory=False.\n",
      "  interactivity=interactivity, compiler=compiler, result=result)\n"
     ]
    },
    {
     "data": {
      "text/html": [
       "<div>\n",
       "<style scoped>\n",
       "    .dataframe tbody tr th:only-of-type {\n",
       "        vertical-align: middle;\n",
       "    }\n",
       "\n",
       "    .dataframe tbody tr th {\n",
       "        vertical-align: top;\n",
       "    }\n",
       "\n",
       "    .dataframe thead th {\n",
       "        text-align: right;\n",
       "    }\n",
       "</style>\n",
       "<table border=\"1\" class=\"dataframe\">\n",
       "  <thead>\n",
       "    <tr style=\"text-align: right;\">\n",
       "      <th></th>\n",
       "      <th>tconst</th>\n",
       "      <th>titleType</th>\n",
       "      <th>primaryTitle</th>\n",
       "      <th>originalTitle</th>\n",
       "      <th>isAdult</th>\n",
       "      <th>startYear</th>\n",
       "      <th>endYear</th>\n",
       "      <th>runtimeMinutes</th>\n",
       "      <th>genres</th>\n",
       "    </tr>\n",
       "  </thead>\n",
       "  <tbody>\n",
       "    <tr>\n",
       "      <th>1102406</th>\n",
       "      <td>tt10233364</td>\n",
       "      <td>tvEpisode</td>\n",
       "      <td>Rolling in the Deep Dish\\tRolling in the Deep ...</td>\n",
       "      <td>0</td>\n",
       "      <td>2019</td>\n",
       "      <td>\\N</td>\n",
       "      <td>\\N</td>\n",
       "      <td>Reality-TV</td>\n",
       "      <td>NaN</td>\n",
       "    </tr>\n",
       "    <tr>\n",
       "      <th>3319722</th>\n",
       "      <td>tt3984412</td>\n",
       "      <td>tvEpisode</td>\n",
       "      <td>I'm Not Going to Come Last, I'm Just Going to ...</td>\n",
       "      <td>0</td>\n",
       "      <td>2014</td>\n",
       "      <td>\\N</td>\n",
       "      <td>\\N</td>\n",
       "      <td>Reality-TV</td>\n",
       "      <td>NaN</td>\n",
       "    </tr>\n",
       "    <tr>\n",
       "      <th>5069611</th>\n",
       "      <td>tt7841930</td>\n",
       "      <td>tvEpisode</td>\n",
       "      <td>Stop and Hear the Cicadas/Cold-Blooded\\tStop a...</td>\n",
       "      <td>0</td>\n",
       "      <td>2018</td>\n",
       "      <td>\\N</td>\n",
       "      <td>24</td>\n",
       "      <td>Animation,Family</td>\n",
       "      <td>NaN</td>\n",
       "    </tr>\n",
       "    <tr>\n",
       "      <th>5490981</th>\n",
       "      <td>tt8740950</td>\n",
       "      <td>tvEpisode</td>\n",
       "      <td>Weight Loss Resolution Restart - Ins &amp; Outs of...</td>\n",
       "      <td>0</td>\n",
       "      <td>2015</td>\n",
       "      <td>\\N</td>\n",
       "      <td>\\N</td>\n",
       "      <td>Reality-TV</td>\n",
       "      <td>NaN</td>\n",
       "    </tr>\n",
       "    <tr>\n",
       "      <th>6041502</th>\n",
       "      <td>tt9900062</td>\n",
       "      <td>tvEpisode</td>\n",
       "      <td>The Direction of Yuu's Love: Hings Aren't Goin...</td>\n",
       "      <td>0</td>\n",
       "      <td>1994</td>\n",
       "      <td>\\N</td>\n",
       "      <td>\\N</td>\n",
       "      <td>Animation,Comedy,Drama</td>\n",
       "      <td>NaN</td>\n",
       "    </tr>\n",
       "  </tbody>\n",
       "</table>\n",
       "</div>"
      ],
      "text/plain": [
       "             tconst  titleType  \\\n",
       "1102406  tt10233364  tvEpisode   \n",
       "3319722   tt3984412  tvEpisode   \n",
       "5069611   tt7841930  tvEpisode   \n",
       "5490981   tt8740950  tvEpisode   \n",
       "6041502   tt9900062  tvEpisode   \n",
       "\n",
       "                                              primaryTitle originalTitle  \\\n",
       "1102406  Rolling in the Deep Dish\\tRolling in the Deep ...             0   \n",
       "3319722  I'm Not Going to Come Last, I'm Just Going to ...             0   \n",
       "5069611  Stop and Hear the Cicadas/Cold-Blooded\\tStop a...             0   \n",
       "5490981  Weight Loss Resolution Restart - Ins & Outs of...             0   \n",
       "6041502  The Direction of Yuu's Love: Hings Aren't Goin...             0   \n",
       "\n",
       "         isAdult startYear endYear          runtimeMinutes genres  \n",
       "1102406     2019        \\N      \\N              Reality-TV    NaN  \n",
       "3319722     2014        \\N      \\N              Reality-TV    NaN  \n",
       "5069611     2018        \\N      24        Animation,Family    NaN  \n",
       "5490981     2015        \\N      \\N              Reality-TV    NaN  \n",
       "6041502     1994        \\N      \\N  Animation,Comedy,Drama    NaN  "
      ]
     },
     "execution_count": 6,
     "metadata": {},
     "output_type": "execute_result"
    }
   ],
   "source": [
    "w = pd.read_csv('../input/title.basics.tsv', delimiter ='\\t') # by not using tconst as index\n",
    "                                                              # will give us a hit of line #\n",
    "cond = cond.reset_index()\n",
    "w[cond['runtimeMinutes']]"
   ]
  },
  {
   "cell_type": "code",
   "execution_count": 7,
   "metadata": {
    "scrolled": true
   },
   "outputs": [
    {
     "name": "stdout",
     "output_type": "stream",
     "text": [
      "tt10233364\ttvEpisode\t\"Rolling in the Deep Dish\t\"Rolling in the Deep Dish\t0\t2019\t\\N\t\\N\tReality-TV\r\n"
     ]
    }
   ],
   "source": [
    "!sed -n '1102408, 1102408'p ../input/title.basics.tsv"
   ]
  },
  {
   "cell_type": "markdown",
   "metadata": {},
   "source": [
    "藉由列印出有問題的列，可以發現原檔案中有使用雙引號，但其數量是不對稱的，也就是說用在 *primaryTitle* 欄位的雙引號，包住了分隔符號，也就是 \\t 。而原本分配給 *primaryTitle* 和 *originalTitle* 兩個欄位的值，在不當使用雙引號後，全都分配給了 *primaryTitle* ，造成了解析後的欄位減少！   \n",
    "\n",
    "看到這裡，有些新手可能會覺得恐慌，難道我們要改寫 pandas 嗎？但事實上，解決這個問題非常簡單，如果你熟悉 csv 檔的話！這時，就讓我們垂降至架構 pandas.read_csv 底層的函式，也是 python standard library， csv 模組。\n",
    "\n",
    "我們可以看到，在 [csv 模組](https://docs.python.org/3/library/csv.html) 中針對 quoting （引號）定義了一些在寫入時，如何處理引號的部分。 他們包括了：\n",
    "\n",
    "- csv.QUOTE_ALL: 不管每一個欄位裝什麼東西，一律都用引用符號（可以是單引號或是雙引號）來包住。\n",
    "- csv.QUOTE_MINIMAL： 只要該欄位有特別的字元，如分隔符號，引號到分隔或分行符號，才使用引用符號來包住。\n",
    "- csv.QUOTE_NONNUMERIC：同上，但使用引號的標準是當欄位包括文字時，或非數值的字元。在讀取時，會將未使用引號的欄位，都轉成數值型態。\n",
    "- csv.QUOTE_NONE：不使用引用\n",
    "\n",
    "看起來 csv.QUOTE_NONE 比較像我們的需求，所以我們將這個參數帶入 pandas.read_csv 中"
   ]
  },
  {
   "cell_type": "code",
   "execution_count": 8,
   "metadata": {},
   "outputs": [],
   "source": [
    "basics = pd.read_csv('../input/title.basics.tsv', index_col='tconst',\n",
    "                     delimiter ='\\t', na_values=['\\\\N', '\\\\\\\\N'], quoting=csv.QUOTE_NONE)"
   ]
  },
  {
   "cell_type": "code",
   "execution_count": 9,
   "metadata": {
    "scrolled": true
   },
   "outputs": [
    {
     "data": {
      "text/plain": [
       "titleType          object\n",
       "primaryTitle       object\n",
       "originalTitle      object\n",
       "isAdult             int64\n",
       "startYear         float64\n",
       "endYear           float64\n",
       "runtimeMinutes    float64\n",
       "genres             object\n",
       "dtype: object"
      ]
     },
     "execution_count": 9,
     "metadata": {},
     "output_type": "execute_result"
    }
   ],
   "source": [
    "basics.dtypes"
   ]
  },
  {
   "cell_type": "markdown",
   "metadata": {},
   "source": [
    "很好，我們順利的將 runtimeMinutes 轉成了 float64。但，大家可能覺得很奇怪，包括 startYear，endYear 為何是 float 型態。這一切都是萬惡的 np.nan 主要型態是 float，而且沒有 integer 的對應版本。至於為何 np.nan 會是浮點數，pandas 的 release team 則將他們的回答寫在常見的 [FAQ: NaN, Integer NA values and NA type promotions](https://pandas.pydata.org/pandas-docs/stable/user_guide/gotchas.html#nan-integer-na-values-and-na-type-promotions)\n",
    "\n",
    "大家可以看以下的表格，了解 missing values 在不同的資料型態被表示的方式。\n",
    "\n",
    "| Type\t|Represents missing values |\n",
    "|-------|------------------|\n",
    "|floating : float64, float32, float16|\tnp.nan|\n",
    "|integer : int64, int32, int8, uint64,uint32, uint8\t|| \n",
    "|boolean|||\t \n",
    "|datetime64[ns]|\tNaT|\n",
    "|timedelta64[ns]|\tNaT|\n",
    "|categorical : see the section below|\t \n",
    "|object : strings|\tnp.nan|\n",
    "\n",
    "無論如何，為了節省記憶體空間，我們把這些資料型態從 64 位元壓縮到 32 位元，畢竟他們原本是正整數。"
   ]
  },
  {
   "cell_type": "code",
   "execution_count": 10,
   "metadata": {},
   "outputs": [
    {
     "data": {
      "text/plain": [
       "titleType          object\n",
       "primaryTitle       object\n",
       "originalTitle      object\n",
       "isAdult             int32\n",
       "startYear         float32\n",
       "endYear           float32\n",
       "runtimeMinutes    float32\n",
       "genres             object\n",
       "dtype: object"
      ]
     },
     "execution_count": 10,
     "metadata": {},
     "output_type": "execute_result"
    }
   ],
   "source": [
    "for col in basics.columns:\n",
    "  if str(basics[col].dtype).endswith('64'):\n",
    "    from_dtype = str(basics[col].dtype)[:-2]\n",
    "    basics[col] = basics[col].astype('%s32'%from_dtype)\n",
    "basics.dtypes"
   ]
  },
  {
   "cell_type": "markdown",
   "metadata": {},
   "source": [
    "接著我們來讀進其他檔案。這些檔案和主要檔案的關係如下圖："
   ]
  },
  {
   "cell_type": "code",
   "execution_count": 58,
   "metadata": {},
   "outputs": [
    {
     "data": {
      "image/png": "[encoded data removed]",
      "text/plain": [
       "<IPython.core.display.Image object>"
      ]
     },
     "execution_count": 58,
     "metadata": {},
     "output_type": "execute_result"
    }
   ],
   "source": [
    "from IPython.display import Image \n",
    "Image(data='dbdiagram.png', embed=True)"
   ]
  },
  {
   "cell_type": "code",
   "execution_count": 11,
   "metadata": {},
   "outputs": [],
   "source": [
    "crew = pd.read_csv('../input/title.crew.tsv', delimiter ='\\t', na_values=['\\\\N', '\\\\\\\\N'], index_col='tconst')"
   ]
  },
  {
   "cell_type": "code",
   "execution_count": 12,
   "metadata": {},
   "outputs": [
    {
     "data": {
      "text/html": [
       "<div>\n",
       "<style scoped>\n",
       "    .dataframe tbody tr th:only-of-type {\n",
       "        vertical-align: middle;\n",
       "    }\n",
       "\n",
       "    .dataframe tbody tr th {\n",
       "        vertical-align: top;\n",
       "    }\n",
       "\n",
       "    .dataframe thead th {\n",
       "        text-align: right;\n",
       "    }\n",
       "</style>\n",
       "<table border=\"1\" class=\"dataframe\">\n",
       "  <thead>\n",
       "    <tr style=\"text-align: right;\">\n",
       "      <th></th>\n",
       "      <th>directors</th>\n",
       "      <th>writers</th>\n",
       "    </tr>\n",
       "    <tr>\n",
       "      <th>tconst</th>\n",
       "      <th></th>\n",
       "      <th></th>\n",
       "    </tr>\n",
       "  </thead>\n",
       "  <tbody>\n",
       "    <tr>\n",
       "      <th>tt0000001</th>\n",
       "      <td>nm0005690</td>\n",
       "      <td>NaN</td>\n",
       "    </tr>\n",
       "    <tr>\n",
       "      <th>tt0000002</th>\n",
       "      <td>nm0721526</td>\n",
       "      <td>NaN</td>\n",
       "    </tr>\n",
       "    <tr>\n",
       "      <th>tt0000003</th>\n",
       "      <td>nm0721526</td>\n",
       "      <td>NaN</td>\n",
       "    </tr>\n",
       "    <tr>\n",
       "      <th>tt0000004</th>\n",
       "      <td>nm0721526</td>\n",
       "      <td>NaN</td>\n",
       "    </tr>\n",
       "    <tr>\n",
       "      <th>tt0000005</th>\n",
       "      <td>nm0005690</td>\n",
       "      <td>NaN</td>\n",
       "    </tr>\n",
       "  </tbody>\n",
       "</table>\n",
       "</div>"
      ],
      "text/plain": [
       "           directors writers\n",
       "tconst                      \n",
       "tt0000001  nm0005690     NaN\n",
       "tt0000002  nm0721526     NaN\n",
       "tt0000003  nm0721526     NaN\n",
       "tt0000004  nm0721526     NaN\n",
       "tt0000005  nm0005690     NaN"
      ]
     },
     "execution_count": 12,
     "metadata": {},
     "output_type": "execute_result"
    }
   ],
   "source": [
    "crew.head()"
   ]
  },
  {
   "cell_type": "code",
   "execution_count": 13,
   "metadata": {},
   "outputs": [],
   "source": [
    "name = pd.read_csv('../input/name.basics.tsv', delimiter ='\\t', na_values=['\\\\N', '\\\\\\\\N'], \n",
    "                   index_col='nconst')"
   ]
  },
  {
   "cell_type": "code",
   "execution_count": 14,
   "metadata": {},
   "outputs": [
    {
     "data": {
      "text/html": [
       "<div>\n",
       "<style scoped>\n",
       "    .dataframe tbody tr th:only-of-type {\n",
       "        vertical-align: middle;\n",
       "    }\n",
       "\n",
       "    .dataframe tbody tr th {\n",
       "        vertical-align: top;\n",
       "    }\n",
       "\n",
       "    .dataframe thead th {\n",
       "        text-align: right;\n",
       "    }\n",
       "</style>\n",
       "<table border=\"1\" class=\"dataframe\">\n",
       "  <thead>\n",
       "    <tr style=\"text-align: right;\">\n",
       "      <th></th>\n",
       "      <th>primaryName</th>\n",
       "      <th>birthYear</th>\n",
       "      <th>deathYear</th>\n",
       "      <th>primaryProfession</th>\n",
       "      <th>knownForTitles</th>\n",
       "    </tr>\n",
       "    <tr>\n",
       "      <th>nconst</th>\n",
       "      <th></th>\n",
       "      <th></th>\n",
       "      <th></th>\n",
       "      <th></th>\n",
       "      <th></th>\n",
       "    </tr>\n",
       "  </thead>\n",
       "  <tbody>\n",
       "    <tr>\n",
       "      <th>nm0000001</th>\n",
       "      <td>Fred Astaire</td>\n",
       "      <td>1899.0</td>\n",
       "      <td>1987.0</td>\n",
       "      <td>soundtrack,actor,miscellaneous</td>\n",
       "      <td>tt0043044,tt0053137,tt0072308,tt0050419</td>\n",
       "    </tr>\n",
       "    <tr>\n",
       "      <th>nm0000002</th>\n",
       "      <td>Lauren Bacall</td>\n",
       "      <td>1924.0</td>\n",
       "      <td>2014.0</td>\n",
       "      <td>actress,soundtrack</td>\n",
       "      <td>tt0037382,tt0038355,tt0071877,tt0117057</td>\n",
       "    </tr>\n",
       "    <tr>\n",
       "      <th>nm0000003</th>\n",
       "      <td>Brigitte Bardot</td>\n",
       "      <td>1934.0</td>\n",
       "      <td>NaN</td>\n",
       "      <td>actress,soundtrack,producer</td>\n",
       "      <td>tt0057345,tt0059956,tt0049189,tt0054452</td>\n",
       "    </tr>\n",
       "    <tr>\n",
       "      <th>nm0000004</th>\n",
       "      <td>John Belushi</td>\n",
       "      <td>1949.0</td>\n",
       "      <td>1982.0</td>\n",
       "      <td>actor,writer,soundtrack</td>\n",
       "      <td>tt0072562,tt0080455,tt0078723,tt0077975</td>\n",
       "    </tr>\n",
       "    <tr>\n",
       "      <th>nm0000005</th>\n",
       "      <td>Ingmar Bergman</td>\n",
       "      <td>1918.0</td>\n",
       "      <td>2007.0</td>\n",
       "      <td>writer,director,actor</td>\n",
       "      <td>tt0083922,tt0050976,tt0069467,tt0050986</td>\n",
       "    </tr>\n",
       "  </tbody>\n",
       "</table>\n",
       "</div>"
      ],
      "text/plain": [
       "               primaryName  birthYear  deathYear  \\\n",
       "nconst                                             \n",
       "nm0000001     Fred Astaire     1899.0     1987.0   \n",
       "nm0000002    Lauren Bacall     1924.0     2014.0   \n",
       "nm0000003  Brigitte Bardot     1934.0        NaN   \n",
       "nm0000004     John Belushi     1949.0     1982.0   \n",
       "nm0000005   Ingmar Bergman     1918.0     2007.0   \n",
       "\n",
       "                        primaryProfession  \\\n",
       "nconst                                      \n",
       "nm0000001  soundtrack,actor,miscellaneous   \n",
       "nm0000002              actress,soundtrack   \n",
       "nm0000003     actress,soundtrack,producer   \n",
       "nm0000004         actor,writer,soundtrack   \n",
       "nm0000005           writer,director,actor   \n",
       "\n",
       "                                    knownForTitles  \n",
       "nconst                                              \n",
       "nm0000001  tt0043044,tt0053137,tt0072308,tt0050419  \n",
       "nm0000002  tt0037382,tt0038355,tt0071877,tt0117057  \n",
       "nm0000003  tt0057345,tt0059956,tt0049189,tt0054452  \n",
       "nm0000004  tt0072562,tt0080455,tt0078723,tt0077975  \n",
       "nm0000005  tt0083922,tt0050976,tt0069467,tt0050986  "
      ]
     },
     "execution_count": 14,
     "metadata": {},
     "output_type": "execute_result"
    }
   ],
   "source": [
    "name.head()"
   ]
  },
  {
   "cell_type": "markdown",
   "metadata": {},
   "source": [
    "我們利用 pandas 的 str accessor 來進行對每一列的字串型態資料來進行比對，這個版本會呼叫 python 標準函式庫 re 模組的 match，也就是會做 c library 呼叫。不過，先確認我們的電影人員名單上只有一個 'Quentin Tarantino'，我們可以用 sum 這個 aggregation，確定這個世界上只有一個 Quentin Tarantino（昆丁塔倫提諾）。"
   ]
  },
  {
   "cell_type": "code",
   "execution_count": 59,
   "metadata": {},
   "outputs": [],
   "source": [
    "assert(name.primaryName.str.match('Quentin Tarantino').sum()==1)"
   ]
  },
  {
   "cell_type": "markdown",
   "metadata": {},
   "source": [
    "太好了！並沒有複製人出現！\n",
    "\n",
    "接著我們需要取出昆丁導演的名字代碼，要取出代碼就要使用由 str.match 傳為的真假值。由於我們的欄位有許多 NaN，所以在呼叫 str.match 方法時，要特別指定如果遇到 NaN 的值時，要回傳的布林值為何？True or False？或是還是維持 NaN。在這裡我們認為 NaN 就是不匹配，所以回傳 False（即`na=False`）。\n",
    "\n",
    "我們知道只有一列的名稱為真，所以我們可以使用 pandas.Series 或是 pandas.DataFrame 的 where 方法，建構出與輸入大小相等，型態相同的資料結構。換句話說，若輸入為 pandas.Series 則回傳 Series 或 pandas.DataFrame 則回傳 DataFrame。\n",
    "\n",
    "where 方法對於假值（回傳 False）預設值為 np.nan，但 client code 也可以指定要回傳哪一個值。"
   ]
  },
  {
   "cell_type": "code",
   "execution_count": 15,
   "metadata": {},
   "outputs": [
    {
     "data": {
      "text/html": [
       "<div>\n",
       "<style scoped>\n",
       "    .dataframe tbody tr th:only-of-type {\n",
       "        vertical-align: middle;\n",
       "    }\n",
       "\n",
       "    .dataframe tbody tr th {\n",
       "        vertical-align: top;\n",
       "    }\n",
       "\n",
       "    .dataframe thead th {\n",
       "        text-align: right;\n",
       "    }\n",
       "</style>\n",
       "<table border=\"1\" class=\"dataframe\">\n",
       "  <thead>\n",
       "    <tr style=\"text-align: right;\">\n",
       "      <th></th>\n",
       "      <th>primaryName</th>\n",
       "      <th>birthYear</th>\n",
       "      <th>deathYear</th>\n",
       "      <th>primaryProfession</th>\n",
       "      <th>knownForTitles</th>\n",
       "    </tr>\n",
       "    <tr>\n",
       "      <th>nconst</th>\n",
       "      <th></th>\n",
       "      <th></th>\n",
       "      <th></th>\n",
       "      <th></th>\n",
       "      <th></th>\n",
       "    </tr>\n",
       "  </thead>\n",
       "  <tbody>\n",
       "    <tr>\n",
       "      <th>nm0000001</th>\n",
       "      <td>NaN</td>\n",
       "      <td>NaN</td>\n",
       "      <td>NaN</td>\n",
       "      <td>NaN</td>\n",
       "      <td>NaN</td>\n",
       "    </tr>\n",
       "    <tr>\n",
       "      <th>nm0000002</th>\n",
       "      <td>NaN</td>\n",
       "      <td>NaN</td>\n",
       "      <td>NaN</td>\n",
       "      <td>NaN</td>\n",
       "      <td>NaN</td>\n",
       "    </tr>\n",
       "    <tr>\n",
       "      <th>nm0000003</th>\n",
       "      <td>NaN</td>\n",
       "      <td>NaN</td>\n",
       "      <td>NaN</td>\n",
       "      <td>NaN</td>\n",
       "      <td>NaN</td>\n",
       "    </tr>\n",
       "    <tr>\n",
       "      <th>nm0000004</th>\n",
       "      <td>NaN</td>\n",
       "      <td>NaN</td>\n",
       "      <td>NaN</td>\n",
       "      <td>NaN</td>\n",
       "      <td>NaN</td>\n",
       "    </tr>\n",
       "    <tr>\n",
       "      <th>nm0000005</th>\n",
       "      <td>NaN</td>\n",
       "      <td>NaN</td>\n",
       "      <td>NaN</td>\n",
       "      <td>NaN</td>\n",
       "      <td>NaN</td>\n",
       "    </tr>\n",
       "  </tbody>\n",
       "</table>\n",
       "</div>"
      ],
      "text/plain": [
       "          primaryName  birthYear  deathYear primaryProfession knownForTitles\n",
       "nconst                                                                      \n",
       "nm0000001         NaN        NaN        NaN               NaN            NaN\n",
       "nm0000002         NaN        NaN        NaN               NaN            NaN\n",
       "nm0000003         NaN        NaN        NaN               NaN            NaN\n",
       "nm0000004         NaN        NaN        NaN               NaN            NaN\n",
       "nm0000005         NaN        NaN        NaN               NaN            NaN"
      ]
     },
     "execution_count": 15,
     "metadata": {},
     "output_type": "execute_result"
    }
   ],
   "source": [
    "name.where(name.primaryName.str.match('Quentin Tarantino', na=False)).head()"
   ]
  },
  {
   "cell_type": "markdown",
   "metadata": {},
   "source": [
    "然而，where 方法的輸出，比較適合將已 apply 過濾的條件式做數值運算，如 sum 等函式，具有處理 np.nan 的能力。但這個能力，在我們的目的並沒有任何施展的空間，因為我們只單純的想把真值對應到的列取出，此時我們就可以用 boolean index，用法如下："
   ]
  },
  {
   "cell_type": "code",
   "execution_count": 62,
   "metadata": {},
   "outputs": [
    {
     "data": {
      "text/html": [
       "<div>\n",
       "<style scoped>\n",
       "    .dataframe tbody tr th:only-of-type {\n",
       "        vertical-align: middle;\n",
       "    }\n",
       "\n",
       "    .dataframe tbody tr th {\n",
       "        vertical-align: top;\n",
       "    }\n",
       "\n",
       "    .dataframe thead th {\n",
       "        text-align: right;\n",
       "    }\n",
       "</style>\n",
       "<table border=\"1\" class=\"dataframe\">\n",
       "  <thead>\n",
       "    <tr style=\"text-align: right;\">\n",
       "      <th></th>\n",
       "      <th>primaryName</th>\n",
       "      <th>birthYear</th>\n",
       "      <th>deathYear</th>\n",
       "      <th>primaryProfession</th>\n",
       "      <th>knownForTitles</th>\n",
       "    </tr>\n",
       "    <tr>\n",
       "      <th>nconst</th>\n",
       "      <th></th>\n",
       "      <th></th>\n",
       "      <th></th>\n",
       "      <th></th>\n",
       "      <th></th>\n",
       "    </tr>\n",
       "  </thead>\n",
       "  <tbody>\n",
       "    <tr>\n",
       "      <th>nm0000233</th>\n",
       "      <td>Quentin Tarantino</td>\n",
       "      <td>1963.0</td>\n",
       "      <td>NaN</td>\n",
       "      <td>writer,actor,producer</td>\n",
       "      <td>tt0116367,tt0110912,tt0105236,tt3460252</td>\n",
       "    </tr>\n",
       "  </tbody>\n",
       "</table>\n",
       "</div>"
      ],
      "text/plain": [
       "                 primaryName  birthYear  deathYear      primaryProfession  \\\n",
       "nconst                                                                      \n",
       "nm0000233  Quentin Tarantino     1963.0        NaN  writer,actor,producer   \n",
       "\n",
       "                                    knownForTitles  \n",
       "nconst                                              \n",
       "nm0000233  tt0116367,tt0110912,tt0105236,tt3460252  "
      ]
     },
     "execution_count": 62,
     "metadata": {},
     "output_type": "execute_result"
    }
   ],
   "source": [
    "qt = name[name.primaryName.str.match('Quentin Tarantino', na=False)]\n",
    "qt.head()"
   ]
  },
  {
   "cell_type": "markdown",
   "metadata": {},
   "source": [
    "在這裡我們再次應用 str.find 的方法，來找出所有的導演列表中，包含昆丁導演的名字代碼。一樣我們也取出由昆丁導演執導的電影。"
   ]
  },
  {
   "cell_type": "code",
   "execution_count": 63,
   "metadata": {
    "scrolled": true
   },
   "outputs": [],
   "source": [
    "qt_result = crew[crew['directors'].str.find(qt.index[0]) >= 0]"
   ]
  },
  {
   "cell_type": "code",
   "execution_count": 64,
   "metadata": {
    "scrolled": true
   },
   "outputs": [
    {
     "data": {
      "text/html": [
       "<div>\n",
       "<style scoped>\n",
       "    .dataframe tbody tr th:only-of-type {\n",
       "        vertical-align: middle;\n",
       "    }\n",
       "\n",
       "    .dataframe tbody tr th {\n",
       "        vertical-align: top;\n",
       "    }\n",
       "\n",
       "    .dataframe thead th {\n",
       "        text-align: right;\n",
       "    }\n",
       "</style>\n",
       "<table border=\"1\" class=\"dataframe\">\n",
       "  <thead>\n",
       "    <tr style=\"text-align: right;\">\n",
       "      <th></th>\n",
       "      <th>directors</th>\n",
       "      <th>writers</th>\n",
       "    </tr>\n",
       "    <tr>\n",
       "      <th>tconst</th>\n",
       "      <th></th>\n",
       "      <th></th>\n",
       "    </tr>\n",
       "  </thead>\n",
       "  <tbody>\n",
       "    <tr>\n",
       "      <th>tt0105236</th>\n",
       "      <td>nm0000233</td>\n",
       "      <td>nm0000233,nm0000812</td>\n",
       "    </tr>\n",
       "    <tr>\n",
       "      <th>tt0108757</th>\n",
       "      <td>nm0000381,nm0372877,nm0302411,nm0631480,nm0793...</td>\n",
       "      <td>nm0282378,nm1537756,nm0792471,nm1125049,nm0313...</td>\n",
       "    </tr>\n",
       "    <tr>\n",
       "      <th>tt0110912</th>\n",
       "      <td>nm0000233</td>\n",
       "      <td>nm0000233,nm0000812</td>\n",
       "    </tr>\n",
       "    <tr>\n",
       "      <th>tt0113101</th>\n",
       "      <td>nm0001675,nm0000233,nm0025978,nm0734319</td>\n",
       "      <td>nm0025978,nm0734319,nm0001675,nm0000233</td>\n",
       "    </tr>\n",
       "    <tr>\n",
       "      <th>tt0119396</th>\n",
       "      <td>nm0000233</td>\n",
       "      <td>nm0000233,nm0001465</td>\n",
       "    </tr>\n",
       "  </tbody>\n",
       "</table>\n",
       "</div>"
      ],
      "text/plain": [
       "                                                   directors  \\\n",
       "tconst                                                         \n",
       "tt0105236                                          nm0000233   \n",
       "tt0108757  nm0000381,nm0372877,nm0302411,nm0631480,nm0793...   \n",
       "tt0110912                                          nm0000233   \n",
       "tt0113101            nm0001675,nm0000233,nm0025978,nm0734319   \n",
       "tt0119396                                          nm0000233   \n",
       "\n",
       "                                                     writers  \n",
       "tconst                                                        \n",
       "tt0105236                                nm0000233,nm0000812  \n",
       "tt0108757  nm0282378,nm1537756,nm0792471,nm1125049,nm0313...  \n",
       "tt0110912                                nm0000233,nm0000812  \n",
       "tt0113101            nm0025978,nm0734319,nm0001675,nm0000233  \n",
       "tt0119396                                nm0000233,nm0001465  "
      ]
     },
     "execution_count": 64,
     "metadata": {},
     "output_type": "execute_result"
    }
   ],
   "source": [
    "qt_result.head()"
   ]
  },
  {
   "cell_type": "markdown",
   "metadata": {},
   "source": [
    "根據我們的 table schema，我們現在要找出所有昆丁導演執導的片。但在這裡值得一提的字串匹配都需要昂貴的計算量，但，我們可以將這些字串 index 起來，為了能快速提取符合 index 的值，多數成為 index 的 raw 值都必須經過前處理，如使用雜湊表（hash）產生一個獨特的數值，而非字串。 想當然爾，比較雜湊表產生的獨特數值要比字串容易多了。   \n",
    "\n",
    "其次，因為 join table 是一個相當昂貴的運算，所以我們希望用於該運算的資料是愈精簡愈好，所以 basics table 中就先限制只屬於 movie 的類別，隨後再以 pandas.merge 來做 join table 的部分。  \n"
   ]
  },
  {
   "cell_type": "code",
   "execution_count": 65,
   "metadata": {},
   "outputs": [
    {
     "name": "stdout",
     "output_type": "stream",
     "text": [
      "1.32 s ± 30.8 ms per loop (mean ± std. dev. of 7 runs, 1 loop each)\n"
     ]
    }
   ],
   "source": [
    "%%timeit\n",
    "movie_types = basics[basics['titleType'] == 'movie']\n",
    "qt_movies  = pd.merge(qt_result.reset_index(), movie_types.reset_index(), on='tconst')"
   ]
  },
  {
   "cell_type": "code",
   "execution_count": 66,
   "metadata": {},
   "outputs": [
    {
     "name": "stdout",
     "output_type": "stream",
     "text": [
      "790 ms ± 58.8 ms per loop (mean ± std. dev. of 7 runs, 1 loop each)\n"
     ]
    }
   ],
   "source": [
    "%%timeit \n",
    "movie_types = basics[basics['titleType'] == 'movie']\n",
    "qt_movies = pd.merge(qt_result, movie_types, left_index=True, right_index=True)"
   ]
  },
  {
   "cell_type": "markdown",
   "metadata": {},
   "source": [
    "大家可以看到使用 'tconst' 欄位作為 key 來做 inner join 花了大概 1 秒多，然而使用 'tconst' 作為 index 來做 inner join 可快多了！"
   ]
  },
  {
   "cell_type": "code",
   "execution_count": 22,
   "metadata": {},
   "outputs": [
    {
     "data": {
      "text/html": [
       "<div>\n",
       "<style scoped>\n",
       "    .dataframe tbody tr th:only-of-type {\n",
       "        vertical-align: middle;\n",
       "    }\n",
       "\n",
       "    .dataframe tbody tr th {\n",
       "        vertical-align: top;\n",
       "    }\n",
       "\n",
       "    .dataframe thead th {\n",
       "        text-align: right;\n",
       "    }\n",
       "</style>\n",
       "<table border=\"1\" class=\"dataframe\">\n",
       "  <thead>\n",
       "    <tr style=\"text-align: right;\">\n",
       "      <th></th>\n",
       "      <th>tconst</th>\n",
       "      <th>directors</th>\n",
       "      <th>writers</th>\n",
       "      <th>titleType</th>\n",
       "      <th>primaryTitle</th>\n",
       "      <th>originalTitle</th>\n",
       "      <th>isAdult</th>\n",
       "      <th>startYear</th>\n",
       "      <th>endYear</th>\n",
       "      <th>runtimeMinutes</th>\n",
       "      <th>genres</th>\n",
       "    </tr>\n",
       "  </thead>\n",
       "  <tbody>\n",
       "    <tr>\n",
       "      <th>0</th>\n",
       "      <td>tt0105236</td>\n",
       "      <td>nm0000233</td>\n",
       "      <td>nm0000233,nm0000812</td>\n",
       "      <td>movie</td>\n",
       "      <td>Reservoir Dogs</td>\n",
       "      <td>Reservoir Dogs</td>\n",
       "      <td>0</td>\n",
       "      <td>1992.0</td>\n",
       "      <td>NaN</td>\n",
       "      <td>99.0</td>\n",
       "      <td>Crime,Drama,Thriller</td>\n",
       "    </tr>\n",
       "    <tr>\n",
       "      <th>1</th>\n",
       "      <td>tt0110912</td>\n",
       "      <td>nm0000233</td>\n",
       "      <td>nm0000233,nm0000812</td>\n",
       "      <td>movie</td>\n",
       "      <td>Pulp Fiction</td>\n",
       "      <td>Pulp Fiction</td>\n",
       "      <td>0</td>\n",
       "      <td>1994.0</td>\n",
       "      <td>NaN</td>\n",
       "      <td>154.0</td>\n",
       "      <td>Crime,Drama</td>\n",
       "    </tr>\n",
       "    <tr>\n",
       "      <th>2</th>\n",
       "      <td>tt0113101</td>\n",
       "      <td>nm0001675,nm0000233,nm0025978,nm0734319</td>\n",
       "      <td>nm0025978,nm0734319,nm0001675,nm0000233</td>\n",
       "      <td>movie</td>\n",
       "      <td>Four Rooms</td>\n",
       "      <td>Four Rooms</td>\n",
       "      <td>0</td>\n",
       "      <td>1995.0</td>\n",
       "      <td>NaN</td>\n",
       "      <td>98.0</td>\n",
       "      <td>Comedy</td>\n",
       "    </tr>\n",
       "    <tr>\n",
       "      <th>3</th>\n",
       "      <td>tt0119396</td>\n",
       "      <td>nm0000233</td>\n",
       "      <td>nm0000233,nm0001465</td>\n",
       "      <td>movie</td>\n",
       "      <td>Jackie Brown</td>\n",
       "      <td>Jackie Brown</td>\n",
       "      <td>0</td>\n",
       "      <td>1997.0</td>\n",
       "      <td>NaN</td>\n",
       "      <td>154.0</td>\n",
       "      <td>Crime,Drama,Thriller</td>\n",
       "    </tr>\n",
       "    <tr>\n",
       "      <th>4</th>\n",
       "      <td>tt0266697</td>\n",
       "      <td>nm0000233</td>\n",
       "      <td>nm0000233,nm0000235</td>\n",
       "      <td>movie</td>\n",
       "      <td>Kill Bill: Vol. 1</td>\n",
       "      <td>Kill Bill: Vol. 1</td>\n",
       "      <td>0</td>\n",
       "      <td>2003.0</td>\n",
       "      <td>NaN</td>\n",
       "      <td>111.0</td>\n",
       "      <td>Action,Crime,Thriller</td>\n",
       "    </tr>\n",
       "  </tbody>\n",
       "</table>\n",
       "</div>"
      ],
      "text/plain": [
       "      tconst                                directors  \\\n",
       "0  tt0105236                                nm0000233   \n",
       "1  tt0110912                                nm0000233   \n",
       "2  tt0113101  nm0001675,nm0000233,nm0025978,nm0734319   \n",
       "3  tt0119396                                nm0000233   \n",
       "4  tt0266697                                nm0000233   \n",
       "\n",
       "                                   writers titleType       primaryTitle  \\\n",
       "0                      nm0000233,nm0000812     movie     Reservoir Dogs   \n",
       "1                      nm0000233,nm0000812     movie       Pulp Fiction   \n",
       "2  nm0025978,nm0734319,nm0001675,nm0000233     movie         Four Rooms   \n",
       "3                      nm0000233,nm0001465     movie       Jackie Brown   \n",
       "4                      nm0000233,nm0000235     movie  Kill Bill: Vol. 1   \n",
       "\n",
       "       originalTitle  isAdult  startYear  endYear  runtimeMinutes  \\\n",
       "0     Reservoir Dogs        0     1992.0      NaN            99.0   \n",
       "1       Pulp Fiction        0     1994.0      NaN           154.0   \n",
       "2         Four Rooms        0     1995.0      NaN            98.0   \n",
       "3       Jackie Brown        0     1997.0      NaN           154.0   \n",
       "4  Kill Bill: Vol. 1        0     2003.0      NaN           111.0   \n",
       "\n",
       "                  genres  \n",
       "0   Crime,Drama,Thriller  \n",
       "1            Crime,Drama  \n",
       "2                 Comedy  \n",
       "3   Crime,Drama,Thriller  \n",
       "4  Action,Crime,Thriller  "
      ]
     },
     "execution_count": 22,
     "metadata": {},
     "output_type": "execute_result"
    }
   ],
   "source": [
    "movie_types = basics[basics['titleType'] == 'movie']\n",
    "qt_movies  = pd.merge(qt_result.reset_index(), movie_types.reset_index(), on='tconst')\n",
    "qt_movies.head()"
   ]
  },
  {
   "cell_type": "code",
   "execution_count": 103,
   "metadata": {},
   "outputs": [
    {
     "data": {
      "text/html": [
       "<div>\n",
       "<style scoped>\n",
       "    .dataframe tbody tr th:only-of-type {\n",
       "        vertical-align: middle;\n",
       "    }\n",
       "\n",
       "    .dataframe tbody tr th {\n",
       "        vertical-align: top;\n",
       "    }\n",
       "\n",
       "    .dataframe thead th {\n",
       "        text-align: right;\n",
       "    }\n",
       "</style>\n",
       "<table border=\"1\" class=\"dataframe\">\n",
       "  <thead>\n",
       "    <tr style=\"text-align: right;\">\n",
       "      <th></th>\n",
       "      <th>level_0</th>\n",
       "      <th>index</th>\n",
       "      <th>tconst</th>\n",
       "      <th>directors</th>\n",
       "      <th>writers</th>\n",
       "      <th>titleType</th>\n",
       "      <th>primaryTitle</th>\n",
       "      <th>originalTitle</th>\n",
       "      <th>isAdult</th>\n",
       "      <th>startYear</th>\n",
       "      <th>endYear</th>\n",
       "      <th>runtimeMinutes</th>\n",
       "      <th>genres</th>\n",
       "    </tr>\n",
       "  </thead>\n",
       "  <tbody>\n",
       "    <tr>\n",
       "      <th>11</th>\n",
       "      <td>11</td>\n",
       "      <td>13</td>\n",
       "      <td>tt6019206</td>\n",
       "      <td>nm0000233</td>\n",
       "      <td>nm0000233,nm0000235</td>\n",
       "      <td>movie</td>\n",
       "      <td>Kill Bill: The Whole Bloody Affair</td>\n",
       "      <td>Kill Bill: The Whole Bloody Affair</td>\n",
       "      <td>0</td>\n",
       "      <td>2011.0</td>\n",
       "      <td>NaN</td>\n",
       "      <td>247.0</td>\n",
       "      <td>Action,Crime,Thriller</td>\n",
       "    </tr>\n",
       "    <tr>\n",
       "      <th>12</th>\n",
       "      <td>12</td>\n",
       "      <td>11</td>\n",
       "      <td>tt1853728</td>\n",
       "      <td>nm0000233</td>\n",
       "      <td>nm0000233</td>\n",
       "      <td>movie</td>\n",
       "      <td>Django Unchained</td>\n",
       "      <td>Django Unchained</td>\n",
       "      <td>0</td>\n",
       "      <td>2012.0</td>\n",
       "      <td>NaN</td>\n",
       "      <td>165.0</td>\n",
       "      <td>Drama,Western</td>\n",
       "    </tr>\n",
       "    <tr>\n",
       "      <th>13</th>\n",
       "      <td>13</td>\n",
       "      <td>12</td>\n",
       "      <td>tt3460252</td>\n",
       "      <td>nm0000233</td>\n",
       "      <td>nm0000233</td>\n",
       "      <td>movie</td>\n",
       "      <td>The Hateful Eight</td>\n",
       "      <td>The Hateful Eight</td>\n",
       "      <td>0</td>\n",
       "      <td>2015.0</td>\n",
       "      <td>NaN</td>\n",
       "      <td>168.0</td>\n",
       "      <td>Crime,Drama,Mystery</td>\n",
       "    </tr>\n",
       "    <tr>\n",
       "      <th>14</th>\n",
       "      <td>14</td>\n",
       "      <td>14</td>\n",
       "      <td>tt7131622</td>\n",
       "      <td>nm0000233</td>\n",
       "      <td>nm0000233</td>\n",
       "      <td>movie</td>\n",
       "      <td>Once Upon a Time ... in Hollywood</td>\n",
       "      <td>Once Upon a Time ... in Hollywood</td>\n",
       "      <td>0</td>\n",
       "      <td>2019.0</td>\n",
       "      <td>NaN</td>\n",
       "      <td>161.0</td>\n",
       "      <td>Comedy,Drama</td>\n",
       "    </tr>\n",
       "    <tr>\n",
       "      <th>15</th>\n",
       "      <td>15</td>\n",
       "      <td>15</td>\n",
       "      <td>tt7713358</td>\n",
       "      <td>nm0000233</td>\n",
       "      <td>nm0734472,nm1872664,nm0000233</td>\n",
       "      <td>movie</td>\n",
       "      <td>Untitled Star Trek Project</td>\n",
       "      <td>Untitled Star Trek Project</td>\n",
       "      <td>0</td>\n",
       "      <td>NaN</td>\n",
       "      <td>NaN</td>\n",
       "      <td>NaN</td>\n",
       "      <td>Action,Adventure,Sci-Fi</td>\n",
       "    </tr>\n",
       "  </tbody>\n",
       "</table>\n",
       "</div>"
      ],
      "text/plain": [
       "    level_0  index     tconst  directors                        writers  \\\n",
       "11       11     13  tt6019206  nm0000233            nm0000233,nm0000235   \n",
       "12       12     11  tt1853728  nm0000233                      nm0000233   \n",
       "13       13     12  tt3460252  nm0000233                      nm0000233   \n",
       "14       14     14  tt7131622  nm0000233                      nm0000233   \n",
       "15       15     15  tt7713358  nm0000233  nm0734472,nm1872664,nm0000233   \n",
       "\n",
       "   titleType                        primaryTitle  \\\n",
       "11     movie  Kill Bill: The Whole Bloody Affair   \n",
       "12     movie                    Django Unchained   \n",
       "13     movie                   The Hateful Eight   \n",
       "14     movie   Once Upon a Time ... in Hollywood   \n",
       "15     movie          Untitled Star Trek Project   \n",
       "\n",
       "                         originalTitle  isAdult  startYear  endYear  \\\n",
       "11  Kill Bill: The Whole Bloody Affair        0     2011.0      NaN   \n",
       "12                    Django Unchained        0     2012.0      NaN   \n",
       "13                   The Hateful Eight        0     2015.0      NaN   \n",
       "14   Once Upon a Time ... in Hollywood        0     2019.0      NaN   \n",
       "15          Untitled Star Trek Project        0        NaN      NaN   \n",
       "\n",
       "    runtimeMinutes                   genres  \n",
       "11           247.0    Action,Crime,Thriller  \n",
       "12           165.0            Drama,Western  \n",
       "13           168.0      Crime,Drama,Mystery  \n",
       "14           161.0             Comedy,Drama  \n",
       "15             NaN  Action,Adventure,Sci-Fi  "
      ]
     },
     "execution_count": 103,
     "metadata": {},
     "output_type": "execute_result"
    }
   ],
   "source": [
    "qt_movies = qt_movies.sort_values(by='startYear')\n",
    "qt_movies.tail()"
   ]
  },
  {
   "cell_type": "markdown",
   "metadata": {},
   "source": [
    "並且消滅那些還在計畫中的電影，因為他們的 runtimeMinutes 是 NaN 。"
   ]
  },
  {
   "cell_type": "code",
   "execution_count": 108,
   "metadata": {},
   "outputs": [
    {
     "data": {
      "text/html": [
       "<div>\n",
       "<style scoped>\n",
       "    .dataframe tbody tr th:only-of-type {\n",
       "        vertical-align: middle;\n",
       "    }\n",
       "\n",
       "    .dataframe tbody tr th {\n",
       "        vertical-align: top;\n",
       "    }\n",
       "\n",
       "    .dataframe thead th {\n",
       "        text-align: right;\n",
       "    }\n",
       "</style>\n",
       "<table border=\"1\" class=\"dataframe\">\n",
       "  <thead>\n",
       "    <tr style=\"text-align: right;\">\n",
       "      <th></th>\n",
       "      <th>level_0</th>\n",
       "      <th>index</th>\n",
       "      <th>tconst</th>\n",
       "      <th>directors</th>\n",
       "      <th>writers</th>\n",
       "      <th>titleType</th>\n",
       "      <th>primaryTitle</th>\n",
       "      <th>originalTitle</th>\n",
       "      <th>isAdult</th>\n",
       "      <th>startYear</th>\n",
       "      <th>endYear</th>\n",
       "      <th>runtimeMinutes</th>\n",
       "      <th>genres</th>\n",
       "    </tr>\n",
       "  </thead>\n",
       "  <tbody>\n",
       "    <tr>\n",
       "      <th>10</th>\n",
       "      <td>10</td>\n",
       "      <td>6</td>\n",
       "      <td>tt0361748</td>\n",
       "      <td>nm0744834,nm0000233</td>\n",
       "      <td>nm0000233</td>\n",
       "      <td>movie</td>\n",
       "      <td>Inglourious Basterds</td>\n",
       "      <td>Inglourious Basterds</td>\n",
       "      <td>0</td>\n",
       "      <td>2009.0</td>\n",
       "      <td>NaN</td>\n",
       "      <td>153.0</td>\n",
       "      <td>Adventure,Drama,War</td>\n",
       "    </tr>\n",
       "    <tr>\n",
       "      <th>11</th>\n",
       "      <td>11</td>\n",
       "      <td>13</td>\n",
       "      <td>tt6019206</td>\n",
       "      <td>nm0000233</td>\n",
       "      <td>nm0000233,nm0000235</td>\n",
       "      <td>movie</td>\n",
       "      <td>Kill Bill: The Whole Bloody Affair</td>\n",
       "      <td>Kill Bill: The Whole Bloody Affair</td>\n",
       "      <td>0</td>\n",
       "      <td>2011.0</td>\n",
       "      <td>NaN</td>\n",
       "      <td>247.0</td>\n",
       "      <td>Action,Crime,Thriller</td>\n",
       "    </tr>\n",
       "    <tr>\n",
       "      <th>12</th>\n",
       "      <td>12</td>\n",
       "      <td>11</td>\n",
       "      <td>tt1853728</td>\n",
       "      <td>nm0000233</td>\n",
       "      <td>nm0000233</td>\n",
       "      <td>movie</td>\n",
       "      <td>Django Unchained</td>\n",
       "      <td>Django Unchained</td>\n",
       "      <td>0</td>\n",
       "      <td>2012.0</td>\n",
       "      <td>NaN</td>\n",
       "      <td>165.0</td>\n",
       "      <td>Drama,Western</td>\n",
       "    </tr>\n",
       "    <tr>\n",
       "      <th>13</th>\n",
       "      <td>13</td>\n",
       "      <td>12</td>\n",
       "      <td>tt3460252</td>\n",
       "      <td>nm0000233</td>\n",
       "      <td>nm0000233</td>\n",
       "      <td>movie</td>\n",
       "      <td>The Hateful Eight</td>\n",
       "      <td>The Hateful Eight</td>\n",
       "      <td>0</td>\n",
       "      <td>2015.0</td>\n",
       "      <td>NaN</td>\n",
       "      <td>168.0</td>\n",
       "      <td>Crime,Drama,Mystery</td>\n",
       "    </tr>\n",
       "    <tr>\n",
       "      <th>14</th>\n",
       "      <td>14</td>\n",
       "      <td>14</td>\n",
       "      <td>tt7131622</td>\n",
       "      <td>nm0000233</td>\n",
       "      <td>nm0000233</td>\n",
       "      <td>movie</td>\n",
       "      <td>Once Upon a Time ... in Hollywood</td>\n",
       "      <td>Once Upon a Time ... in Hollywood</td>\n",
       "      <td>0</td>\n",
       "      <td>2019.0</td>\n",
       "      <td>NaN</td>\n",
       "      <td>161.0</td>\n",
       "      <td>Comedy,Drama</td>\n",
       "    </tr>\n",
       "  </tbody>\n",
       "</table>\n",
       "</div>"
      ],
      "text/plain": [
       "    level_0  index     tconst            directors              writers  \\\n",
       "10       10      6  tt0361748  nm0744834,nm0000233            nm0000233   \n",
       "11       11     13  tt6019206            nm0000233  nm0000233,nm0000235   \n",
       "12       12     11  tt1853728            nm0000233            nm0000233   \n",
       "13       13     12  tt3460252            nm0000233            nm0000233   \n",
       "14       14     14  tt7131622            nm0000233            nm0000233   \n",
       "\n",
       "   titleType                        primaryTitle  \\\n",
       "10     movie                Inglourious Basterds   \n",
       "11     movie  Kill Bill: The Whole Bloody Affair   \n",
       "12     movie                    Django Unchained   \n",
       "13     movie                   The Hateful Eight   \n",
       "14     movie   Once Upon a Time ... in Hollywood   \n",
       "\n",
       "                         originalTitle  isAdult  startYear  endYear  \\\n",
       "10                Inglourious Basterds        0     2009.0      NaN   \n",
       "11  Kill Bill: The Whole Bloody Affair        0     2011.0      NaN   \n",
       "12                    Django Unchained        0     2012.0      NaN   \n",
       "13                   The Hateful Eight        0     2015.0      NaN   \n",
       "14   Once Upon a Time ... in Hollywood        0     2019.0      NaN   \n",
       "\n",
       "    runtimeMinutes                 genres  \n",
       "10           153.0    Adventure,Drama,War  \n",
       "11           247.0  Action,Crime,Thriller  \n",
       "12           165.0          Drama,Western  \n",
       "13           168.0    Crime,Drama,Mystery  \n",
       "14           161.0           Comedy,Drama  "
      ]
     },
     "execution_count": 108,
     "metadata": {},
     "output_type": "execute_result"
    }
   ],
   "source": [
    "qt_movies[~qt_movies['runtimeMinutes'].isnull()].tail()"
   ]
  },
  {
   "cell_type": "code",
   "execution_count": 109,
   "metadata": {},
   "outputs": [],
   "source": [
    "qt_movies = qt_movies[~qt_movies['runtimeMinutes'].isnull()]"
   ]
  },
  {
   "cell_type": "code",
   "execution_count": 24,
   "metadata": {},
   "outputs": [],
   "source": [
    "%matplotlib inline\n",
    "import matplotlib.pyplot as plt"
   ]
  },
  {
   "cell_type": "code",
   "execution_count": 25,
   "metadata": {},
   "outputs": [],
   "source": [
    "year_start = qt_movies['startYear'].min()\n",
    "year_end = qt_movies['startYear'].max()\n",
    "movies_qt_subset = movie_types[(movie_types['startYear'] >= year_start) & (movie_types['startYear'] <= year_end)]"
   ]
  },
  {
   "cell_type": "code",
   "execution_count": 135,
   "metadata": {},
   "outputs": [],
   "source": [
    "gt2010_mean = qt_movies.loc[qt_movies['startYear'] >= 2010, 'runtimeMinutes'].mean()"
   ]
  },
  {
   "cell_type": "code",
   "execution_count": 137,
   "metadata": {},
   "outputs": [],
   "source": [
    "lt2010_mean = qt_movies.loc[qt_movies['startYear'] < 2010, 'runtimeMinutes'].mean()"
   ]
  },
  {
   "cell_type": "code",
   "execution_count": 26,
   "metadata": {},
   "outputs": [
    {
     "data": {
      "text/html": [
       "<div>\n",
       "<style scoped>\n",
       "    .dataframe tbody tr th:only-of-type {\n",
       "        vertical-align: middle;\n",
       "    }\n",
       "\n",
       "    .dataframe tbody tr th {\n",
       "        vertical-align: top;\n",
       "    }\n",
       "\n",
       "    .dataframe thead th {\n",
       "        text-align: right;\n",
       "    }\n",
       "</style>\n",
       "<table border=\"1\" class=\"dataframe\">\n",
       "  <thead>\n",
       "    <tr style=\"text-align: right;\">\n",
       "      <th></th>\n",
       "      <th>titleType</th>\n",
       "      <th>primaryTitle</th>\n",
       "      <th>originalTitle</th>\n",
       "      <th>isAdult</th>\n",
       "      <th>startYear</th>\n",
       "      <th>endYear</th>\n",
       "      <th>runtimeMinutes</th>\n",
       "      <th>genres</th>\n",
       "    </tr>\n",
       "    <tr>\n",
       "      <th>tconst</th>\n",
       "      <th></th>\n",
       "      <th></th>\n",
       "      <th></th>\n",
       "      <th></th>\n",
       "      <th></th>\n",
       "      <th></th>\n",
       "      <th></th>\n",
       "      <th></th>\n",
       "    </tr>\n",
       "  </thead>\n",
       "  <tbody>\n",
       "    <tr>\n",
       "      <th>tt0015724</th>\n",
       "      <td>movie</td>\n",
       "      <td>Dama de noche</td>\n",
       "      <td>Dama de noche</td>\n",
       "      <td>0</td>\n",
       "      <td>1993.0</td>\n",
       "      <td>NaN</td>\n",
       "      <td>102.0</td>\n",
       "      <td>Drama,Mystery,Romance</td>\n",
       "    </tr>\n",
       "    <tr>\n",
       "      <th>tt0035423</th>\n",
       "      <td>movie</td>\n",
       "      <td>Kate &amp; Leopold</td>\n",
       "      <td>Kate &amp; Leopold</td>\n",
       "      <td>0</td>\n",
       "      <td>2001.0</td>\n",
       "      <td>NaN</td>\n",
       "      <td>118.0</td>\n",
       "      <td>Comedy,Fantasy,Romance</td>\n",
       "    </tr>\n",
       "    <tr>\n",
       "      <th>tt0059900</th>\n",
       "      <td>movie</td>\n",
       "      <td>Wenn du groß bist, lieber Adam</td>\n",
       "      <td>Wenn du groß bist, lieber Adam</td>\n",
       "      <td>0</td>\n",
       "      <td>1990.0</td>\n",
       "      <td>NaN</td>\n",
       "      <td>78.0</td>\n",
       "      <td>Drama,Fantasy</td>\n",
       "    </tr>\n",
       "    <tr>\n",
       "      <th>tt0064820</th>\n",
       "      <td>movie</td>\n",
       "      <td>The Plot Against Harry</td>\n",
       "      <td>The Plot Against Harry</td>\n",
       "      <td>0</td>\n",
       "      <td>1989.0</td>\n",
       "      <td>NaN</td>\n",
       "      <td>81.0</td>\n",
       "      <td>Comedy</td>\n",
       "    </tr>\n",
       "    <tr>\n",
       "      <th>tt0064994</th>\n",
       "      <td>movie</td>\n",
       "      <td>Larks on a String</td>\n",
       "      <td>Skrivánci na niti</td>\n",
       "      <td>0</td>\n",
       "      <td>1990.0</td>\n",
       "      <td>NaN</td>\n",
       "      <td>94.0</td>\n",
       "      <td>Comedy,Drama,Romance</td>\n",
       "    </tr>\n",
       "  </tbody>\n",
       "</table>\n",
       "</div>"
      ],
      "text/plain": [
       "          titleType                    primaryTitle  \\\n",
       "tconst                                                \n",
       "tt0015724     movie                   Dama de noche   \n",
       "tt0035423     movie                  Kate & Leopold   \n",
       "tt0059900     movie  Wenn du groß bist, lieber Adam   \n",
       "tt0064820     movie          The Plot Against Harry   \n",
       "tt0064994     movie               Larks on a String   \n",
       "\n",
       "                            originalTitle  isAdult  startYear  endYear  \\\n",
       "tconst                                                                   \n",
       "tt0015724                   Dama de noche        0     1993.0      NaN   \n",
       "tt0035423                  Kate & Leopold        0     2001.0      NaN   \n",
       "tt0059900  Wenn du groß bist, lieber Adam        0     1990.0      NaN   \n",
       "tt0064820          The Plot Against Harry        0     1989.0      NaN   \n",
       "tt0064994               Skrivánci na niti        0     1990.0      NaN   \n",
       "\n",
       "           runtimeMinutes                  genres  \n",
       "tconst                                             \n",
       "tt0015724           102.0   Drama,Mystery,Romance  \n",
       "tt0035423           118.0  Comedy,Fantasy,Romance  \n",
       "tt0059900            78.0           Drama,Fantasy  \n",
       "tt0064820            81.0                  Comedy  \n",
       "tt0064994            94.0    Comedy,Drama,Romance  "
      ]
     },
     "execution_count": 26,
     "metadata": {},
     "output_type": "execute_result"
    }
   ],
   "source": [
    "movies_qt_subset.head()"
   ]
  },
  {
   "cell_type": "code",
   "execution_count": 28,
   "metadata": {},
   "outputs": [],
   "source": [
    "group_by_year = movies_qt_subset[['startYear', 'runtimeMinutes']].sort_index().groupby('startYear')\n",
    "average_run = group_by_year.mean()\n",
    "std_run = group_by_year.std()"
   ]
  },
  {
   "cell_type": "code",
   "execution_count": 144,
   "metadata": {},
   "outputs": [
    {
     "data": {
      "image/png": "[encoded data removed]",
      "text/plain": [
       "<Figure size 1080x360 with 1 Axes>"
      ]
     },
     "metadata": {
      "needs_background": "light"
     },
     "output_type": "display_data"
    }
   ],
   "source": [
    "import numpy as np\n",
    "fig = plt.gcf()\n",
    "fig.set_figheight(5)\n",
    "fig.set_figwidth(15)\n",
    "plt.plot(qt_movies['startYear'], qt_movies['runtimeMinutes'], 'x-', label='Quentin Tarantino')\n",
    "plt.plot(average_run.index.values, average_run['runtimeMinutes'], label='Background', color='orange')\n",
    "plt.xlabel(\"Year\")\n",
    "plt.ylabel(\"Minutes\")\n",
    "lower_run = np.clip(average_run['runtimeMinutes'] - std_run['runtimeMinutes'], np.inf, 0)\n",
    "# TODO: adding movie titles\n",
    "plt.fill(std_run.index.values, lower_run, \n",
    "         average_run['runtimeMinutes'] + std_run['runtimeMinutes'], alpha=0.5, color='orange')\n",
    "for i in range(0, len(qt_movies)):\n",
    "  if i % 2 == 0 and i != 10 and i != 14:\n",
    "    plt.text(qt_movies.loc[i, 'startYear'], qt_movies.loc[i, 'runtimeMinutes'] + 10, \n",
    "             qt_movies.loc[i, 'primaryTitle'], rotation=45, ha=\"left\", va=\"bottom\")\n",
    "  elif i != 11 and i != 14:\n",
    "    plt.text(qt_movies.loc[i, 'startYear'], qt_movies.loc[i, 'runtimeMinutes'] - 10, \n",
    "             qt_movies.loc[i, 'primaryTitle'], rotation=-45, ha=\"left\", va=\"top\")\n",
    "\n",
    "plt.text(qt_movies.loc[10, 'startYear'], qt_movies.loc[10, 'runtimeMinutes'] - 10, \n",
    "             qt_movies.loc[10, 'primaryTitle'], rotation=-45, ha=\"left\", va=\"top\")\n",
    "plt.text(qt_movies.loc[11, 'startYear'], qt_movies.loc[11, 'runtimeMinutes'] + 10, \n",
    "             qt_movies.loc[11, 'primaryTitle'], rotation=30, ha=\"left\", va=\"bottom\")\n",
    "plt.text(qt_movies.loc[14, 'startYear'] - 0.5, qt_movies.loc[14, 'runtimeMinutes'] + 10, \n",
    "             \"Once Upon a Time in...\\n Hollywood\", rotation=55, ha=\"left\", va=\"bottom\", wrap=True)\n",
    "max_time = max(average_run['runtimeMinutes'] + std_run['runtimeMinutes'])\n",
    "plt.plot((2010, 2010), (0, max_time), '--', color='r')\n",
    "plt.text(2011, max_time + 100, '>=2010 mean runtimeMinutes={:.2f}'.format(gt2010_mean), \n",
    "         ha=\"left\", fontsize='x-large')\n",
    "plt.text(2009, max_time + 100, '<2010 mean runtimeMinutes={:.2f}'.format(lt2010_mean), \n",
    "         ha=\"right\", fontsize='x-large')\n",
    "plt.legend(loc=\"best\");"
   ]
  },
  {
   "cell_type": "markdown",
   "metadata": {},
   "source": [
    "今天的**尋常一日的教學**就到這裡了！讓讀者帶回家並放在枕頭下，好在睡夢中也溫習的訊息有：   \n",
    "\n",
    "1. 不要過度依賴 pandas.read_csv 的預設值，藉由檢視 pandas 讀進的資料型態，了解是否有解析錯誤。\n",
    "2. NaN 很討人厭，但懂得如何和 NaN 和平共存是一個資料分析師的職業生涯中的重要功課。瞭解如何 masking 他們，如果你的函式沒有提供處理機制。\n",
    "3. 在做 table join 時，若 join type 為字串時，盡量使之成為 index，會大幅減少運算時間。\n",
    "\n",
    "最後，希望各位讀者都有收穫。"
   ]
  }
 ],
 "metadata": {
  "kernelspec": {
   "display_name": "Python (workenv)",
   "language": "python",
   "name": "workenv"
  },
  "language_info": {
   "codemirror_mode": {
    "name": "ipython",
    "version": 3
   },
   "file_extension": ".py",
   "mimetype": "text/x-python",
   "name": "python",
   "nbconvert_exporter": "python",
   "pygments_lexer": "ipython3",
   "version": "3.6.7"
  }
 },
 "nbformat": 4,
 "nbformat_minor": 2
}
