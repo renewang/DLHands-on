{
 "cells": [
  {
   "cell_type": "markdown",
   "metadata": {
    "collapsed": true
   },
   "source": [
    "# Image Classification\n",
    "In this project, you'll classify images from the [CIFAR-10 dataset](https://www.cs.toronto.edu/~kriz/cifar.html).  The dataset consists of airplanes, dogs, cats, and other objects. You'll preprocess the images, then train a convolutional neural network on all the samples. The images need to be normalized and the labels need to be one-hot encoded.  You'll get to apply what you learned and build a convolutional, max pooling, dropout, and fully connected layers.  At the end, you'll get to see your neural network's predictions on the sample images.\n",
    "## Get the Data\n",
    "Run the following cell to download the [CIFAR-10 dataset for python](https://www.cs.toronto.edu/~kriz/cifar-10-python.tar.gz)."
   ]
  },
  {
   "cell_type": "code",
   "execution_count": 1,
   "metadata": {
    "collapsed": false
   },
   "outputs": [
    {
     "name": "stdout",
     "output_type": "stream",
     "text": [
      "All files found!\n"
     ]
    }
   ],
   "source": [
    "\"\"\"\n",
    "DON'T MODIFY ANYTHING IN THIS CELL THAT IS BELOW THIS LINE\n",
    "\"\"\"\n",
    "from urllib.request import urlretrieve\n",
    "from os.path import isfile, isdir\n",
    "from tqdm import tqdm\n",
    "import problem_unittests as tests\n",
    "import tarfile\n",
    "\n",
    "cifar10_dataset_folder_path = 'cifar-10-batches-py'\n",
    "\n",
    "class DLProgress(tqdm):\n",
    "    last_block = 0\n",
    "\n",
    "    def hook(self, block_num=1, block_size=1, total_size=None):\n",
    "        self.total = total_size\n",
    "        self.update((block_num - self.last_block) * block_size)\n",
    "        self.last_block = block_num\n",
    "\n",
    "if not isfile('cifar-10-python.tar.gz'):\n",
    "    with DLProgress(unit='B', unit_scale=True, miniters=1, desc='CIFAR-10 Dataset') as pbar:\n",
    "        urlretrieve(\n",
    "            'https://www.cs.toronto.edu/~kriz/cifar-10-python.tar.gz',\n",
    "            'cifar-10-python.tar.gz',\n",
    "            pbar.hook)\n",
    "\n",
    "if not isdir(cifar10_dataset_folder_path):\n",
    "    with tarfile.open('cifar-10-python.tar.gz') as tar:\n",
    "        tar.extractall()\n",
    "        tar.close()\n",
    "\n",
    "\n",
    "tests.test_folder_path(cifar10_dataset_folder_path)"
   ]
  },
  {
   "cell_type": "markdown",
   "metadata": {},
   "source": [
    "## Explore the Data\n",
    "The dataset is broken into batches to prevent your machine from running out of memory.  The CIFAR-10 dataset consists of 5 batches, named `data_batch_1`, `data_batch_2`, etc.. Each batch contains the labels and images that are one of the following:\n",
    "* airplane\n",
    "* automobile\n",
    "* bird\n",
    "* cat\n",
    "* deer\n",
    "* dog\n",
    "* frog\n",
    "* horse\n",
    "* ship\n",
    "* truck\n",
    "\n",
    "Understanding a dataset is part of making predictions on the data.  Play around with the code cell below by changing the `batch_id` and `sample_id`. The `batch_id` is the id for a batch (1-5). The `sample_id` is the id for a image and label pair in the batch.\n",
    "\n",
    "Ask yourself \"What are all possible labels?\", \"What is the range of values for the image data?\", \"Are the labels in order or random?\".  Answers to questions like these will help you preprocess the data and end up with better predictions."
   ]
  },
  {
   "cell_type": "code",
   "execution_count": 2,
   "metadata": {
    "collapsed": false
   },
   "outputs": [
    {
     "name": "stdout",
     "output_type": "stream",
     "text": [
      "\n",
      "Stats of batch 5:\n",
      "Samples: 10000\n",
      "Label Counts: {0: 1014, 1: 1014, 2: 952, 3: 1016, 4: 997, 5: 1025, 6: 980, 7: 977, 8: 1003, 9: 1022}\n",
      "First 20 Labels: [1, 8, 5, 1, 5, 7, 4, 3, 8, 2, 7, 2, 0, 1, 5, 9, 6, 2, 0, 8]\n",
      "\n",
      "Example of Image 5:\n",
      "Image - Min Value: 1 Max Value: 255\n",
      "Image - Shape: (32, 32, 3)\n",
      "Label - Label Id: 7 Name: horse\n"
     ]
    },
    {
     "data": {
      "image/png": "[encoded data removed]",
      "text/plain": [
       "<matplotlib.figure.Figure at 0x112df3470>"
      ]
     },
     "metadata": {
      "image/png": {
       "height": 250,
       "width": 253
      }
     },
     "output_type": "display_data"
    }
   ],
   "source": [
    "%matplotlib inline\n",
    "%config InlineBackend.figure_format = 'retina'\n",
    "\n",
    "import helper\n",
    "import numpy as np\n",
    "\n",
    "# Explore the dataset\n",
    "batch_id = 5\n",
    "sample_id = 5\n",
    "helper.display_stats(cifar10_dataset_folder_path, batch_id, sample_id)"
   ]
  },
  {
   "cell_type": "markdown",
   "metadata": {},
   "source": [
    "## Implement Preprocess Functions\n",
    "### Normalize\n",
    "In the cell below, implement the `normalize` function to take in image data, `x`, and return it as a normalized Numpy array. The values should be in the range of 0 to 1, inclusive.  The return object should be the same shape as `x`."
   ]
  },
  {
   "cell_type": "code",
   "execution_count": 3,
   "metadata": {
    "collapsed": false
   },
   "outputs": [
    {
     "name": "stdout",
     "output_type": "stream",
     "text": [
      "Tests Passed\n"
     ]
    }
   ],
   "source": [
    "def normalize(x):\n",
    "    \"\"\"\n",
    "    Normalize a list of sample image data in the range of 0 to 1\n",
    "    : x: List of image data.  The image shape is (32, 32, 3)\n",
    "    : return: Numpy array of normalize data\n",
    "    \"\"\"\n",
    "    return x / 255\n",
    "\n",
    "\n",
    "\"\"\"\n",
    "DON'T MODIFY ANYTHING IN THIS CELL THAT IS BELOW THIS LINE\n",
    "\"\"\"\n",
    "tests.test_normalize(normalize)"
   ]
  },
  {
   "cell_type": "markdown",
   "metadata": {},
   "source": [
    "### One-hot encode\n",
    "Just like the previous code cell, you'll be implementing a function for preprocessing.  This time, you'll implement the `one_hot_encode` function. The input, `x`, are a list of labels.  Implement the function to return the list of labels as One-Hot encoded Numpy array.  The possible values for labels are 0 to 9. The one-hot encoding function should return the same encoding for each value between each call to `one_hot_encode`.  Make sure to save the map of encodings outside the function.\n",
    "\n",
    "Hint: Don't reinvent the wheel."
   ]
  },
  {
   "cell_type": "code",
   "execution_count": 4,
   "metadata": {
    "collapsed": false
   },
   "outputs": [
    {
     "name": "stdout",
     "output_type": "stream",
     "text": [
      "Tests Passed\n"
     ]
    }
   ],
   "source": [
    "def one_hot_encode(x):\n",
    "    \"\"\"\n",
    "    One hot encode a list of sample labels. Return a one-hot encoded vector for each label.\n",
    "    : x: List of sample Labels\n",
    "    : return: Numpy array of one-hot encoded labels\n",
    "    \"\"\"\n",
    "    encoding = np.zeros((len(x), 10), dtype=np.int8)\n",
    "    encoding[np.arange(len(x)), x] = 1\n",
    "    return encoding\n",
    "\n",
    "\n",
    "\"\"\"\n",
    "DON'T MODIFY ANYTHING IN THIS CELL THAT IS BELOW THIS LINE\n",
    "\"\"\"\n",
    "tests.test_one_hot_encode(one_hot_encode)"
   ]
  },
  {
   "cell_type": "markdown",
   "metadata": {},
   "source": [
    "### Randomize Data\n",
    "As you saw from exploring the data above, the order of the samples are randomized.  It doesn't hurt to randomize it again, but you don't need to for this dataset."
   ]
  },
  {
   "cell_type": "markdown",
   "metadata": {},
   "source": [
    "## Preprocess all the data and save it\n",
    "Running the code cell below will preprocess all the CIFAR-10 data and save it to file. The code below also uses 10% of the training data for validation."
   ]
  },
  {
   "cell_type": "code",
   "execution_count": 5,
   "metadata": {
    "collapsed": false
   },
   "outputs": [],
   "source": [
    "\"\"\"\n",
    "DON'T MODIFY ANYTHING IN THIS CELL\n",
    "\"\"\"\n",
    "# Preprocess Training, Validation, and Testing Data\n",
    "helper.preprocess_and_save_data(cifar10_dataset_folder_path, normalize, one_hot_encode)"
   ]
  },
  {
   "cell_type": "markdown",
   "metadata": {},
   "source": [
    "# Check Point\n",
    "This is your first checkpoint.  If you ever decide to come back to this notebook or have to restart the notebook, you can start from here.  The preprocessed data has been saved to disk."
   ]
  },
  {
   "cell_type": "code",
   "execution_count": 6,
   "metadata": {
    "collapsed": true
   },
   "outputs": [],
   "source": [
    "\"\"\"\n",
    "DON'T MODIFY ANYTHING IN THIS CELL\n",
    "\"\"\"\n",
    "import pickle\n",
    "import problem_unittests as tests\n",
    "import helper\n",
    "\n",
    "# Load the Preprocessed Validation data\n",
    "valid_features, valid_labels = pickle.load(open('preprocess_validation.p', mode='rb'))"
   ]
  },
  {
   "cell_type": "markdown",
   "metadata": {},
   "source": [
    "## Build the network\n",
    "For the neural network, you'll build each layer into a function.  Most of the code you've seen has been outside of functions. To test your code more thoroughly, we require that you put each layer in a function.  This allows us to give you better feedback and test for simple mistakes using our unittests before you submit your project.\n",
    "\n",
    "If you're finding it hard to dedicate enough time for this course a week, we've provided a small shortcut to this part of the project. In the next couple of problems, you'll have the option to use [TensorFlow Layers](https://www.tensorflow.org/api_docs/python/tf/layers) or [TensorFlow Layers (contrib)](https://www.tensorflow.org/api_guides/python/contrib.layers) to build each layer, except \"Convolutional & Max Pooling\" layer.  TF Layers is similar to Keras's and TFLearn's abstraction to layers, so it's easy to pickup.\n",
    "\n",
    "If you would like to get the most of this course, try to solve all the problems without TF Layers.  Let's begin!\n",
    "### Input\n",
    "The neural network needs to read the image data, one-hot encoded labels, and dropout keep probability. Implement the following functions\n",
    "* Implement `neural_net_image_input`\n",
    " * Return a [TF Placeholder](https://www.tensorflow.org/api_docs/python/tf/placeholder)\n",
    " * Set the shape using `image_shape` with batch size set to `None`.\n",
    " * Name the TensorFlow placeholder \"x\" using the TensorFlow `name` parameter in the [TF Placeholder](https://www.tensorflow.org/api_docs/python/tf/placeholder).\n",
    "* Implement `neural_net_label_input`\n",
    " * Return a [TF Placeholder](https://www.tensorflow.org/api_docs/python/tf/placeholder)\n",
    " * Set the shape using `n_classes` with batch size set to `None`.\n",
    " * Name the TensorFlow placeholder \"y\" using the TensorFlow `name` parameter in the [TF Placeholder](https://www.tensorflow.org/api_docs/python/tf/placeholder).\n",
    "* Implement `neural_net_keep_prob_input`\n",
    " * Return a [TF Placeholder](https://www.tensorflow.org/api_docs/python/tf/placeholder) for dropout keep probability.\n",
    " * Name the TensorFlow placeholder \"keep_prob\" using the TensorFlow `name` parameter in the [TF Placeholder](https://www.tensorflow.org/api_docs/python/tf/placeholder).\n",
    "\n",
    "These names will be used at the end of the project to load your saved model.\n",
    "\n",
    "Note: `None` for shapes in TensorFlow allow for a dynamic size."
   ]
  },
  {
   "cell_type": "code",
   "execution_count": 7,
   "metadata": {
    "collapsed": false
   },
   "outputs": [
    {
     "name": "stdout",
     "output_type": "stream",
     "text": [
      "Image Input Tests Passed.\n",
      "Label Input Tests Passed.\n",
      "Keep Prob Tests Passed.\n"
     ]
    }
   ],
   "source": [
    "import tensorflow as tf\n",
    "\n",
    "def neural_net_image_input(image_shape):\n",
    "    \"\"\"\n",
    "    Return a Tensor for a bach of image input\n",
    "    : image_shape: Shape of the images\n",
    "    : return: Tensor for image input.\n",
    "    \"\"\"\n",
    "    # batch_size and shape from image\n",
    "    train_shape = [None] + list(image_shape)\n",
    "    x = tf.placeholder(dtype=tf.float32, shape=train_shape, name='x')\n",
    "    return x\n",
    "\n",
    "\n",
    "def neural_net_label_input(n_classes):\n",
    "    \"\"\"\n",
    "    Return a Tensor for a batch of label input\n",
    "    : n_classes: Number of classes\n",
    "    : return: Tensor for label input.\n",
    "    \"\"\"\n",
    "    y = tf.placeholder(dtype=tf.int8, shape=[None, n_classes], name='y')\n",
    "    return y\n",
    "\n",
    "\n",
    "def neural_net_keep_prob_input():\n",
    "    \"\"\"\n",
    "    Return a Tensor for keep probability\n",
    "    : return: Tensor for keep probability.\n",
    "    \"\"\"\n",
    "    keep_prob = tf.placeholder(dtype=tf.float32, name='keep_prob')\n",
    "    return keep_prob\n",
    "\n",
    "\n",
    "\"\"\"\n",
    "DON'T MODIFY ANYTHING IN THIS CELL THAT IS BELOW THIS LINE\n",
    "\"\"\"\n",
    "tf.reset_default_graph()\n",
    "tests.test_nn_image_inputs(neural_net_image_input)\n",
    "tests.test_nn_label_inputs(neural_net_label_input)\n",
    "tests.test_nn_keep_prob_inputs(neural_net_keep_prob_input)"
   ]
  },
  {
   "cell_type": "markdown",
   "metadata": {},
   "source": [
    "### Convolution and Max Pooling Layer\n",
    "Convolution layers have a lot of success with images. For this code cell, you should implement the function `conv2d_maxpool` to apply convolution then max pooling:\n",
    "* Create the weight and bias using `conv_ksize`, `conv_num_outputs` and the shape of `x_tensor`.\n",
    "* Apply a convolution to `x_tensor` using weight and `conv_strides`.\n",
    " * We recommend you use same padding, but you're welcome to use any padding.\n",
    "* Add bias\n",
    "* Add a nonlinear activation to the convolution.\n",
    "* Apply Max Pooling using `pool_ksize` and `pool_strides`.\n",
    " * We recommend you use same padding, but you're welcome to use any padding.\n",
    "\n",
    "Note: You **can't** use [TensorFlow Layers](https://www.tensorflow.org/api_docs/python/tf/layers) or [TensorFlow Layers (contrib)](https://www.tensorflow.org/api_guides/python/contrib.layers) for this layer.  You're free to use any TensorFlow package for all the other layers."
   ]
  },
  {
   "cell_type": "code",
   "execution_count": 8,
   "metadata": {
    "collapsed": false
   },
   "outputs": [
    {
     "name": "stdout",
     "output_type": "stream",
     "text": [
      "Tests Passed\n"
     ]
    }
   ],
   "source": [
    "from collections import deque\n",
    "from functools import partial\n",
    "\n",
    "_seed = 42\n",
    "weight_init = partial(tf.truncated_normal, seed=_seed)\n",
    "bias_init = partial(tf.truncated_normal, seed=_seed)\n",
    "\n",
    "def align_shape(toalign_shapes, in_shapes):\n",
    "  shape_aligned = None\n",
    "  if len(toalign_shapes) < len(in_shapes):  # taking care the input size where x_tensor is 4D\n",
    "    shape_aligned = deque(toalign_shapes)\n",
    "  if len(in_shapes) > len(shape_aligned):\n",
    "    shape_aligned.append(1)   # adding 1 to the channel depth\n",
    "  if len(in_shapes) > len(shape_aligned):\n",
    "    shape_aligned.appendleft(1)  # adding 1 to the batch \n",
    "  return(np.asarray(shape_aligned))\n",
    "  \n",
    "def conv2d_maxpool(x_tensor, conv_num_outputs, conv_ksize, conv_strides, pool_ksize, pool_strides):\n",
    "    \"\"\"\n",
    "    Apply convolution then max pooling to x_tensor\n",
    "    :param x_tensor: TensorFlow Tensor\n",
    "    :param conv_num_outputs: Number of outputs for the convolutional layer\n",
    "    :param conv_ksize: kernel size 2-D Tuple for the convolutional layer\n",
    "    :param conv_strides: Stride 2-D Tuple for convolution\n",
    "    :param pool_ksize: kernal size 2-D Tuple for pool\n",
    "    :param pool_strides: Stride 2-D Tuple for pool\n",
    "    : return: A tensor that represents convolution and max pooling of x_tensor\n",
    "    \"\"\"\n",
    "    # convolute\n",
    "    in_shapes = x_tensor.shape.as_list()\n",
    "    cstrides = align_shape(conv_strides, in_shapes).tolist()\n",
    "    w = tf.Variable(weight_init(\n",
    "      list(conv_ksize) + [in_shapes[-1]] + [conv_num_outputs]))\n",
    "    b = tf.Variable(bias_init(shape=[conv_num_outputs]))\n",
    "    conv_layer = tf.nn.conv2d(x_tensor, w, strides=cstrides, padding='SAME')\n",
    "    conv_layer = tf.nn.bias_add(conv_layer, b)\n",
    "    conv_layer = tf.nn.relu(conv_layer)\n",
    "    # pooling\n",
    "    pstrides = align_shape(pool_strides, in_shapes).tolist()\n",
    "    ksizes = align_shape(pool_ksize, in_shapes).tolist()\n",
    "    conv_layer = tf.nn.max_pool(conv_layer, ksize=ksizes, strides=pstrides, padding='SAME')\n",
    "    conv_layer = tf.nn.local_response_normalization(conv_layer, depth_radius=5, \n",
    "                                                    alpha=0.001, bias=1, beta=0.5)\n",
    "    return conv_layer\n",
    "\n",
    "\n",
    "\"\"\"\n",
    "DON'T MODIFY ANYTHING IN THIS CELL THAT IS BELOW THIS LINE\n",
    "\"\"\"\n",
    "tests.test_con_pool(conv2d_maxpool)"
   ]
  },
  {
   "cell_type": "markdown",
   "metadata": {},
   "source": [
    "### Flatten Layer\n",
    "Implement the `flatten` function to change the dimension of `x_tensor` from a 4-D tensor to a 2-D tensor.  The output should be the shape (*Batch Size*, *Flattened Image Size*). You can use [TensorFlow Layers](https://www.tensorflow.org/api_docs/python/tf/layers) or [TensorFlow Layers (contrib)](https://www.tensorflow.org/api_guides/python/contrib.layers) for this layer."
   ]
  },
  {
   "cell_type": "code",
   "execution_count": 9,
   "metadata": {
    "collapsed": false
   },
   "outputs": [
    {
     "name": "stdout",
     "output_type": "stream",
     "text": [
      "Tests Passed\n"
     ]
    }
   ],
   "source": [
    "def flatten(x_tensor):\n",
    "    \"\"\"\n",
    "    Flatten x_tensor to (Batch Size, Flattened Image Size)\n",
    "    : x_tensor: A tensor of size (Batch Size, ...), where ... are the image dimensions.\n",
    "    : return: A tensor of size (Batch Size, Flattened Image Size).\n",
    "    \"\"\"\n",
    "    fimg_sizes = np.prod([i for i in x_tensor.shape.as_list() if i])\n",
    "    flat_x = tf.reshape(x_tensor, [-1, fimg_sizes])\n",
    "    return flat_x\n",
    "\n",
    "\n",
    "\"\"\"\n",
    "DON'T MODIFY ANYTHING IN THIS CELL THAT IS BELOW THIS LINE\n",
    "\"\"\"\n",
    "tests.test_flatten(flatten)"
   ]
  },
  {
   "cell_type": "markdown",
   "metadata": {},
   "source": [
    "### Fully-Connected Layer\n",
    "Implement the `fully_conn` function to apply a fully connected layer to `x_tensor` with the shape (*Batch Size*, *num_outputs*). You can use [TensorFlow Layers](https://www.tensorflow.org/api_docs/python/tf/layers) or [TensorFlow Layers (contrib)](https://www.tensorflow.org/api_guides/python/contrib.layers) for this layer."
   ]
  },
  {
   "cell_type": "code",
   "execution_count": 10,
   "metadata": {
    "collapsed": false
   },
   "outputs": [
    {
     "name": "stdout",
     "output_type": "stream",
     "text": [
      "Tests Passed\n"
     ]
    }
   ],
   "source": [
    "def fully_conn(x_tensor, num_outputs):\n",
    "    \"\"\"\n",
    "    Apply a fully connected layer to x_tensor using weight and bias\n",
    "    : x_tensor: A 2-D tensor where the first dimension is batch size.\n",
    "    : num_outputs: The number of output that the new tensor should be.\n",
    "    : return: A 2-D tensor where the second dimension is num_outputs.\n",
    "    \"\"\"\n",
    "    w = tf.Variable(weight_init(x_tensor.shape.as_list()[1:] + [num_outputs]))\n",
    "    b = tf.Variable(bias_init(shape=[num_outputs]))\n",
    "    logit = tf.nn.sigmoid(tf.matmul(x_tensor, w) + b)\n",
    "    return logit\n",
    "\n",
    "\n",
    "\"\"\"\n",
    "DON'T MODIFY ANYTHING IN THIS CELL THAT IS BELOW THIS LINE\n",
    "\"\"\"\n",
    "tests.test_fully_conn(fully_conn)"
   ]
  },
  {
   "cell_type": "markdown",
   "metadata": {},
   "source": [
    "### Output Layer\n",
    "Implement the `output` function to apply a fully connected layer to `x_tensor` with the shape (*Batch Size*, *num_outputs*). You can use [TensorFlow Layers](https://www.tensorflow.org/api_docs/python/tf/layers) or [TensorFlow Layers (contrib)](https://www.tensorflow.org/api_guides/python/contrib.layers) for this layer.\n",
    "\n",
    "Note: Activation, softmax, or cross entropy shouldn't be applied to this."
   ]
  },
  {
   "cell_type": "code",
   "execution_count": 11,
   "metadata": {
    "collapsed": false
   },
   "outputs": [
    {
     "name": "stdout",
     "output_type": "stream",
     "text": [
      "Tests Passed\n"
     ]
    }
   ],
   "source": [
    "def output(x_tensor, num_outputs):\n",
    "    \"\"\"\n",
    "    Apply a output layer to x_tensor using weight and bias\n",
    "    : x_tensor: A 2-D tensor where the first dimension is batch size.\n",
    "    : num_outputs: The number of output that the new tensor should be.\n",
    "    : return: A 2-D tensor where the second dimension is num_outputs.\n",
    "    \"\"\"\n",
    "    w = tf.Variable(weight_init(x_tensor.shape.as_list()[1:] + [num_outputs]))\n",
    "    b = tf.Variable(bias_init(shape=[num_outputs]))\n",
    "    logit = tf.matmul(x_tensor, w) + b\n",
    "    return logit\n",
    "\n",
    "\n",
    "\"\"\"\n",
    "DON'T MODIFY ANYTHING IN THIS CELL THAT IS BELOW THIS LINE\n",
    "\"\"\"\n",
    "tests.test_output(output)"
   ]
  },
  {
   "cell_type": "markdown",
   "metadata": {},
   "source": [
    "### Create Convolutional Model\n",
    "Implement the function `conv_net` to create a convolutional neural network model. The function takes in a batch of images, `x`, and outputs logits.  Use the layers you created above to create this model:\n",
    "\n",
    "* Apply 1, 2, or 3 Convolution and Max Pool layers\n",
    "* Apply a Flatten Layer\n",
    "* Apply 1, 2, or 3 Fully Connected Layers\n",
    "* Apply an Output Layer\n",
    "* Return the output\n",
    "* Apply [TensorFlow's Dropout](https://www.tensorflow.org/api_docs/python/tf/nn/dropout) to one or more layers in the model using `keep_prob`. "
   ]
  },
  {
   "cell_type": "code",
   "execution_count": 12,
   "metadata": {
    "collapsed": false
   },
   "outputs": [
    {
     "name": "stdout",
     "output_type": "stream",
     "text": [
      "Neural Network Built!\n"
     ]
    }
   ],
   "source": [
    "def conv_net(x, keep_prob):\n",
    "    \"\"\"\n",
    "    Create a convolutional neural network model\n",
    "    : x: Placeholder tensor that holds image data.\n",
    "    : keep_prob: Placeholder tensor that hold dropout keep probability.\n",
    "    : return: Tensor that represents logits\n",
    "    \"\"\"\n",
    "    x = tf.map_fn(tf.image.per_image_standardization, x)\n",
    "    # TODO: Apply 1, 2, or 3 Convolution and Max Pool layers\n",
    "    #    Play around with different number of outputs, kernel size and stride\n",
    "    # Function Definition from Above:\n",
    "    #    conv2d_maxpool(x_tensor, conv_num_outputs, conv_ksize, convstrides, pool_ksize, pool_strides)\n",
    "    conv = conv2d_maxpool(x, 32, (5, 5), (1, 1), (3, 3), (2, 2))\n",
    "\n",
    "    # TODO: Apply a Flatten Layer\n",
    "    # Function Definition from Above:\n",
    "    #   flatten(x_tensor)\n",
    "    flat_x = flatten(conv)\n",
    "\n",
    "    # TODO: Apply 1, 2, or 3 Fully Connected Layers\n",
    "    #    Play around with different number of outputs\n",
    "    # Function Definition from Above:\n",
    "    #   fully_conn(x_tensor, num_outputs)\n",
    "    fc = fully_conn(flat_x, 30)\n",
    "    fc = tf.nn.dropout(fc, keep_prob)\n",
    "    \n",
    "    # TODO: Apply an Output Layer\n",
    "    #    Set this to the number of classes\n",
    "    # Function Definition from Above:\n",
    "    #   output(x_tensor, num_outputs)\n",
    "    logit = output(fc, 10)\n",
    "    \n",
    "    # TODO: return output\n",
    "    return logit\n",
    "\n",
    "\n",
    "\"\"\"\n",
    "DON'T MODIFY ANYTHING IN THIS CELL THAT IS BELOW THIS LINE\n",
    "\"\"\"\n",
    "\n",
    "##############################\n",
    "## Build the Neural Network ##\n",
    "##############################\n",
    "\n",
    "# Remove previous weights, bias, inputs, etc..\n",
    "tf.reset_default_graph()\n",
    "\n",
    "# Inputs\n",
    "x = neural_net_image_input((32, 32, 3))\n",
    "y = neural_net_label_input(10)\n",
    "keep_prob = neural_net_keep_prob_input()\n",
    "\n",
    "# Model\n",
    "logits = conv_net(x, keep_prob)\n",
    "\n",
    "# Name logits Tensor, so that is can be loaded from disk after training\n",
    "logits = tf.identity(logits, name='logits')\n",
    "\n",
    "# Loss and Optimizer\n",
    "cost = tf.reduce_mean(tf.nn.softmax_cross_entropy_with_logits(logits=logits, labels=y))\n",
    "optimizer = tf.train.AdamOptimizer().minimize(cost)\n",
    "\n",
    "# Accuracy\n",
    "correct_pred = tf.equal(tf.argmax(logits, 1), tf.argmax(y, 1))\n",
    "accuracy = tf.reduce_mean(tf.cast(correct_pred, tf.float32), name='accuracy')\n",
    "\n",
    "tests.test_conv_net(conv_net)"
   ]
  },
  {
   "cell_type": "markdown",
   "metadata": {},
   "source": [
    "## Train the Neural Network\n",
    "### Single Optimization\n",
    "Implement the function `train_neural_network` to do a single optimization.  The optimization should use `optimizer` to optimize in `session` with a `feed_dict` of the following:\n",
    "* `x` for image input\n",
    "* `y` for labels\n",
    "* `keep_prob` for keep probability for dropout\n",
    "\n",
    "This function will be called for each batch, so `tf.global_variables_initializer()` has already been called.\n",
    "\n",
    "Note: Nothing needs to be returned. This function is only optimizing the neural network."
   ]
  },
  {
   "cell_type": "code",
   "execution_count": 13,
   "metadata": {
    "collapsed": false
   },
   "outputs": [
    {
     "name": "stdout",
     "output_type": "stream",
     "text": [
      "Tests Passed\n"
     ]
    }
   ],
   "source": [
    "def train_neural_network(session, optimizer, keep_probability, feature_batch, label_batch):\n",
    "    \"\"\"\n",
    "    Optimize the session on a batch of images and labels\n",
    "    : session: Current TensorFlow session\n",
    "    : optimizer: TensorFlow optimizer function\n",
    "    : keep_probability: keep probability\n",
    "    : feature_batch: Batch of Numpy image data\n",
    "    : label_batch: Batch of Numpy label data\n",
    "    \"\"\"\n",
    "    session.run(optimizer, {x: feature_batch,\n",
    "                            y: label_batch,\n",
    "                            keep_prob: keep_probability})\n",
    "\n",
    "\"\"\"\n",
    "DON'T MODIFY ANYTHING IN THIS CELL THAT IS BELOW THIS LINE\n",
    "\"\"\"\n",
    "tests.test_train_nn(train_neural_network)"
   ]
  },
  {
   "cell_type": "markdown",
   "metadata": {},
   "source": [
    "### Show Stats\n",
    "Implement the function `print_stats` to print loss and validation accuracy.  Use the global variables `valid_features` and `valid_labels` to calculate validation accuracy.  Use a keep probability of `1.0` to calculate the loss and validation accuracy."
   ]
  },
  {
   "cell_type": "code",
   "execution_count": 14,
   "metadata": {
    "collapsed": false
   },
   "outputs": [],
   "source": [
    "def print_stats(session, feature_batch, label_batch, cost, accuracy):\n",
    "    \"\"\"\n",
    "    Print information about loss and validation accuracy\n",
    "    : session: Current TensorFlow session\n",
    "    : feature_batch: Batch of Numpy image data\n",
    "    : label_batch: Batch of Numpy label data\n",
    "    : cost: TensorFlow cost function\n",
    "    : accuracy: TensorFlow accuracy function\n",
    "    \"\"\"\n",
    "    global valid_features\n",
    "    global valid_labels\n",
    "    global been_called\n",
    "    loss = session.run(cost, {x: feature_batch,\n",
    "                              y: label_batch,\n",
    "                              keep_prob: 1.0})\n",
    "    acc = session.run(accuracy, {x: valid_features,\n",
    "                                 y: valid_labels,\n",
    "                                 keep_prob: 1.0})\n",
    "    print(\"current loss = {:>3.3f} and accuracy = {:>4.2f}%\".format(loss, acc*100))"
   ]
  },
  {
   "cell_type": "markdown",
   "metadata": {},
   "source": [
    "### Hyperparameters\n",
    "Tune the following parameters:\n",
    "* Set `epochs` to the number of iterations until the network stops learning or start overfitting\n",
    "* Set `batch_size` to the highest number that your machine has memory for.  Most people set them to common sizes of memory:\n",
    " * 64\n",
    " * 128\n",
    " * 256\n",
    " * ...\n",
    "* Set `keep_probability` to the probability of keeping a node using dropout"
   ]
  },
  {
   "cell_type": "code",
   "execution_count": 15,
   "metadata": {
    "collapsed": true
   },
   "outputs": [],
   "source": [
    "# TODO: Tune Parameters\n",
    "epochs = 50\n",
    "batch_size = 64\n",
    "keep_probability = 0.8"
   ]
  },
  {
   "cell_type": "markdown",
   "metadata": {},
   "source": [
    "### Train on a Single CIFAR-10 Batch\n",
    "Instead of training the neural network on all the CIFAR-10 batches of data, let's use a single batch. This should save time while you iterate on the model to get a better accuracy.  Once the final validation accuracy is 50% or greater, run the model on all the data in the next section."
   ]
  },
  {
   "cell_type": "code",
   "execution_count": null,
   "metadata": {
    "collapsed": false
   },
   "outputs": [
    {
     "name": "stdout",
     "output_type": "stream",
     "text": [
      "Checking the Training on a Single Batch...\n",
      "Epoch  1, CIFAR-10 Batch 1:  current loss = 2.934 and accuracy = 12.52%\n",
      "Epoch  2, CIFAR-10 Batch 1:  current loss = 2.924 and accuracy = 13.38%\n",
      "Epoch  3, CIFAR-10 Batch 1:  current loss = 2.339 and accuracy = 14.98%\n",
      "Epoch  4, CIFAR-10 Batch 1:  current loss = 2.243 and accuracy = 19.64%\n",
      "Epoch  5, CIFAR-10 Batch 1:  current loss = 2.351 and accuracy = 17.40%\n",
      "Epoch  6, CIFAR-10 Batch 1:  current loss = 2.449 and accuracy = 17.98%\n",
      "Epoch  7, CIFAR-10 Batch 1:  current loss = 2.219 and accuracy = 19.12%\n",
      "Epoch  8, CIFAR-10 Batch 1:  current loss = 2.192 and accuracy = 19.94%\n",
      "Epoch  9, CIFAR-10 Batch 1:  current loss = 1.997 and accuracy = 21.48%\n",
      "Epoch 10, CIFAR-10 Batch 1:  current loss = 2.239 and accuracy = 18.62%\n",
      "Epoch 11, CIFAR-10 Batch 1:  current loss = 2.196 and accuracy = 20.74%\n",
      "Epoch 12, CIFAR-10 Batch 1:  current loss = 2.227 and accuracy = 23.00%\n",
      "Epoch 13, CIFAR-10 Batch 1:  current loss = 2.177 and accuracy = 20.86%\n",
      "Epoch 14, CIFAR-10 Batch 1:  current loss = 2.267 and accuracy = 21.56%\n",
      "Epoch 15, CIFAR-10 Batch 1:  current loss = 2.172 and accuracy = 23.32%\n",
      "Epoch 16, CIFAR-10 Batch 1:  current loss = 2.095 and accuracy = 24.20%\n",
      "Epoch 17, CIFAR-10 Batch 1:  current loss = 2.197 and accuracy = 23.02%\n",
      "Epoch 18, CIFAR-10 Batch 1:  current loss = 2.173 and accuracy = 23.84%\n",
      "Epoch 19, CIFAR-10 Batch 1:  current loss = 2.141 and accuracy = 25.86%\n",
      "Epoch 20, CIFAR-10 Batch 1:  current loss = 2.190 and accuracy = 25.34%\n",
      "Epoch 21, CIFAR-10 Batch 1:  current loss = 2.176 and accuracy = 27.42%\n",
      "Epoch 22, CIFAR-10 Batch 1:  current loss = 2.202 and accuracy = 25.80%\n",
      "Epoch 23, CIFAR-10 Batch 1:  current loss = 2.125 and accuracy = 24.04%\n",
      "Epoch 24, CIFAR-10 Batch 1:  current loss = 2.162 and accuracy = 25.66%\n",
      "Epoch 25, CIFAR-10 Batch 1:  current loss = 2.182 and accuracy = 26.34%\n",
      "Epoch 26, CIFAR-10 Batch 1:  current loss = 2.197 and accuracy = 28.06%\n",
      "Epoch 27, CIFAR-10 Batch 1:  current loss = 2.229 and accuracy = 27.76%\n",
      "Epoch 28, CIFAR-10 Batch 1:  current loss = 2.169 and accuracy = 28.14%\n",
      "Epoch 29, CIFAR-10 Batch 1:  current loss = 2.061 and accuracy = 27.12%\n",
      "Epoch 30, CIFAR-10 Batch 1:  current loss = 2.315 and accuracy = 27.36%\n",
      "Epoch 31, CIFAR-10 Batch 1:  current loss = 2.249 and accuracy = 28.86%\n",
      "Epoch 32, CIFAR-10 Batch 1:  current loss = 2.194 and accuracy = 27.74%\n",
      "Epoch 33, CIFAR-10 Batch 1:  current loss = 2.173 and accuracy = 27.00%\n",
      "Epoch 34, CIFAR-10 Batch 1:  current loss = 2.146 and accuracy = 27.62%\n",
      "Epoch 35, CIFAR-10 Batch 1:  current loss = 2.128 and accuracy = 26.78%\n",
      "Epoch 36, CIFAR-10 Batch 1:  current loss = 2.120 and accuracy = 27.72%\n",
      "Epoch 37, CIFAR-10 Batch 1:  current loss = 2.236 and accuracy = 29.26%\n",
      "Epoch 38, CIFAR-10 Batch 1:  current loss = 2.150 and accuracy = 28.54%\n",
      "Epoch 39, CIFAR-10 Batch 1:  current loss = 2.152 and accuracy = 29.92%\n",
      "Epoch 40, CIFAR-10 Batch 1:  current loss = 2.072 and accuracy = 29.92%\n",
      "Epoch 41, CIFAR-10 Batch 1:  current loss = 2.165 and accuracy = 30.24%\n",
      "Epoch 42, CIFAR-10 Batch 1:  current loss = 2.138 and accuracy = 30.92%\n",
      "Epoch 43, CIFAR-10 Batch 1:  current loss = 2.137 and accuracy = 30.68%\n",
      "Epoch 44, CIFAR-10 Batch 1:  current loss = 2.230 and accuracy = 30.60%\n",
      "Epoch 45, CIFAR-10 Batch 1:  current loss = 2.224 and accuracy = 30.10%\n",
      "Epoch 46, CIFAR-10 Batch 1:  current loss = 2.149 and accuracy = 30.00%\n",
      "Epoch 47, CIFAR-10 Batch 1:  current loss = 2.198 and accuracy = 29.90%\n",
      "Epoch 48, CIFAR-10 Batch 1:  current loss = 2.106 and accuracy = 30.80%\n",
      "Epoch 49, CIFAR-10 Batch 1:  current loss = 2.161 and accuracy = 30.78%\n",
      "Epoch 50, CIFAR-10 Batch 1:  current loss = 2.155 and accuracy = 32.34%\n"
     ]
    }
   ],
   "source": [
    "\"\"\"\n",
    "DON'T MODIFY ANYTHING IN THIS CELL\n",
    "\"\"\"\n",
    "print('Checking the Training on a Single Batch...')\n",
    "with tf.Session() as sess:\n",
    "    # Initializing the variables\n",
    "    sess.run(tf.global_variables_initializer())\n",
    "    \n",
    "    # Training cycle\n",
    "    for epoch in range(epochs):\n",
    "        batch_i = 1\n",
    "        for batch_features, batch_labels in helper.load_preprocess_training_batch(batch_i, batch_size):\n",
    "            train_neural_network(sess, optimizer, keep_probability, batch_features, batch_labels)\n",
    "        print('Epoch {:>2}, CIFAR-10 Batch {}:  '.format(epoch + 1, batch_i), end='')\n",
    "        print_stats(sess, batch_features, batch_labels, cost, accuracy)"
   ]
  },
  {
   "cell_type": "markdown",
   "metadata": {},
   "source": [
    "### Fully Train the Model\n",
    "Now that you got a good accuracy with a single CIFAR-10 batch, try it with all five batches."
   ]
  },
  {
   "cell_type": "code",
   "execution_count": null,
   "metadata": {
    "collapsed": false,
    "scrolled": false
   },
   "outputs": [
    {
     "name": "stdout",
     "output_type": "stream",
     "text": [
      "Training...\n",
      "Epoch  1, CIFAR-10 Batch 1:  current loss = 3.002 and accuracy = 13.26%\n",
      "Epoch  1, CIFAR-10 Batch 2:  current loss = 2.615 and accuracy = 14.54%\n",
      "Epoch  1, CIFAR-10 Batch 3:  current loss = 2.399 and accuracy = 12.48%\n",
      "Epoch  1, CIFAR-10 Batch 4:  current loss = 2.197 and accuracy = 15.06%\n",
      "Epoch  1, CIFAR-10 Batch 5:  current loss = 2.114 and accuracy = 16.52%\n",
      "Epoch  2, CIFAR-10 Batch 1:  current loss = 2.254 and accuracy = 18.10%\n",
      "Epoch  2, CIFAR-10 Batch 2:  current loss = 2.297 and accuracy = 17.46%\n",
      "Epoch  2, CIFAR-10 Batch 3:  current loss = 2.142 and accuracy = 19.84%\n",
      "Epoch  2, CIFAR-10 Batch 4:  current loss = 2.078 and accuracy = 20.28%\n",
      "Epoch  2, CIFAR-10 Batch 5:  current loss = 2.166 and accuracy = 21.00%\n",
      "Epoch  3, CIFAR-10 Batch 1:  current loss = 2.127 and accuracy = 21.16%\n",
      "Epoch  3, CIFAR-10 Batch 2:  current loss = 2.269 and accuracy = 22.78%\n",
      "Epoch  3, CIFAR-10 Batch 3:  current loss = 1.970 and accuracy = 20.70%\n",
      "Epoch  3, CIFAR-10 Batch 4:  current loss = 1.952 and accuracy = 24.32%\n",
      "Epoch  3, CIFAR-10 Batch 5:  current loss = 2.101 and accuracy = 23.04%\n",
      "Epoch  4, CIFAR-10 Batch 1:  current loss = 2.199 and accuracy = 24.52%\n",
      "Epoch  4, CIFAR-10 Batch 2:  current loss = 2.249 and accuracy = 26.04%\n",
      "Epoch  4, CIFAR-10 Batch 3:  current loss = 1.930 and accuracy = 23.60%\n",
      "Epoch  4, CIFAR-10 Batch 4:  current loss = 2.026 and accuracy = 26.00%\n",
      "Epoch  4, CIFAR-10 Batch 5:  current loss = 2.228 and accuracy = 22.80%\n",
      "Epoch  5, CIFAR-10 Batch 1:  current loss = 2.234 and accuracy = 25.60%\n",
      "Epoch  5, CIFAR-10 Batch 2:  current loss = 2.155 and accuracy = 25.80%\n",
      "Epoch  5, CIFAR-10 Batch 3:  current loss = 2.091 and accuracy = 26.02%\n",
      "Epoch  5, CIFAR-10 Batch 4:  current loss = 1.912 and accuracy = 25.96%\n",
      "Epoch  5, CIFAR-10 Batch 5:  current loss = 2.142 and accuracy = 25.66%\n",
      "Epoch  6, CIFAR-10 Batch 1:  current loss = 2.189 and accuracy = 27.58%\n",
      "Epoch  6, CIFAR-10 Batch 2:  current loss = 2.114 and accuracy = 27.12%\n",
      "Epoch  6, CIFAR-10 Batch 3:  current loss = 1.930 and accuracy = 25.66%\n",
      "Epoch  6, CIFAR-10 Batch 4:  current loss = 1.957 and accuracy = 26.26%\n",
      "Epoch  6, CIFAR-10 Batch 5:  current loss = 2.034 and accuracy = 27.16%\n",
      "Epoch  7, CIFAR-10 Batch 1:  current loss = 2.088 and accuracy = 27.80%\n",
      "Epoch  7, CIFAR-10 Batch 2:  current loss = 2.103 and accuracy = 27.24%\n",
      "Epoch  7, CIFAR-10 Batch 3:  current loss = 1.845 and accuracy = 28.62%\n",
      "Epoch  7, CIFAR-10 Batch 4:  current loss = 1.934 and accuracy = 27.92%\n",
      "Epoch  7, CIFAR-10 Batch 5:  current loss = 2.124 and accuracy = 25.84%\n",
      "Epoch  8, CIFAR-10 Batch 1:  current loss = 2.159 and accuracy = 27.96%\n",
      "Epoch  8, CIFAR-10 Batch 2:  current loss = 2.092 and accuracy = 29.28%\n",
      "Epoch  8, CIFAR-10 Batch 3:  current loss = 1.863 and accuracy = 28.92%\n",
      "Epoch  8, CIFAR-10 Batch 4:  current loss = 1.925 and accuracy = 27.88%\n",
      "Epoch  8, CIFAR-10 Batch 5:  current loss = 2.104 and accuracy = 29.62%\n",
      "Epoch  9, CIFAR-10 Batch 1:  current loss = 2.134 and accuracy = 28.64%\n",
      "Epoch  9, CIFAR-10 Batch 2:  current loss = 2.091 and accuracy = 29.60%\n",
      "Epoch  9, CIFAR-10 Batch 3:  current loss = 1.804 and accuracy = 28.34%\n",
      "Epoch  9, CIFAR-10 Batch 4:  current loss = 1.928 and accuracy = 28.02%\n",
      "Epoch  9, CIFAR-10 Batch 5:  current loss = 2.046 and accuracy = 28.56%\n",
      "Epoch 10, CIFAR-10 Batch 1:  current loss = 2.172 and accuracy = 28.92%\n",
      "Epoch 10, CIFAR-10 Batch 2:  current loss = 2.017 and accuracy = 28.54%\n",
      "Epoch 10, CIFAR-10 Batch 3:  current loss = 1.796 and accuracy = 29.42%\n",
      "Epoch 10, CIFAR-10 Batch 4:  current loss = 1.883 and accuracy = 29.26%\n",
      "Epoch 10, CIFAR-10 Batch 5:  current loss = 1.901 and accuracy = 28.94%\n",
      "Epoch 11, CIFAR-10 Batch 1:  current loss = 2.174 and accuracy = 29.64%\n",
      "Epoch 11, CIFAR-10 Batch 2:  current loss = 2.021 and accuracy = 29.88%\n",
      "Epoch 11, CIFAR-10 Batch 3:  current loss = 1.789 and accuracy = 27.98%\n",
      "Epoch 11, CIFAR-10 Batch 4:  current loss = 1.906 and accuracy = 29.00%\n",
      "Epoch 11, CIFAR-10 Batch 5:  current loss = 2.008 and accuracy = 29.10%\n",
      "Epoch 12, CIFAR-10 Batch 1:  current loss = 2.121 and accuracy = 28.00%\n",
      "Epoch 12, CIFAR-10 Batch 2:  current loss = 2.009 and accuracy = 27.14%\n",
      "Epoch 12, CIFAR-10 Batch 3:  current loss = 1.820 and accuracy = 29.58%\n",
      "Epoch 12, CIFAR-10 Batch 4:  current loss = 1.875 and accuracy = 29.64%\n",
      "Epoch 12, CIFAR-10 Batch 5:  current loss = 2.021 and accuracy = 29.78%\n",
      "Epoch 13, CIFAR-10 Batch 1:  current loss = 2.227 and accuracy = 29.26%\n",
      "Epoch 13, CIFAR-10 Batch 2:  current loss = 1.987 and accuracy = 30.26%\n",
      "Epoch 13, CIFAR-10 Batch 3:  current loss = 1.682 and accuracy = 29.34%\n",
      "Epoch 13, CIFAR-10 Batch 4:  current loss = 1.862 and accuracy = 29.08%\n",
      "Epoch 13, CIFAR-10 Batch 5:  current loss = 2.053 and accuracy = 29.70%\n",
      "Epoch 14, CIFAR-10 Batch 1:  current loss = 2.154 and accuracy = 31.24%\n",
      "Epoch 14, CIFAR-10 Batch 2:  current loss = 2.037 and accuracy = 31.10%\n",
      "Epoch 14, CIFAR-10 Batch 3:  current loss = 1.669 and accuracy = 30.94%\n",
      "Epoch 14, CIFAR-10 Batch 4:  current loss = 1.838 and accuracy = 31.44%\n",
      "Epoch 14, CIFAR-10 Batch 5:  current loss = 1.939 and accuracy = 31.54%\n",
      "Epoch 15, CIFAR-10 Batch 1:  current loss = 2.125 and accuracy = 30.82%\n",
      "Epoch 15, CIFAR-10 Batch 2:  current loss = 1.997 and accuracy = 31.28%\n",
      "Epoch 15, CIFAR-10 Batch 3:  current loss = 1.672 and accuracy = 29.88%\n",
      "Epoch 15, CIFAR-10 Batch 4:  current loss = 1.881 and accuracy = 30.24%\n",
      "Epoch 15, CIFAR-10 Batch 5:  current loss = 1.901 and accuracy = 31.98%\n",
      "Epoch 16, CIFAR-10 Batch 1:  current loss = 2.111 and accuracy = 30.64%\n",
      "Epoch 16, CIFAR-10 Batch 2:  current loss = 1.983 and accuracy = 32.28%\n",
      "Epoch 16, CIFAR-10 Batch 3:  current loss = 1.740 and accuracy = 30.04%\n",
      "Epoch 16, CIFAR-10 Batch 4:  current loss = 1.794 and accuracy = 29.96%\n",
      "Epoch 16, CIFAR-10 Batch 5:  current loss = 1.984 and accuracy = 31.40%\n",
      "Epoch 17, CIFAR-10 Batch 1:  current loss = 2.090 and accuracy = 32.34%\n",
      "Epoch 17, CIFAR-10 Batch 2:  current loss = 2.004 and accuracy = 31.60%\n",
      "Epoch 17, CIFAR-10 Batch 3:  current loss = 1.679 and accuracy = 32.76%\n",
      "Epoch 17, CIFAR-10 Batch 4:  current loss = 1.688 and accuracy = 33.20%\n",
      "Epoch 17, CIFAR-10 Batch 5:  current loss = 2.000 and accuracy = 32.48%\n",
      "Epoch 18, CIFAR-10 Batch 1:  current loss = 2.167 and accuracy = 31.60%\n",
      "Epoch 18, CIFAR-10 Batch 2:  current loss = 2.008 and accuracy = 33.08%\n",
      "Epoch 18, CIFAR-10 Batch 3:  current loss = 1.642 and accuracy = 30.32%\n",
      "Epoch 18, CIFAR-10 Batch 4:  current loss = 1.754 and accuracy = 32.60%\n",
      "Epoch 18, CIFAR-10 Batch 5:  current loss = 1.975 and accuracy = 33.12%\n",
      "Epoch 19, CIFAR-10 Batch 1:  current loss = 2.130 and accuracy = 32.52%\n",
      "Epoch 19, CIFAR-10 Batch 2:  current loss = 1.950 and accuracy = 32.76%\n",
      "Epoch 19, CIFAR-10 Batch 3:  current loss = 1.653 and accuracy = 33.16%\n",
      "Epoch 19, CIFAR-10 Batch 4:  current loss = 1.694 and accuracy = 33.58%\n",
      "Epoch 19, CIFAR-10 Batch 5:  current loss = 1.924 and accuracy = 31.64%\n",
      "Epoch 20, CIFAR-10 Batch 1:  current loss = 2.110 and accuracy = 30.92%\n",
      "Epoch 20, CIFAR-10 Batch 2:  current loss = 2.048 and accuracy = 33.00%\n",
      "Epoch 20, CIFAR-10 Batch 3:  current loss = 1.656 and accuracy = 32.72%\n",
      "Epoch 20, CIFAR-10 Batch 4:  current loss = 1.720 and accuracy = 33.56%\n",
      "Epoch 20, CIFAR-10 Batch 5:  current loss = 1.899 and accuracy = 34.28%\n",
      "Epoch 21, CIFAR-10 Batch 1:  current loss = 2.066 and accuracy = 34.54%\n",
      "Epoch 21, CIFAR-10 Batch 2:  current loss = 1.992 and accuracy = 33.26%\n",
      "Epoch 21, CIFAR-10 Batch 3:  current loss = 1.619 and accuracy = 34.08%\n",
      "Epoch 21, CIFAR-10 Batch 4:  current loss = 1.724 and accuracy = 34.84%\n",
      "Epoch 21, CIFAR-10 Batch 5:  current loss = 1.858 and accuracy = 34.76%\n",
      "Epoch 22, CIFAR-10 Batch 1:  current loss = 2.267 and accuracy = 33.20%\n",
      "Epoch 22, CIFAR-10 Batch 2:  current loss = 1.942 and accuracy = 34.32%\n",
      "Epoch 22, CIFAR-10 Batch 3:  current loss = 1.610 and accuracy = 34.22%\n",
      "Epoch 22, CIFAR-10 Batch 4:  current loss = 1.771 and accuracy = 34.62%\n",
      "Epoch 22, CIFAR-10 Batch 5:  current loss = 1.920 and accuracy = 33.14%\n",
      "Epoch 23, CIFAR-10 Batch 1:  current loss = 1.986 and accuracy = 33.78%\n",
      "Epoch 23, CIFAR-10 Batch 2:  current loss = 1.984 and accuracy = 33.10%\n",
      "Epoch 23, CIFAR-10 Batch 3:  current loss = 1.584 and accuracy = 32.68%\n",
      "Epoch 23, CIFAR-10 Batch 4:  current loss = 1.720 and accuracy = 33.56%\n",
      "Epoch 23, CIFAR-10 Batch 5:  current loss = 1.859 and accuracy = 34.04%\n",
      "Epoch 24, CIFAR-10 Batch 1:  current loss = 2.048 and accuracy = 34.18%\n",
      "Epoch 24, CIFAR-10 Batch 2:  current loss = 1.951 and accuracy = 34.54%\n",
      "Epoch 24, CIFAR-10 Batch 3:  current loss = 1.586 and accuracy = 32.68%\n",
      "Epoch 24, CIFAR-10 Batch 4:  current loss = 1.774 and accuracy = 34.06%\n",
      "Epoch 24, CIFAR-10 Batch 5:  current loss = 1.793 and accuracy = 35.40%\n",
      "Epoch 25, CIFAR-10 Batch 1:  current loss = 1.974 and accuracy = 33.28%\n",
      "Epoch 25, CIFAR-10 Batch 2:  current loss = 1.848 and accuracy = 34.08%\n",
      "Epoch 25, CIFAR-10 Batch 3:  current loss = 1.570 and accuracy = 35.18%\n",
      "Epoch 25, CIFAR-10 Batch 4:  current loss = 1.738 and accuracy = 32.18%\n",
      "Epoch 25, CIFAR-10 Batch 5:  current loss = 1.828 and accuracy = 32.90%\n",
      "Epoch 26, CIFAR-10 Batch 1:  current loss = 2.056 and accuracy = 35.36%\n",
      "Epoch 26, CIFAR-10 Batch 2:  current loss = 1.939 and accuracy = 34.92%\n",
      "Epoch 26, CIFAR-10 Batch 3:  current loss = 1.513 and accuracy = 34.56%\n",
      "Epoch 26, CIFAR-10 Batch 4:  current loss = 1.743 and accuracy = 33.72%\n",
      "Epoch 26, CIFAR-10 Batch 5:  current loss = 1.886 and accuracy = 33.56%\n",
      "Epoch 27, CIFAR-10 Batch 1:  current loss = 2.180 and accuracy = 34.36%\n",
      "Epoch 27, CIFAR-10 Batch 2:  current loss = 1.796 and accuracy = 34.22%\n",
      "Epoch 27, CIFAR-10 Batch 3:  current loss = 1.548 and accuracy = 35.44%\n",
      "Epoch 27, CIFAR-10 Batch 4:  current loss = 1.674 and accuracy = 34.90%\n",
      "Epoch 27, CIFAR-10 Batch 5:  current loss = 1.947 and accuracy = 34.24%\n",
      "Epoch 28, CIFAR-10 Batch 1:  current loss = 1.974 and accuracy = 34.76%\n",
      "Epoch 28, CIFAR-10 Batch 2:  current loss = 2.053 and accuracy = 35.10%\n",
      "Epoch 28, CIFAR-10 Batch 3:  current loss = 1.574 and accuracy = 35.74%\n",
      "Epoch 28, CIFAR-10 Batch 4:  current loss = 1.656 and accuracy = 34.72%\n",
      "Epoch 28, CIFAR-10 Batch 5:  current loss = 1.904 and accuracy = 35.94%\n",
      "Epoch 29, CIFAR-10 Batch 1:  current loss = 2.008 and accuracy = 36.74%\n",
      "Epoch 29, CIFAR-10 Batch 2:  current loss = 1.920 and accuracy = 35.96%\n",
      "Epoch 29, CIFAR-10 Batch 3:  current loss = 1.603 and accuracy = 35.72%\n",
      "Epoch 29, CIFAR-10 Batch 4:  current loss = 1.707 and accuracy = 36.20%\n",
      "Epoch 29, CIFAR-10 Batch 5:  current loss = 1.814 and accuracy = 36.26%\n",
      "Epoch 30, CIFAR-10 Batch 1:  current loss = 2.033 and accuracy = 36.94%\n",
      "Epoch 30, CIFAR-10 Batch 2:  current loss = 1.927 and accuracy = 36.64%\n",
      "Epoch 30, CIFAR-10 Batch 3:  current loss = 1.497 and accuracy = 35.22%\n",
      "Epoch 30, CIFAR-10 Batch 4:  current loss = 1.656 and accuracy = 37.42%\n",
      "Epoch 30, CIFAR-10 Batch 5:  current loss = 1.812 and accuracy = 36.22%\n",
      "Epoch 31, CIFAR-10 Batch 1:  current loss = 2.052 and accuracy = 36.64%\n",
      "Epoch 31, CIFAR-10 Batch 2:  current loss = 1.848 and accuracy = 35.98%\n",
      "Epoch 31, CIFAR-10 Batch 3:  current loss = 1.561 and accuracy = 35.60%\n",
      "Epoch 31, CIFAR-10 Batch 4:  current loss = 1.713 and accuracy = 36.96%\n",
      "Epoch 31, CIFAR-10 Batch 5:  current loss = 1.886 and accuracy = 36.88%\n",
      "Epoch 32, CIFAR-10 Batch 1:  current loss = 1.997 and accuracy = 36.94%\n",
      "Epoch 32, CIFAR-10 Batch 2:  current loss = 1.859 and accuracy = 37.16%\n",
      "Epoch 32, CIFAR-10 Batch 3:  current loss = 1.525 and accuracy = 37.22%\n",
      "Epoch 32, CIFAR-10 Batch 4:  current loss = 1.711 and accuracy = 36.94%\n",
      "Epoch 32, CIFAR-10 Batch 5:  current loss = 1.893 and accuracy = 36.28%\n",
      "Epoch 33, CIFAR-10 Batch 1:  current loss = 2.045 and accuracy = 36.92%\n",
      "Epoch 33, CIFAR-10 Batch 2:  current loss = 1.883 and accuracy = 37.10%\n",
      "Epoch 33, CIFAR-10 Batch 3:  current loss = 1.576 and accuracy = 35.30%\n",
      "Epoch 33, CIFAR-10 Batch 4:  current loss = 1.622 and accuracy = 36.98%\n",
      "Epoch 33, CIFAR-10 Batch 5:  current loss = 1.783 and accuracy = 36.82%\n",
      "Epoch 34, CIFAR-10 Batch 1:  current loss = 1.987 and accuracy = 35.60%\n",
      "Epoch 34, CIFAR-10 Batch 2:  current loss = 1.851 and accuracy = 36.44%\n",
      "Epoch 34, CIFAR-10 Batch 3:  current loss = 1.516 and accuracy = 37.68%\n",
      "Epoch 34, CIFAR-10 Batch 4:  current loss = 1.678 and accuracy = 37.36%\n",
      "Epoch 34, CIFAR-10 Batch 5:  current loss = 1.762 and accuracy = 36.48%\n",
      "Epoch 35, CIFAR-10 Batch 1:  current loss = 1.976 and accuracy = 37.60%\n",
      "Epoch 35, CIFAR-10 Batch 2:  current loss = 1.723 and accuracy = 36.16%\n",
      "Epoch 35, CIFAR-10 Batch 3:  current loss = 1.480 and accuracy = 34.98%\n",
      "Epoch 35, CIFAR-10 Batch 4:  current loss = 1.651 and accuracy = 34.84%\n",
      "Epoch 35, CIFAR-10 Batch 5:  current loss = 1.837 and accuracy = 36.02%\n",
      "Epoch 36, CIFAR-10 Batch 1:  current loss = 2.032 and accuracy = 36.18%\n",
      "Epoch 36, CIFAR-10 Batch 2:  current loss = 1.742 and accuracy = 37.18%\n",
      "Epoch 36, CIFAR-10 Batch 3:  current loss = 1.504 and accuracy = 36.68%\n",
      "Epoch 36, CIFAR-10 Batch 4:  current loss = 1.631 and accuracy = 37.46%\n",
      "Epoch 36, CIFAR-10 Batch 5:  current loss = 1.786 and accuracy = 35.66%\n",
      "Epoch 37, CIFAR-10 Batch 1:  current loss = 2.009 and accuracy = 38.28%\n",
      "Epoch 37, CIFAR-10 Batch 2:  current loss = 1.863 and accuracy = 37.02%\n",
      "Epoch 37, CIFAR-10 Batch 3:  current loss = 1.510 and accuracy = 37.78%\n",
      "Epoch 37, CIFAR-10 Batch 4:  current loss = 1.687 and accuracy = 38.10%\n",
      "Epoch 37, CIFAR-10 Batch 5:  current loss = 1.829 and accuracy = 36.98%\n",
      "Epoch 38, CIFAR-10 Batch 1:  current loss = 1.997 and accuracy = 37.68%\n",
      "Epoch 38, CIFAR-10 Batch 2:  current loss = 1.797 and accuracy = 38.34%\n",
      "Epoch 38, CIFAR-10 Batch 3:  current loss = 1.453 and accuracy = 38.20%\n",
      "Epoch 38, CIFAR-10 Batch 4:  current loss = 1.624 and accuracy = 37.96%\n",
      "Epoch 38, CIFAR-10 Batch 5:  current loss = 1.724 and accuracy = 37.66%\n",
      "Epoch 39, CIFAR-10 Batch 1:  current loss = 1.984 and accuracy = 38.56%\n",
      "Epoch 39, CIFAR-10 Batch 2:  current loss = 1.809 and accuracy = 38.18%\n",
      "Epoch 39, CIFAR-10 Batch 3:  current loss = 1.544 and accuracy = 38.58%\n",
      "Epoch 39, CIFAR-10 Batch 4:  current loss = 1.623 and accuracy = 38.52%\n",
      "Epoch 39, CIFAR-10 Batch 5:  current loss = 1.838 and accuracy = 38.72%\n",
      "Epoch 40, CIFAR-10 Batch 1:  current loss = 2.038 and accuracy = 36.74%\n",
      "Epoch 40, CIFAR-10 Batch 2:  current loss = 1.824 and accuracy = 38.56%\n",
      "Epoch 40, CIFAR-10 Batch 3:  current loss = 1.533 and accuracy = 39.26%\n",
      "Epoch 40, CIFAR-10 Batch 4:  current loss = 1.667 and accuracy = 39.28%\n",
      "Epoch 40, CIFAR-10 Batch 5:  current loss = 1.797 and accuracy = 37.68%\n",
      "Epoch 41, CIFAR-10 Batch 1:  current loss = 1.922 and accuracy = 38.54%\n",
      "Epoch 41, CIFAR-10 Batch 2:  current loss = 1.851 and accuracy = 37.48%\n",
      "Epoch 41, CIFAR-10 Batch 3:  current loss = 1.556 and accuracy = 36.88%\n",
      "Epoch 41, CIFAR-10 Batch 4:  current loss = 1.662 and accuracy = 36.84%\n",
      "Epoch 41, CIFAR-10 Batch 5:  current loss = 1.788 and accuracy = 36.48%\n",
      "Epoch 42, CIFAR-10 Batch 1:  current loss = 1.914 and accuracy = 38.04%\n",
      "Epoch 42, CIFAR-10 Batch 2:  current loss = 1.836 and accuracy = 39.00%\n",
      "Epoch 42, CIFAR-10 Batch 3:  current loss = 1.488 and accuracy = 37.20%\n",
      "Epoch 42, CIFAR-10 Batch 4:  current loss = 1.639 and accuracy = 39.06%\n",
      "Epoch 42, CIFAR-10 Batch 5:  current loss = 1.739 and accuracy = 38.94%\n",
      "Epoch 43, CIFAR-10 Batch 1:  current loss = 1.956 and accuracy = 39.90%\n",
      "Epoch 43, CIFAR-10 Batch 2:  current loss = 1.811 and accuracy = 39.70%\n",
      "Epoch 43, CIFAR-10 Batch 3:  current loss = 1.499 and accuracy = 38.62%\n",
      "Epoch 43, CIFAR-10 Batch 4:  current loss = 1.621 and accuracy = 39.76%\n",
      "Epoch 43, CIFAR-10 Batch 5:  current loss = 1.772 and accuracy = 38.58%\n",
      "Epoch 44, CIFAR-10 Batch 1:  current loss = 1.914 and accuracy = 37.38%\n",
      "Epoch 44, CIFAR-10 Batch 2:  current loss = 1.815 and accuracy = 38.64%\n",
      "Epoch 44, CIFAR-10 Batch 3:  current loss = 1.540 and accuracy = 38.44%\n",
      "Epoch 44, CIFAR-10 Batch 4:  current loss = 1.605 and accuracy = 36.70%\n",
      "Epoch 44, CIFAR-10 Batch 5:  current loss = 1.702 and accuracy = 37.96%\n",
      "Epoch 45, CIFAR-10 Batch 1:  current loss = 1.971 and accuracy = 37.20%\n"
     ]
    }
   ],
   "source": [
    "\"\"\"\n",
    "DON'T MODIFY ANYTHING IN THIS CELL\n",
    "\"\"\"\n",
    "save_model_path = './image_classification'\n",
    "\n",
    "print('Training...')\n",
    "with tf.Session() as sess:\n",
    "    # Initializing the variables\n",
    "    sess.run(tf.global_variables_initializer())\n",
    "\n",
    "    # Training cycle\n",
    "    for epoch in range(epochs):\n",
    "        # Loop over all batches\n",
    "        n_batches = 5\n",
    "        for batch_i in range(1, n_batches + 1):\n",
    "            for batch_features, batch_labels in helper.load_preprocess_training_batch(batch_i, batch_size):\n",
    "                train_neural_network(sess, optimizer, keep_probability, batch_features, batch_labels)\n",
    "            print('Epoch {:>2}, CIFAR-10 Batch {}:  '.format(epoch + 1, batch_i), end='')\n",
    "            print_stats(sess, batch_features, batch_labels, cost, accuracy)\n",
    "    # Save Model\n",
    "    saver = tf.train.Saver()\n",
    "    save_path = saver.save(sess, save_model_path)"
   ]
  },
  {
   "cell_type": "markdown",
   "metadata": {},
   "source": [
    "# Checkpoint\n",
    "The model has been saved to disk.\n",
    "## Test Model\n",
    "Test your model against the test dataset.  This will be your final accuracy. You should have an accuracy greater than 50%. If you don't, keep tweaking the model architecture and parameters."
   ]
  },
  {
   "cell_type": "code",
   "execution_count": 20,
   "metadata": {
    "collapsed": false
   },
   "outputs": [
    {
     "name": "stdout",
     "output_type": "stream",
     "text": [
      "Testing Accuracy: 0.3993829617834395\n",
      "\n"
     ]
    },
    {
     "data": {
      "image/png": "[encoded data removed]",
      "text/plain": [
       "<matplotlib.figure.Figure at 0x115481208>"
      ]
     },
     "metadata": {
      "image/png": {
       "height": 319,
       "width": 355
      }
     },
     "output_type": "display_data"
    }
   ],
   "source": [
    "\"\"\"\n",
    "DON'T MODIFY ANYTHING IN THIS CELL\n",
    "\"\"\"\n",
    "%matplotlib inline\n",
    "%config InlineBackend.figure_format = 'retina'\n",
    "\n",
    "import tensorflow as tf\n",
    "import pickle\n",
    "import helper\n",
    "import random\n",
    "\n",
    "# Set batch size if not already set\n",
    "try:\n",
    "    if batch_size:\n",
    "        pass\n",
    "except NameError:\n",
    "    batch_size = 64\n",
    "\n",
    "save_model_path = './image_classification'\n",
    "n_samples = 4\n",
    "top_n_predictions = 3\n",
    "\n",
    "def test_model():\n",
    "    \"\"\"\n",
    "    Test the saved model against the test dataset\n",
    "    \"\"\"\n",
    "\n",
    "    test_features, test_labels = pickle.load(open('preprocess_training.p', mode='rb'))\n",
    "    loaded_graph = tf.Graph()\n",
    "\n",
    "    with tf.Session(graph=loaded_graph) as sess:\n",
    "        # Load model\n",
    "        loader = tf.train.import_meta_graph(save_model_path + '.meta')\n",
    "        loader.restore(sess, save_model_path)\n",
    "\n",
    "        # Get Tensors from loaded model\n",
    "        loaded_x = loaded_graph.get_tensor_by_name('x:0')\n",
    "        loaded_y = loaded_graph.get_tensor_by_name('y:0')\n",
    "        loaded_keep_prob = loaded_graph.get_tensor_by_name('keep_prob:0')\n",
    "        loaded_logits = loaded_graph.get_tensor_by_name('logits:0')\n",
    "        loaded_acc = loaded_graph.get_tensor_by_name('accuracy:0')\n",
    "        \n",
    "        # Get accuracy in batches for memory limitations\n",
    "        test_batch_acc_total = 0\n",
    "        test_batch_count = 0\n",
    "        \n",
    "        for train_feature_batch, train_label_batch in helper.batch_features_labels(test_features, test_labels, batch_size):\n",
    "            test_batch_acc_total += sess.run(\n",
    "                loaded_acc,\n",
    "                feed_dict={loaded_x: train_feature_batch, loaded_y: train_label_batch, loaded_keep_prob: 1.0})\n",
    "            test_batch_count += 1\n",
    "\n",
    "        print('Testing Accuracy: {}\\n'.format(test_batch_acc_total/test_batch_count))\n",
    "\n",
    "        # Print Random Samples\n",
    "        random_test_features, random_test_labels = tuple(zip(*random.sample(list(zip(test_features, test_labels)), n_samples)))\n",
    "        random_test_predictions = sess.run(\n",
    "            tf.nn.top_k(tf.nn.softmax(loaded_logits), top_n_predictions),\n",
    "            feed_dict={loaded_x: random_test_features, loaded_y: random_test_labels, loaded_keep_prob: 1.0})\n",
    "        helper.display_image_predictions(random_test_features, random_test_labels, random_test_predictions)\n",
    "\n",
    "\n",
    "test_model()"
   ]
  },
  {
   "cell_type": "markdown",
   "metadata": {},
   "source": [
    "## Why 50-70% Accuracy?\n",
    "You might be wondering why you can't get an accuracy any higher. First things first, 50% isn't bad for a simple CNN.  Pure guessing would get you 10% accuracy. However, you might notice people are getting scores [well above 70%](http://rodrigob.github.io/are_we_there_yet/build/classification_datasets_results.html#43494641522d3130).  That's because we haven't taught you all there is to know about neural networks. We still need to cover a few more techniques.\n",
    "## Submitting This Project\n",
    "When submitting this project, make sure to run all the cells before saving the notebook.  Save the notebook file as \"dlnd_image_classification.ipynb\" and save it as a HTML file under \"File\" -> \"Download as\".  Include the \"helper.py\" and \"problem_unittests.py\" files in your submission."
   ]
  }
 ],
 "metadata": {
  "kernelspec": {
   "display_name": "Python 3",
   "language": "python",
   "name": "python3"
  },
  "language_info": {
   "codemirror_mode": {
    "name": "ipython",
    "version": 3
   },
   "file_extension": ".py",
   "mimetype": "text/x-python",
   "name": "python",
   "nbconvert_exporter": "python",
   "pygments_lexer": "ipython3",
   "version": "3.5.1"
  },
  "widgets": {
   "state": {},
   "version": "1.1.2"
  }
 },
 "nbformat": 4,
 "nbformat_minor": 0
}
